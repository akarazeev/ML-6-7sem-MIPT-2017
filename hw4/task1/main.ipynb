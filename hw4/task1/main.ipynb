{
 "cells": [
  {
   "cell_type": "code",
   "execution_count": 2,
   "metadata": {},
   "outputs": [],
   "source": [
    "import os\n",
    "import tqdm\n",
    "import xgboost\n",
    "import numpy as np\n",
    "import pandas as pd\n",
    "import matplotlib.pyplot as plt\n",
    "from xgboost import XGBClassifier\n",
    "from sklearn.metrics import accuracy_score\n",
    "from sklearn.linear_model import LogisticRegression\n",
    "from sklearn.ensemble import GradientBoostingClassifier\n",
    "from sklearn.linear_model import LinearRegression\n",
    "%matplotlib inline\n",
    "\n",
    "\n",
    "def notify(title, subtitle='', message=''):\n",
    "    t = '-title {!r}'.format(title)\n",
    "    s = '-subtitle {!r}'.format(subtitle)\n",
    "    m = '-message {!r}'.format(message)\n",
    "    os.system('terminal-notifier {}'.format(' '.join([m, t, s])))"
   ]
  },
  {
   "cell_type": "code",
   "execution_count": 3,
   "metadata": {},
   "outputs": [
    {
     "name": "stdout",
     "output_type": "stream",
     "text": [
      "1024\n",
      "383\n"
     ]
    }
   ],
   "source": [
    "def is_vowel(ch):\n",
    "    return ch.lower() in 'уеыаоэёяию'\n",
    "\n",
    "def is_consonant(ch):\n",
    "    return ch.lower() in 'йцкнгшщзхъфвпрлджчсмтьб'\n",
    "\n",
    "def num_vowels(string):\n",
    "    ans = 0\n",
    "    for c in string:\n",
    "        if is_vowel(c):\n",
    "            ans += 1\n",
    "    return ans\n",
    "\n",
    "def is_caps(string):\n",
    "    \"\"\"\n",
    "    RETURNS\n",
    "    -------\n",
    "    int : {0,1,2}\n",
    "        0 - all chars are caps\n",
    "        1 - only first char is caps\n",
    "        2 - all chars are lower\n",
    "    \n",
    "    \"\"\"\n",
    "    if all(list(map(lambda x: x == x.upper(), string))):\n",
    "        return 0\n",
    "    elif string[0] == string[0].upper():\n",
    "        return 1\n",
    "    else:\n",
    "        return 2\n",
    "\n",
    "\n",
    "alphabet = ''.join([chr(i) for i in range(ord('а'), ord('я')+1)])\n",
    "ch_gram_alphabet = []\n",
    "\n",
    "for i in alphabet:\n",
    "    for j in alphabet:\n",
    "        ch_gram_alphabet.append(i + j)\n",
    "\n",
    "print(len(ch_gram_alphabet))\n",
    "\n",
    "print(ch_gram_alphabet.index('ля'))\n",
    "\n",
    "\n",
    "def index_of_last_pair(string):\n",
    "    return ch_gram_alphabet.index(string[-2:].lower())"
   ]
  },
  {
   "cell_type": "code",
   "execution_count": 4,
   "metadata": {
    "scrolled": true
   },
   "outputs": [
    {
     "name": "stdout",
     "output_type": "stream",
     "text": [
      "1117\n",
      "CPU times: user 6.81 s, sys: 98.6 ms, total: 6.91 s\n",
      "Wall time: 7.07 s\n"
     ]
    }
   ],
   "source": [
    "%%time\n",
    "test = pd.read_csv(\"linear_test.txt\", header=None, names=['x'])\n",
    "train = pd.read_csv(\"linear_train.txt\", header=None, names=['x', 'y'])\n",
    "train_y = train['y']\n",
    "train = train.drop(['y'], axis=1)\n",
    "\n",
    "test['x'] = list(map(lambda x: x.replace('ё', 'е'), test['x']))\n",
    "train['x'] = list(map(lambda x: x.replace('ё', 'е'), train['x']))\n",
    "\n",
    "ch_gram_alphabet = list(set.union(set(ch_gram_alphabet), set(list(map(lambda x: x[-2:].lower(), train['x']))), set(list(map(lambda x: x[-2:].lower(), test['x'])))))\n",
    "print(len(ch_gram_alphabet))\n",
    "\n",
    "# train['length'] = list(map(lambda x: len(x), train['x']))\n",
    "train['vowels'] = list(map(lambda x: num_vowels(x), train['x']))\n",
    "train['caps'] = list(map(lambda x: is_caps(x), train['x']))\n",
    "train['last'] = list(map(lambda x: ord(x[-1]), train['x']))\n",
    "train['first'] = list(map(lambda x: ord(x[0]), train['x']))\n",
    "train['last_pair'] = list(map(lambda x: index_of_last_pair(x), train['x']))\n",
    "\n",
    "# test['length'] = list(map(lambda x: len(x), test['x']))\n",
    "test['vowels'] = list(map(lambda x: num_vowels(x), test['x']))\n",
    "test['caps'] = list(map(lambda x: is_caps(x), test['x']))\n",
    "test['last'] = list(map(lambda x: ord(x[-1]), test['x']))\n",
    "test['first'] = list(map(lambda x: ord(x[0]), test['x']))\n",
    "test['last_pair'] = list(map(lambda x: index_of_last_pair(x), test['x']))\n",
    "\n",
    "sample_submission = pd.read_csv(\"linear_ans_example.txt\")\n",
    "\n",
    "sum(train_y)/len(train_y)"
   ]
  },
  {
   "cell_type": "markdown",
   "metadata": {},
   "source": [
    "# First Stupid Predictions"
   ]
  },
  {
   "cell_type": "code",
   "execution_count": 6,
   "metadata": {
    "scrolled": true
   },
   "outputs": [
    {
     "name": "stdout",
     "output_type": "stream",
     "text": [
      "0.898449826444\n"
     ]
    },
    {
     "data": {
      "image/png": "[encoded data removed]",
      "text/plain": [
       "<matplotlib.figure.Figure at 0x106ed4a90>"
      ]
     },
     "metadata": {},
     "output_type": "display_data"
    },
    {
     "name": "stdout",
     "output_type": "stream",
     "text": [
      "True\n"
     ]
    },
    {
     "data": {
      "image/png": "[encoded data removed]",
      "text/plain": [
       "<matplotlib.figure.Figure at 0x10ea82c18>"
      ]
     },
     "metadata": {},
     "output_type": "display_data"
    },
    {
     "name": "stdout",
     "output_type": "stream",
     "text": [
      "[('Абдулова', 1), ('Абдуловым', 1), ('Абиева', 1), ('Абрамцева', 1), ('Авдеева', 1), ('Аверинцева', 1), ('Аверкиева', 1), ('Агапова', 1), ('Агентства', 0), ('Адмиралтейства', 0), ('Азизова', 1), ('Азизовым', 1), ('Азимовым', 1), ('Айова', 0), ('Айтматовым', 1), ('Акаева', 1), ('Акбарова', 1), ('Акбулатова', 1), ('Акимова', 1), ('Аккредитива', 0), ('Аксенова', 1), ('Аксеновым', 1), ('Аксеновым', 1), ('Акулова', 1), ('Александрова', 1), ('Алиевым', 1), ('Алферовым', 1), ('Алферова', 1), ('Алябьева', 1), ('Аманова', 1), ('Аминова', 1), ('Амирова', 1), ('Амирханова', 1), ('Ангелова', 1), ('Андреева', 1), ('Андриянова', 1), ('Андронова', 1), ('Андропова', 1), ('Аникеева', 1), ('Анкудинова', 1), ('Антонова', 1), ('Антоновым', 1), ('Аракелова', 1), ('Арбатова', 1), ('Аргунова', 1), ('Арева', 0), ('Арзуманова', 1), ('Аристархова', 1), ('Арсеньева', 1), ('Арустамова', 1), ('Архиповым', 1), ('Аскерова', 1), ('Атаева', 1), ('Ахадова', 1), ('Ахмадовым', 1), ('Ашмариным', 1), ('Ашурова', 1), ('Аяцковым', 1), ('Бабикова', 1), ('Бабичевым', 1), ('Бабкова', 1), ('Бабурина', 1), ('Багио', 0), ('Баграмяна', 1), ('Багса', 1), ('Бадан', 0), ('Бадминтона', 0), ('Баевым', 1), ('Баженовым', 1), ('Бажова', 1), ('Базаровым', 1), ('Базин', 1), ('Байерса', 1), ('Байеса', 1), ('Байрона', 0), ('Бакаева', 1), ('Бакса', 1), ('Бакстон', 1), ('Бакулева', 1), ('Балабанова', 1), ('Балакирева', 1), ('Баландин', 1), ('Баланс', 0), ('Баланса', 0), ('Баланчин', 1), ('Балашовым', 1), ('Балаяна', 1), ('Балдахин', 0), ('Балкон', 0), ('Баллона', 0), ('Банана', 0), ('Банкротства', 0), ('Банкса', 1), ('Банн', 1), ('Банна', 1), ('Барабана', 0), ('Бараева', 1), ('Барана', 0), ('Барашкова', 1), ('Барбадос', 0), ('Барбоса', 1), ('Барин', 0), ('Баркетт', 1), ('Бармена', 0), ('Бармин', 1), ('Барминым', 1), ('Барнс', 1), ('Барона', 1), ('Барраса', 1), ('Барриса', 1), ('Барс', 0), ('Барс', 1), ('Барса', 1), ('Барселона', 0), ('Бартелса', 1), ('Бартенева', 1), ('Бартлетт', 1), ('Бартона', 0), ('Барулина', 1), ('Бархэм', 1), ('Басаргина', 1), ('Басин', 1), ('Басистовым', 1), ('Баскова', 1), ('Басковым', 1), ('Басманова', 1), ('Басову', 1), ('Бассейна', 0), ('Бассетт', 1), ('Бастиона', 0), ('Бастос', 1), ('Бастрыкина', 1), ('Бастрыкиным', 1), ('Батаан', 0), ('Батаана', 0), ('Батаева', 1), ('Баталин', 1), ('Батальона', 0), ('Батенина', 1), ('Батон', 0), ('Баттон', 1), ('Баутина', 1), ('Баффетт', 1), ('Баффингтона', 1), ('Бахрейна', 0), ('Бахт', 1), ('Бахтина', 1), ('Бачурина', 1), ('Баширова', 1), ('Баян', 0), ('Бебутовым', 1), ('Бевинс', 1), ('Бегова', 1), ('Бедным', 0), ('Безносова', 1), ('Безработным', 0), ('Безрукова', 1), ('Безуглого', 1), ('Бейлина', 1), ('Бейса', 1), ('Бейтмена', 1), ('Бейтс', 1), ('Бейтсона', 1), ('Бекетт', 1), ('Беклемишева', 1), ('Бекманна', 1), ('Бекон', 0), ('Бекона', 0), ('Бекхэм', 1), ('Белавина', 1), ('Белена', 0), ('Белизна', 0), ('Белкин', 1), ('Белозерова', 1), ('Белокурова', 1), ('Белона', 0), ('Беляева', 1), ('Беляевым', 1), ('Бендиго', 0), ('Бенедиктин', 0), ('Бенедиктова', 1), ('Бенешу', 1), ('Бензедрин', 0), ('Бензин', 0), ('Бенин', 1), ('Бенина', 0), ('Бенина', 1), ('Бентона', 1), ('Берг', 1), ('Бердана', 1), ('Берджесса', 1), ('Бердяева', 1), ('Бережкова', 1), ('Березин', 1), ('Березкина', 1), ('Беренса', 1), ('Берестова', 1), ('Берзарина', 1), ('Берлин', 0), ('Берлина', 0), ('Берлина', 1), ('Берн', 1), ('Берн-Джонс', 1), ('Берн-Джонса', 1), ('Берна', 1), ('Бернс', 1), ('Бернса', 1), ('Бернстайна', 1), ('Бернштейна', 1), ('Бернэм', 1), ('Бероева', 1), ('Берса', 1), ('Берсенева', 1), ('Бертельсмана', 0), ('Бершадского', 1), ('Беса', 0), ('Беседин', 1), ('Беслана', 0), ('Беспамятства', 0), ('Бессмертного', 0), ('Беттс', 1), ('Бехтерева', 1), ('Бивертона', 0), ('Биггса', 1), ('Бикман', 1), ('Билл', 1), ('Биллина', 0), ('Бин', 1), ('Бингена', 0), ('Бингхэм', 1), ('Бингэм', 1), ('Бирмана', 1), ('Бис', 0), ('Бисон', 1), ('Бифштекса', 0), ('Благо', 0), ('Благонравова', 1), ('Блантон', 1), ('Блевотина', 0), ('Блейна', 0), ('Ближнего', 0), ('Блин', 0), ('Блинникова', 1), ('Блисса', 1), ('Блоу', 1), ('Блохина', 1), ('Блумфонтейна', 0), ('Блэйна', 1), ('Блэк-Хилс', 0), ('Блэкберн', 1), ('Блэр', 1), ('Бобринского', 1), ('Боброву', 1), ('Бовиным', 1), ('Богатства', 0), ('Богачева', 1), ('Богдан', 0), ('Богданова', 1), ('Богдановна', 0), ('Богослова', 0), ('Бодмина', 0), ('Бодрова', 1), ('Бодэна', 1), ('Бодянского', 1), ('Бойетт', 1), ('Бойкова', 1), ('Бойкову', 1), ('Бойл', 1), ('Бойн', 0), ('Бойнтона', 0), ('Болдин', 1), ('Болконского', 1), ('Болотин', 1), ('Болтон', 1), ('Болтянского', 1), ('Больным', 0), ('Больцано', 0), ('Большакова', 1), ('Большинства', 0), ('Бон', 0), ('Бонго', 0), ('Бондарева', 1), ('Бонн', 0), ('Борг', 1), ('Борзову', 1), ('Борисовна', 0), ('Борисовым', 1), ('Борового', 1), ('Бородина', 0), ('Бородиным', 1), ('Босова', 1), ('Босса', 1), ('Бостон', 0), ('Бот', 0), ('Ботевым', 1), ('Боткина', 1), ('Боткиным', 1), ('Ботсвана', 0), ('Боуман', 1), ('Бочин', 1), ('Бочкарева', 1), ('Бошана', 1), ('Бошу', 0), ('Бояркин', 1), ('Брагин', 1), ('Брагина', 1), ('Брайана', 0), ('Брайса', 0), ('Брамс', 1), ('Брамса', 1), ('Бран', 1), ('Брана', 1), ('Бранс', 1), ('Браславского', 1), ('Братва', 0), ('Братву', 0), ('Братству', 0), ('Браун', 0), ('Бредихина', 1), ('Бредова', 1), ('Брежнева', 1), ('Брежневым', 1), ('Брекстона', 1), ('Бремертона', 0), ('Брендана', 0), ('Брендона', 1), ('Бретон', 1), ('Бретона', 1), ('Бригс', 1), ('Бригса', 1), ('Бригхэм', 1), ('Бригэм', 1), ('Бриджтауна', 0), ('Бриджтона', 0), ('Бриджу', 1), ('Брилл', 1), ('Брина', 1), ('Бритву', 0), ('Бритова', 1), ('Бритт', 1), ('Бриттан', 1), ('Брно', 0), ('Броган', 1), ('Брокена', 0), ('Брокман', 1), ('Броктон', 0), ('Бром', 0), ('Бронислава', 0), ('Бронкс', 0), ('Бронсона', 1), ('Броуган', 1), ('Брукинс', 1), ('Бруклин', 0), ('Бруклина', 0), ('Брукс', 1), ('Брукса', 1), ('Брунсон', 1), ('Брунсона', 1), ('Бруса', 0), ('Брутон', 1), ('Брутона', 1), ('Брэйдена', 1), ('Брэкстон', 1), ('Брэннона', 1), ('Брэнсон', 1), ('Брэнэм', 1), ('Брюкву', 0), ('Брюллова', 1), ('Брюллову', 1), ('Брюлловым', 1), ('Брюса', 0), ('Брюсова', 1), ('Брюшина', 0), ('Брянчанинова', 1), ('Бубона', 0), ('Будаева', 1), ('Будариным', 1), ('Буденным', 1), ('Буженина', 0), ('Букв', 0), ('Букин', 1), ('Букина', 1), ('Букс', 0), ('Букса', 0), ('Бул', 1), ('Булавина', 1), ('Булганин', 1), ('Булганиным', 1), ('Булгарина', 1), ('Булкина', 1), ('Булл', 0), ('Булыгина', 1), ('Бульона', 0), ('Бун', 1), ('Бунгало', 0), ('Бурав', 0), ('Буран', 0), ('Буранова', 1), ('Бурбон', 0), ('Бурбона', 0), ('Бургаса', 0), ('Бургос', 0), ('Бургоса', 0), ('Бурман', 1), ('Бурриса', 1), ('Бурса', 0), ('Бурхановым', 1), ('Бурцева', 1), ('Бурьян', 0), ('Бусыгин', 1), ('Бутана', 0), ('Бутлеровым', 1), ('Бутон', 0), ('Буторина', 1), ('Бутрос', 0), ('Бутса', 0), ('Бутузова', 1), ('Бутырского', 1), ('Бухан', 1), ('Бухариным', 1), ('Буян', 0), ('Бычкова', 1), ('Бьорн', 0), ('Бьюкенена', 1), ('Бэб', 0), ('Бэйса', 1), ('Бэйтс', 1), ('Бэкон', 1), ('Бэнк оф Чайна', 0), ('Бэнкса', 1), ('Бэннокберна', 0), ('Бэроун', 1), ('Бэрр', 1), ('Бэтса', 1), ('Бэтсон', 1), ('Бэттс', 1), ('Бюст', 0), ('Бернс', 1), ('Бертона', 1), ('Ва', 0), ('Вавилова', 1), ('Валова', 1), ('Варакиным', 1), ('Варшава', 0), ('Василева', 1), ('Василевым', 1), ('Васильевым', 1), ('Васнецова', 1), ('Васькова', 1), ('Вахитова', 1), ('Вахтангова', 1), ('Вацлава', 0), ('Вдова', 0), ('Вдова', 1), ('Велиева', 1), ('Веревкиным', 1), ('Верховенства', 0), ('Веселова', 1), ('Вещества', 0), ('Взрыва', 0), ('Викторова', 1), ('Вимс', 1), ('Вишнякова', 1), ('Владислава', 0), ('Власова', 1), ('Власовым', 1), ('Водянова', 1), ('Военным', 0), ('Возлюбленным', 0), ('Возможным', 0), ('Волошиным', 1), ('Волынцевым', 1), ('Вормс', 0), ('Воробьевым', 1), ('Ворожцова', 1), ('Ворониным', 1), ('Воронкова', 1), ('Воронцова', 1), ('Воронцовым', 1), ('Вострякова', 1), ('Восьмым', 0), ('Вроцлава', 0), ('Габуева', 1), ('Гаврилова', 1), ('Гаганова', 1), ('Газизова', 1), ('Гамбурцева', 1), ('Гамзатова', 1), ('Гамидова', 1), ('Ганеева', 1), ('Ганелиным', 1), ('Гапонова', 1), ('Гасымова', 1), ('Гафарова', 1), ('Гафурова', 1), ('Гениева', 1), ('Гергиевым', 1), ('Герцогства', 0), ('Гиреева', 1), ('Гиреевым', 1), ('Гладковым', 1), ('Гладышева', 1), ('Глазьева', 1), ('Глухова', 1), ('Годунова', 1), ('Голикова', 1), ('Голицыным', 1), ('Головиным', 1), ('Головым', 1), ('Голубева', 1), ('Голубова', 1), ('Горбатова', 0), ('Горбачевым', 1), ('Горбачева', 1), ('Горбачевым', 1), ('Гординым', 1), ('Горелова', 1), ('Горловым', 1), ('Горохова', 1), ('Горчаковым', 1), ('Горшковым', 1), ('Горюновым', 1), ('Горячева', 1), ('Господства', 0), ('Гранкиным', 1), ('Графства', 0), ('Грекова', 1), ('Гриб', 0), ('Грибановым', 1), ('Грив', 0), ('Грива', 0), ('Григорьевым', 1), ('Гришанова', 1), ('Гришановым', 1), ('Грошева', 1), ('Груздевым', 1), ('Груниным', 1), ('Губиным', 1), ('Гумилева', 1), ('Гумилевым', 1), ('Гурьева', 1), ('Гурьянова', 1), ('Гурьяновым', 1), ('Гусарова', 1), ('Густава', 0), ('Гучкова', 1), ('Гучковым', 1), ('Даниловым', 1), ('Деминым', 1), ('Денисовым', 1), ('Добрыниным', 1), ('Дроздовым', 1), ('Дугиным', 1), ('Ельциным', 1), ('Ершовым', 1), ('Зайцевым', 1), ('Заключенным', 0), ('Зверевым', 1), ('Знакомым', 0), ('Золотым', 0), ('Зюзиным', 1), ('Ивановым', 1), ('Ивиным', 1), ('Идрисовым', 1), ('Ильясовым', 1), ('Инютиным', 1), ('Исаевым', 1), ('Ишаевым', 1), ('Кадыровым', 1), ('Казариным', 1), ('Казьминым', 1), ('Кайсаровым', 1), ('Калединым', 1), ('Калининым', 1), ('Каримовым', 1), ('Карлова', 1), ('Карповым', 1), ('Касым', 0), ('Касьяновым', 1), ('Катуковым', 1), ('Квасова', 1), ('Киева', 0), ('Кирова', 1), ('Китова', 1), ('Клебановым', 1), ('Климова', 1), ('Клокова', 1), ('Клочкова', 1), ('Клюва', 0), ('Клюева', 1), ('Клюква', 0), ('Княжества', 0), ('Козловым', 1), ('Козулиным', 1), ('Кокова', 1), ('Кокориным', 1), ('Колдовства', 0), ('Кольцова', 1), ('Комаровым', 1), ('Коневым', 1), ('Коненковым', 1), ('Консульства', 0), ('Кордова', 0), ('Корнева', 1), ('Королевым', 1), ('Корольковым', 1), ('Коротковым', 1), ('Корсаковым', 1), ('Косова', 0), ('Косова', 1), ('Косовым', 1), ('Костиным', 1), ('Кострова', 1), ('Косыгиным', 1), ('Котовым', 1), ('Кравцова', 1), ('Крапива', 0), ('Красновым', 1), ('Крова', 0), ('Кротова', 1), ('Круглова', 1), ('Крутова', 1), ('Крылова', 1), ('Крыловым', 1), ('Крюковым', 1), ('Кудряшовым', 1), ('Кулиевым', 1), ('Куликовым', 1), ('Куницыным', 1), ('Куприным', 1), ('Лава', 1), ('Лариным', 1), ('Ласкова', 1), ('Левиным', 1), ('Лейва', 1), ('Лениным', 1), ('Лермонтовым', 1), ('Лисиным', 1), ('Листва', 0), ('Листьева', 1), ('Лихачевым', 1), ('Логова', 0), ('Ломакиным', 1), ('Ломова', 1), ('Лотова', 1), ('Лужковым', 1), ('Лукавым', 0), ('Луневым', 1), ('Лысым', 0), ('Любимым', 0), ('Лялиным', 1), ('Майкова', 1), ('Малининым', 1), ('Мамаевым', 1), ('Мамонтовым', 1), ('Марева', 0), ('Маркиным', 1), ('Марковым', 1), ('Мартовым', 1), ('Маслова', 1), ('Массива', 0), ('Матвеевым', 1), ('Махмудовым', 1), ('Машкова', 1), ('Машковым', 1), ('Меньшиковым', 1), ('Мертвым', 0), ('Местным', 0), ('Мешкова', 1), ('Мешковым', 1), ('Милюковым', 1), ('Минерва', 0), ('Михалковым', 1), ('Михеевым', 1), ('Множества', 0), ('Молодым', 0), ('Муратовым', 1), ('Муртазиным', 1), ('Мытарства', 0), ('Старым', 0), ('Толстым', 1), ('Убийства', 0), ('Улова', 0), ('Ульянова', 1), ('Упорства', 0), ('Усмановым', 1), ('Устава', 0), ('Устиновым', 1), ('Ученым', 0), ('Фадеевым', 1), ('Факс', 0), ('Федотовым', 1), ('Фиппса', 1), ('Фло', 0), ('Форбс', 0), ('Форбс', 1), ('Форбса', 0), ('Фосса', 1), ('Франс', 1), ('Франса', 1), ('Фромм', 1), ('Фукса', 1), ('Фэтса', 0), ('Хайндса', 1), ('Хайнс', 1), ('Халс', 1), ('Халява', 0), ('Хасса', 1), ('Хвостова', 1), ('Хейлс', 1), ('Хейнса', 1), ('Хейр', 1), ('Хейса', 1), ('Хесса', 1), ('Хиггса', 1), ('Хирн', 1), ('Хлебникова', 1), ('Хлева', 0), ('Хна', 0), ('Хоббс', 1), ('Хобс', 1), ('Хобса', 1), ('Хозяева', 0), ('Хозяйства', 0), ('Холмс', 1), ('Хомякова', 1), ('Хон', 1), ('Хопп', 1), ('Хорн', 1), ('Хоува', 0), ('Хохлова', 1), ('Хохловым', 1), ('Храмова', 1), ('Хэйнс', 1), ('Хэнс', 0), ('Царства', 0), ('Чаплиным', 1), ('Черновым', 1), ('Чеховым', 1), ('Чтива', 0), ('Чудовым', 1), ('Шиловым', 1), ('Шиповым', 1)]\n",
      "CPU times: user 7.9 s, sys: 304 ms, total: 8.21 s\n",
      "Wall time: 2.76 s\n"
     ]
    }
   ],
   "source": [
    "%%time\n",
    "clf = XGBClassifier()\n",
    "\n",
    "train_x = train.drop(['x'], axis=1)\n",
    "clf.fit(train_x, train_y)\n",
    "\n",
    "print(accuracy_score(train_y, clf.predict(train_x)))\n",
    "\n",
    "preds = clf.predict(train_x)\n",
    "preds_prob = clf.predict_proba(train_x)\n",
    "\n",
    "plt.hist(preds_prob[:, 1])\n",
    "plt.show()\n",
    "print(any(preds))\n",
    "\n",
    "plt.plot(preds)\n",
    "plt.show()\n",
    "\n",
    "print([(train.iloc[i]['x'], train_y[i]) for i in [i for i, x in enumerate(preds) if x == 1]])"
   ]
  },
  {
   "cell_type": "markdown",
   "metadata": {},
   "source": [
    "# Some Research..."
   ]
  },
  {
   "cell_type": "code",
   "execution_count": 323,
   "metadata": {},
   "outputs": [],
   "source": [
    "# sample_submission['Answer'] = clf.predict_proba(test.drop(['x'], axis=1))[:, 1]\n",
    "# [(test.iloc[i]['x'], sample_submission.iloc[i]['Answer']) for i in [i for i, x in enumerate(sample_submission['Answer']) if x > 0.5]]"
   ]
  },
  {
   "cell_type": "code",
   "execution_count": 11,
   "metadata": {
    "scrolled": true
   },
   "outputs": [
    {
     "name": "stdout",
     "output_type": "stream",
     "text": [
      "In Train Data: {'/', '.', 'х', 'н', 'ѐ', '7', 'ь', 'я', 'а', \"'\", '2', 'о', 'щ', '4', 'ó', 'и', 'ё', '“', 'ф', '·', 'г', 'э', '”', '’', '-', ' ', 'м', 'л', 'п', 'ж', 'т', 'е', '«', 'é', 'у', 'к', 'ц', 'с', 'б', 'ч', 'ш', 'ю', '3', 'р', 'ы', 'ъ', 'д', 'в', '»', 'й', 'з'}\n"
     ]
    }
   ],
   "source": [
    "print('In Train Data:', set((''.join(train['x'])).lower()))"
   ]
  },
  {
   "cell_type": "code",
   "execution_count": 12,
   "metadata": {
    "scrolled": true
   },
   "outputs": [
    {
     "name": "stdout",
     "output_type": "stream",
     "text": [
      "In Test Data: {'/', '.', 'х', 'н', '\"', 'ë', '`', '7', 'ô', 'ь', 'я', 'а', \"'\", '2', '\\\\', 'о', 'щ', 'ó', 'и', '\\xa0', 'ё', '“', 'ф', '0', 'г', 'э', '’', ' ', '-', 'м', 'л', 'п', '&', 'ж', 'т', 'е', 'á', '«', '1', 'é', 'у', 'к', 'ц', 'с', 'б', 'ч', 'ю', 'ш', '3', 'р', 'ы', 'ъ', 'д', 'в', '»', 'й', 'з'}\n"
     ]
    }
   ],
   "source": [
    "print('In Test Data:', set((''.join(test['x'])).lower()))"
   ]
  },
  {
   "cell_type": "code",
   "execution_count": 26,
   "metadata": {
    "collapsed": true
   },
   "outputs": [],
   "source": [
    "def get_vector(ch_gram, gram_alphabet):\n",
    "    ch_gram = ch_gram.lower()\n",
    "    tmp = np.zeros(len(gram_alphabet))\n",
    "    if ch_gram in gram_alphabet:\n",
    "        tmp[gram_alphabet.index(ch_gram)] = 1\n",
    "    return tmp\n",
    "        \n",
    "    \n",
    "def string_to_vec(string, gram_alphabet):            \n",
    "    string = string.lower()\n",
    "    grams = make_ngrams(string, 2)\n",
    "    tmp_ans = np.zeros(len(gram_alphabet))\n",
    "    for gram in grams:\n",
    "        tmp_ans += get_vector(gram, gram_alphabet)\n",
    "    return tmp_ans / len(grams)\n",
    "\n",
    "\n",
    "def make_ngrams(string, n=2):\n",
    "    string = string.lower()\n",
    "    return [string[i:i+n] for i in range(len(string) - n + 1)]"
   ]
  },
  {
   "cell_type": "code",
   "execution_count": 27,
   "metadata": {},
   "outputs": [
    {
     "data": {
      "text/plain": [
       "['аа', 'ар', 'ро', 'он']"
      ]
     },
     "execution_count": 27,
     "metadata": {},
     "output_type": "execute_result"
    }
   ],
   "source": [
    "make_ngrams('Аарон', 2)"
   ]
  },
  {
   "cell_type": "code",
   "execution_count": null,
   "metadata": {
    "collapsed": true
   },
   "outputs": [],
   "source": []
  },
  {
   "cell_type": "code",
   "execution_count": 101,
   "metadata": {},
   "outputs": [],
   "source": [
    "mat = np.random.uniform(0, 1, len(ch_gram_alphabet))"
   ]
  },
  {
   "cell_type": "code",
   "execution_count": 102,
   "metadata": {},
   "outputs": [
    {
     "data": {
      "text/plain": [
       "0.54723693921725847"
      ]
     },
     "execution_count": 102,
     "metadata": {},
     "output_type": "execute_result"
    }
   ],
   "source": [
    "np.dot(mat, string_to_vec('квартира', ch_gram_alphabet))"
   ]
  },
  {
   "cell_type": "code",
   "execution_count": 28,
   "metadata": {},
   "outputs": [
    {
     "data": {
      "text/plain": [
       "array([ 0.,  0.,  0., ...,  0.,  0.,  0.])"
      ]
     },
     "execution_count": 28,
     "metadata": {},
     "output_type": "execute_result"
    }
   ],
   "source": [
    "string_to_vec('квартира', ch_gram_alphabet)"
   ]
  },
  {
   "cell_type": "code",
   "execution_count": 29,
   "metadata": {
    "scrolled": false
   },
   "outputs": [
    {
     "name": "stderr",
     "output_type": "stream",
     "text": [
      "100%|██████████| 101392/101392 [01:02<00:00, 1622.64it/s]\n"
     ]
    },
    {
     "name": "stdout",
     "output_type": "stream",
     "text": [
      "CPU times: user 1min 46s, sys: 25.8 s, total: 2min 12s\n",
      "Wall time: 2min 29s\n"
     ]
    }
   ],
   "source": [
    "%%time\n",
    "new_train = pd.DataFrame(columns=np.concatenate((train.columns.values, np.arange(len(ch_gram_alphabet)))))\n",
    "new_train\n",
    "\n",
    "res = []\n",
    "\n",
    "for i in tqdm.tqdm(range(len(train))):\n",
    "    res.append(np.concatenate((train.iloc[i], string_to_vec(train.iloc[i]['x'], gram_alphabet=ch_gram_alphabet))))\n",
    "    \n",
    "new_train = pd.DataFrame(data=res, columns=np.concatenate((train.columns.values, np.arange(len(ch_gram_alphabet)))))\n",
    "    \n",
    "notify('kek_1')"
   ]
  },
  {
   "cell_type": "code",
   "execution_count": 30,
   "metadata": {},
   "outputs": [],
   "source": [
    "tmp = []\n",
    "for col in new_train.columns.values[1:]:\n",
    "    tmp.append(np.isnan(new_train[col]))\n",
    "notify('Checked!')"
   ]
  },
  {
   "cell_type": "code",
   "execution_count": 115,
   "metadata": {},
   "outputs": [
    {
     "data": {
      "text/plain": [
       "1"
      ]
     },
     "execution_count": 115,
     "metadata": {},
     "output_type": "execute_result"
    }
   ],
   "source": [
    "min(list(map(lambda x: len(x), train['x'])))"
   ]
  },
  {
   "cell_type": "code",
   "execution_count": 23,
   "metadata": {},
   "outputs": [],
   "source": [
    "train_y = train_y.iloc[[en for en, x in enumerate(list(map(lambda x: len(x), train['x']))) if x > 1]]\n",
    "train = train.iloc[[en for en, x in enumerate(list(map(lambda x: len(x), train['x']))) if x > 1]]"
   ]
  },
  {
   "cell_type": "code",
   "execution_count": 31,
   "metadata": {},
   "outputs": [
    {
     "data": {
      "text/plain": [
       "0"
      ]
     },
     "execution_count": 31,
     "metadata": {},
     "output_type": "execute_result"
    }
   ],
   "source": [
    "list(tmp[5]).count(True)"
   ]
  },
  {
   "cell_type": "code",
   "execution_count": 32,
   "metadata": {},
   "outputs": [],
   "source": [
    "ans = []\n",
    "for x in tmp:\n",
    "    ans.append(any(x))"
   ]
  },
  {
   "cell_type": "code",
   "execution_count": 33,
   "metadata": {},
   "outputs": [
    {
     "data": {
      "text/plain": [
       "False"
      ]
     },
     "execution_count": 33,
     "metadata": {},
     "output_type": "execute_result"
    }
   ],
   "source": [
    "any(ans)"
   ]
  },
  {
   "cell_type": "code",
   "execution_count": null,
   "metadata": {
    "collapsed": true
   },
   "outputs": [],
   "source": []
  },
  {
   "cell_type": "code",
   "execution_count": null,
   "metadata": {
    "collapsed": true
   },
   "outputs": [],
   "source": []
  },
  {
   "cell_type": "code",
   "execution_count": null,
   "metadata": {
    "collapsed": true
   },
   "outputs": [],
   "source": []
  },
  {
   "cell_type": "code",
   "execution_count": 38,
   "metadata": {
    "collapsed": true
   },
   "outputs": [],
   "source": [
    "logreg = LogisticRegression()"
   ]
  },
  {
   "cell_type": "code",
   "execution_count": 39,
   "metadata": {},
   "outputs": [
    {
     "name": "stdout",
     "output_type": "stream",
     "text": [
      "CPU times: user 3.89 s, sys: 1.41 s, total: 5.3 s\n",
      "Wall time: 5.92 s\n"
     ]
    }
   ],
   "source": [
    "%%time\n",
    "logreg.fit(new_train.drop(['x'], axis=1), train_y)\n",
    "notify('Trained!')"
   ]
  },
  {
   "cell_type": "code",
   "execution_count": 40,
   "metadata": {},
   "outputs": [],
   "source": [
    "log_preds = logreg.predict(new_train.drop(['x'], axis=1))"
   ]
  },
  {
   "cell_type": "code",
   "execution_count": 41,
   "metadata": {},
   "outputs": [
    {
     "data": {
      "text/plain": [
       "(array([ 101289.,       0.,       0.,       0.,       0.,       0.,\n",
       "              0.,       0.,       0.,     103.]),\n",
       " array([ 0. ,  0.1,  0.2,  0.3,  0.4,  0.5,  0.6,  0.7,  0.8,  0.9,  1. ]),\n",
       " <a list of 10 Patch objects>)"
      ]
     },
     "execution_count": 41,
     "metadata": {},
     "output_type": "execute_result"
    },
    {
     "data": {
      "image/png": "[encoded data removed]",
      "text/plain": [
       "<matplotlib.figure.Figure at 0x10ee3cfd0>"
      ]
     },
     "metadata": {},
     "output_type": "display_data"
    }
   ],
   "source": [
    "plt.hist(log_preds)"
   ]
  },
  {
   "cell_type": "code",
   "execution_count": 42,
   "metadata": {},
   "outputs": [
    {
     "data": {
      "text/plain": [
       "0.89498185261164587"
      ]
     },
     "execution_count": 42,
     "metadata": {},
     "output_type": "execute_result"
    }
   ],
   "source": [
    "accuracy_score(train_y, log_preds)"
   ]
  },
  {
   "cell_type": "code",
   "execution_count": 43,
   "metadata": {},
   "outputs": [
    {
     "data": {
      "text/plain": [
       "103"
      ]
     },
     "execution_count": 43,
     "metadata": {},
     "output_type": "execute_result"
    }
   ],
   "source": [
    "sum(log_preds)"
   ]
  },
  {
   "cell_type": "code",
   "execution_count": null,
   "metadata": {
    "collapsed": true
   },
   "outputs": [],
   "source": []
  },
  {
   "cell_type": "code",
   "execution_count": null,
   "metadata": {
    "collapsed": true
   },
   "outputs": [],
   "source": []
  },
  {
   "cell_type": "code",
   "execution_count": null,
   "metadata": {
    "collapsed": true
   },
   "outputs": [],
   "source": []
  },
  {
   "cell_type": "code",
   "execution_count": 44,
   "metadata": {
    "scrolled": true
   },
   "outputs": [
    {
     "name": "stdout",
     "output_type": "stream",
     "text": [
      "CPU times: user 30min 36s, sys: 13 s, total: 30min 49s\n",
      "Wall time: 9min 1s\n"
     ]
    }
   ],
   "source": [
    "%%time\n",
    "clf = XGBClassifier(max_depth=20)\n",
    "clf.fit(new_train.drop(['x'], axis=1), train_y)\n",
    "notify('Trained!')"
   ]
  },
  {
   "cell_type": "code",
   "execution_count": 45,
   "metadata": {
    "scrolled": true
   },
   "outputs": [
    {
     "name": "stdout",
     "output_type": "stream",
     "text": [
      "0.104909657567\n",
      "0.0711989111567\n",
      "0.960450528641\n",
      "CPU times: user 8.33 s, sys: 4.45 s, total: 12.8 s\n",
      "Wall time: 10.5 s\n"
     ]
    }
   ],
   "source": [
    "%%time\n",
    "preds = clf.predict(new_train.drop(['x'], axis=1))\n",
    "\n",
    "print(sum(train_y)/len(train_y))\n",
    "print(sum(preds)/len(preds))\n",
    "\n",
    "# it was 0.90675291890186183 with 0.87 on public leaderboard\n",
    "# it was 0.95879023351214898 with 0.92 on public leaderboard\n",
    "# it was 0.968493609972 with 0.92 on public leaderboard with 'length'\n",
    "# it was 0.965722625434 with 0.92 on public leaderboard without 'length'\n",
    "print(accuracy_score(train_y, preds))"
   ]
  },
  {
   "cell_type": "code",
   "execution_count": null,
   "metadata": {
    "collapsed": true
   },
   "outputs": [],
   "source": []
  },
  {
   "cell_type": "code",
   "execution_count": 52,
   "metadata": {},
   "outputs": [],
   "source": [
    "short_indices = [en for en, x in enumerate(list(map(lambda x: len(x), test['x']))) if x == 1]"
   ]
  },
  {
   "cell_type": "code",
   "execution_count": null,
   "metadata": {
    "collapsed": true
   },
   "outputs": [],
   "source": []
  },
  {
   "cell_type": "code",
   "execution_count": 53,
   "metadata": {},
   "outputs": [
    {
     "name": "stderr",
     "output_type": "stream",
     "text": [
      " 10%|▉         | 18118/188920 [00:11<01:39, 1718.55it/s]/usr/local/lib/python3.6/site-packages/ipykernel/__main__.py:18: RuntimeWarning: invalid value encountered in true_divide\n",
      "100%|██████████| 188920/188920 [02:08<00:00, 1472.50it/s]\n"
     ]
    },
    {
     "name": "stdout",
     "output_type": "stream",
     "text": [
      "CPU times: user 3min 21s, sys: 59.4 s, total: 4min 21s\n",
      "Wall time: 4min 48s\n"
     ]
    }
   ],
   "source": [
    "%%time\n",
    "\n",
    "new_test = pd.DataFrame(columns=np.concatenate((test.columns.values, np.arange(len(ch_gram_alphabet)))))\n",
    "new_test\n",
    "\n",
    "res_test = []\n",
    "\n",
    "for i in tqdm.tqdm(range(len(test))):\n",
    "    res_test.append(np.concatenate((test.iloc[i], string_to_vec(test.iloc[i]['x'], ch_gram_alphabet))))\n",
    "    \n",
    "new_test = pd.DataFrame(data=res_test, columns=np.concatenate((test.columns.values, np.arange(len(ch_gram_alphabet)))))\n",
    "\n",
    "notify('kek_2')"
   ]
  },
  {
   "cell_type": "code",
   "execution_count": 54,
   "metadata": {},
   "outputs": [
    {
     "data": {
      "image/png": "[encoded data removed]",
      "text/plain": [
       "<matplotlib.figure.Figure at 0x10dab4940>"
      ]
     },
     "metadata": {},
     "output_type": "display_data"
    },
    {
     "name": "stdout",
     "output_type": "stream",
     "text": [
      "CPU times: user 16.3 s, sys: 10.2 s, total: 26.5 s\n",
      "Wall time: 24.4 s\n"
     ]
    }
   ],
   "source": [
    "%%time\n",
    "sample_submission['Answer'] = clf.predict_proba(new_test.drop(['x'], axis=1))[:, 1]\n",
    "\n",
    "plt.hist(sample_submission['Answer'])\n",
    "plt.show()"
   ]
  },
  {
   "cell_type": "code",
   "execution_count": 55,
   "metadata": {},
   "outputs": [
    {
     "data": {
      "text/html": [
       "<div>\n",
       "<table border=\"1\" class=\"dataframe\">\n",
       "  <thead>\n",
       "    <tr style=\"text-align: right;\">\n",
       "      <th></th>\n",
       "      <th>Id</th>\n",
       "      <th>Answer</th>\n",
       "    </tr>\n",
       "  </thead>\n",
       "  <tbody>\n",
       "    <tr>\n",
       "      <th>18273</th>\n",
       "      <td>18273</td>\n",
       "      <td>0.015706</td>\n",
       "    </tr>\n",
       "    <tr>\n",
       "      <th>27619</th>\n",
       "      <td>27619</td>\n",
       "      <td>0.017368</td>\n",
       "    </tr>\n",
       "    <tr>\n",
       "      <th>27620</th>\n",
       "      <td>27620</td>\n",
       "      <td>0.026948</td>\n",
       "    </tr>\n",
       "    <tr>\n",
       "      <th>44301</th>\n",
       "      <td>44301</td>\n",
       "      <td>0.017020</td>\n",
       "    </tr>\n",
       "    <tr>\n",
       "      <th>73884</th>\n",
       "      <td>73884</td>\n",
       "      <td>0.016186</td>\n",
       "    </tr>\n",
       "    <tr>\n",
       "      <th>79637</th>\n",
       "      <td>79637</td>\n",
       "      <td>0.019224</td>\n",
       "    </tr>\n",
       "    <tr>\n",
       "      <th>79638</th>\n",
       "      <td>79638</td>\n",
       "      <td>0.027052</td>\n",
       "    </tr>\n",
       "    <tr>\n",
       "      <th>97517</th>\n",
       "      <td>97517</td>\n",
       "      <td>0.040561</td>\n",
       "    </tr>\n",
       "    <tr>\n",
       "      <th>97518</th>\n",
       "      <td>97518</td>\n",
       "      <td>0.077840</td>\n",
       "    </tr>\n",
       "    <tr>\n",
       "      <th>106007</th>\n",
       "      <td>106007</td>\n",
       "      <td>0.021976</td>\n",
       "    </tr>\n",
       "    <tr>\n",
       "      <th>139883</th>\n",
       "      <td>139883</td>\n",
       "      <td>0.014581</td>\n",
       "    </tr>\n",
       "    <tr>\n",
       "      <th>157523</th>\n",
       "      <td>157523</td>\n",
       "      <td>0.025238</td>\n",
       "    </tr>\n",
       "    <tr>\n",
       "      <th>165138</th>\n",
       "      <td>165138</td>\n",
       "      <td>0.108972</td>\n",
       "    </tr>\n",
       "    <tr>\n",
       "      <th>178701</th>\n",
       "      <td>178701</td>\n",
       "      <td>0.082332</td>\n",
       "    </tr>\n",
       "    <tr>\n",
       "      <th>184298</th>\n",
       "      <td>184298</td>\n",
       "      <td>0.052454</td>\n",
       "    </tr>\n",
       "    <tr>\n",
       "      <th>188090</th>\n",
       "      <td>188090</td>\n",
       "      <td>0.069006</td>\n",
       "    </tr>\n",
       "    <tr>\n",
       "      <th>188091</th>\n",
       "      <td>188091</td>\n",
       "      <td>0.111822</td>\n",
       "    </tr>\n",
       "    <tr>\n",
       "      <th>188092</th>\n",
       "      <td>188092</td>\n",
       "      <td>0.069006</td>\n",
       "    </tr>\n",
       "  </tbody>\n",
       "</table>\n",
       "</div>"
      ],
      "text/plain": [
       "            Id    Answer\n",
       "18273    18273  0.015706\n",
       "27619    27619  0.017368\n",
       "27620    27620  0.026948\n",
       "44301    44301  0.017020\n",
       "73884    73884  0.016186\n",
       "79637    79637  0.019224\n",
       "79638    79638  0.027052\n",
       "97517    97517  0.040561\n",
       "97518    97518  0.077840\n",
       "106007  106007  0.021976\n",
       "139883  139883  0.014581\n",
       "157523  157523  0.025238\n",
       "165138  165138  0.108972\n",
       "178701  178701  0.082332\n",
       "184298  184298  0.052454\n",
       "188090  188090  0.069006\n",
       "188091  188091  0.111822\n",
       "188092  188092  0.069006"
      ]
     },
     "execution_count": 55,
     "metadata": {},
     "output_type": "execute_result"
    }
   ],
   "source": [
    "sample_submission.iloc[short_indices]"
   ]
  },
  {
   "cell_type": "code",
   "execution_count": 56,
   "metadata": {},
   "outputs": [
    {
     "data": {
      "text/plain": [
       "[('Абаев', 0.78419143),\n",
       " ('Абаева', 0.96576703),\n",
       " ('Абаевым', 0.97374445),\n",
       " ('Абакумова', 0.9820562),\n",
       " ('АБАКУМОВА', 0.96878183),\n",
       " ('Абакумову', 0.97245252),\n",
       " ('Абакумовым', 0.97630423),\n",
       " ('Абалкин', 0.89699465),\n",
       " ('Абаринов', 0.87123048),\n",
       " ('Абасов', 0.67403376),\n",
       " ('Аббасова', 0.97802162),\n",
       " ('Аббасову', 0.9792183),\n",
       " ('Аббот', 0.55777025),\n",
       " ('Абдрахманова', 0.95944816),\n",
       " ('Абдулин', 0.74259007),\n",
       " ('Абдулина', 0.7903474),\n",
       " ('Абдуллаев', 0.95320106),\n",
       " ('Абдуллаева', 0.94042373),\n",
       " ('Абдуллаеву', 0.91547787),\n",
       " ('Абдуллаевым', 0.95384574),\n",
       " ('Абдуллина', 0.79693031),\n",
       " ('Абдулов', 0.70403969),\n",
       " ('Абдулов', 0.70403969),\n",
       " ('Абелева', 0.95388371),\n",
       " ('Абелевым', 0.91503578),\n",
       " ('Абердин', 0.85827315),\n",
       " ('Абердина', 0.81724346),\n",
       " ('Абердине', 0.70233345),\n",
       " ('Абердину', 0.75876528),\n",
       " ('Абернати', 0.63302362),\n",
       " ('Абзацев', 0.66507733),\n",
       " ('Абидин', 0.59376836),\n",
       " ('Абиев', 0.80822527),\n",
       " ('Абиевым', 0.96514314),\n",
       " ('Абилов', 0.76528209),\n",
       " ('Аблязов', 0.65620333),\n",
       " ('Абнер', 0.68332589),\n",
       " ('Абнера', 0.54373366),\n",
       " ('Абрамкин', 0.87353837),\n",
       " ('Абрамкина', 0.8574475),\n",
       " ('Абрамов', 0.5917415),\n",
       " ('Абрамова', 0.96060765),\n",
       " ('Абрамовой', 0.96388477),\n",
       " ('Абрамову', 0.9695887),\n",
       " ('Абрамовым', 0.96748751),\n",
       " ('Абрамс', 0.9097991),\n",
       " ('АБРАМС', 0.77885616),\n",
       " ('Абрамса', 0.75819135),\n",
       " ('Абрамсом', 0.89283502),\n",
       " ('Абрамсон', 0.91425622),\n",
       " ('Абрамсоном', 0.84579098),\n",
       " ('Абрамсону', 0.96291155),\n",
       " ('Абрамсу', 0.88895404),\n",
       " ('Абрамцеве', 0.80965883),\n",
       " ('Абрамян', 0.60754383),\n",
       " ('АБРАМЯН', 0.69837064),\n",
       " ('Абрахамс', 0.8729403),\n",
       " ('Абрахамса', 0.50660491),\n",
       " ('Абрикосовой', 0.91163576),\n",
       " ('Абросимова', 0.96721083),\n",
       " ('Абросимову', 0.93435204),\n",
       " ('Абросимовых', 0.8625685),\n",
       " ('Абызов', 0.58384472),\n",
       " ('Аваковой', 0.89606541),\n",
       " ('Аванесовой', 0.95565414),\n",
       " ('Аванесян', 0.65027809),\n",
       " ('Аввакумова', 0.98371625),\n",
       " ('Августин', 0.62244892),\n",
       " ('Августина', 0.51934934),\n",
       " ('Августину', 0.52834439),\n",
       " ('Авдеенко', 0.91756725),\n",
       " ('АВДЕЕНКО', 0.71665442),\n",
       " ('Аверина', 0.72220534),\n",
       " ('Авериным', 0.85976321),\n",
       " ('Аверков', 0.64535874),\n",
       " ('Аверроэс', 0.7900849),\n",
       " ('Аверроэса', 0.84200567),\n",
       " ('Аверроэсом', 0.78937519),\n",
       " ('Аверс', 0.59825367),\n",
       " ('Аверьянов', 0.68442345),\n",
       " ('Аверьянова', 0.98128521),\n",
       " ('Аверьяновым', 0.98111421),\n",
       " ('Аветисова', 0.97585368),\n",
       " ('Аветисян', 0.64666212),\n",
       " ('АВЕТИСЯН', 0.56619841),\n",
       " ('Авилов', 0.79484183),\n",
       " ('Авиньон', 0.8405835),\n",
       " ('Авиньона', 0.79644138),\n",
       " ('Авиньоне', 0.63384724),\n",
       " ('Авраамов', 0.598674),\n",
       " ('Авраамов', 0.598674),\n",
       " ('Авраамова', 0.98673368),\n",
       " ('Авраамову', 0.96654987),\n",
       " ('Авраамовым', 0.98286438),\n",
       " ('Авраамовых', 0.9109816),\n",
       " ('Авралов', 0.67840868),\n",
       " ('Авраменко', 0.75881732),\n",
       " ('АВРАМЕНКО', 0.60163069),\n",
       " ('Аврамова', 0.96304417),\n",
       " ('Агаев', 0.83794683),\n",
       " ('Агаева', 0.95801783),\n",
       " ('Агаевой', 0.97802269),\n",
       " ('Агаевым', 0.98009241),\n",
       " ('Агапкина', 0.89311111),\n",
       " ('Агапову', 0.97284847),\n",
       " ('Агафонов', 0.53703868),\n",
       " ('Агафонова', 0.98742199),\n",
       " ('Агафоновым', 0.98573816),\n",
       " ('Агеев', 0.73468065),\n",
       " ('АГЕЕВ', 0.56200767),\n",
       " ('Агеева', 0.93095094),\n",
       " ('Агеевым', 0.96849668),\n",
       " ('Агеенко', 0.90618223),\n",
       " ('Агилера', 0.52921885),\n",
       " ('Аглай', 0.50529021),\n",
       " ('Аграновичем', 0.52732313),\n",
       " ('Аграновская', 0.96700633),\n",
       " ('Агриппину', 0.50439286),\n",
       " ('Адабашьян', 0.63498491),\n",
       " ('Адальберт', 0.69018441),\n",
       " ('Адальберта', 0.59649688),\n",
       " ('Адаменко', 0.75037515),\n",
       " ('Адамова', 0.94337285),\n",
       " ('Адамовой', 0.9442454),\n",
       " ('Адамову', 0.9560284),\n",
       " ('Адамовым', 0.95556056),\n",
       " ('Адамовых', 0.9633804),\n",
       " ('Адамс', 0.90182203),\n",
       " ('Адамса', 0.74580944),\n",
       " ('Адамсам', 0.77265686),\n",
       " ('Адамсе', 0.75490409),\n",
       " ('Адамсона', 0.88526112),\n",
       " ('Адамсу', 0.84765506),\n",
       " ('АДАМСУ', 0.58665621),\n",
       " ('Аддисоном', 0.60708958),\n",
       " ('Аддисону', 0.62947887),\n",
       " ('Аденауэр', 0.79578894),\n",
       " ('Аденауэра', 0.70224059),\n",
       " ('Аденауэру', 0.78691679),\n",
       " ('Аджиев', 0.95924026),\n",
       " ('Аджиева', 0.97006553),\n",
       " ('Аджмер', 0.6658861),\n",
       " ('Адлер', 0.88364637),\n",
       " ('Адлер', 0.88364637),\n",
       " ('Адлера', 0.66278619),\n",
       " ('Адлера', 0.66278619),\n",
       " ('Адлере', 0.81020355),\n",
       " ('Адлере', 0.81020355),\n",
       " ('Адлеров', 0.86683899),\n",
       " ('Адрианова', 0.98467112),\n",
       " ('Адриановым', 0.98011738),\n",
       " ('Азарина', 0.60051507),\n",
       " ('Азарова', 0.96329701),\n",
       " ('Азизов', 0.62669563),\n",
       " ('Азизову', 0.93972021),\n",
       " ('Азимов', 0.54777515),\n",
       " ('Азимова', 0.94939077),\n",
       " ('Азовский', 0.90573579),\n",
       " ('Аистова', 0.89040256),\n",
       " ('Айвазовский', 0.97317874),\n",
       " ('АЙВАЗОВСКИЙ', 0.83311141),\n",
       " ('Айвазовским', 0.69769055),\n",
       " ('Айвазовского', 0.98695403),\n",
       " ('Айвазяном', 0.5872252),\n",
       " ('Айверсон', 0.8401733),\n",
       " ('Айвз', 0.51697302),\n",
       " ('Айгер', 0.6997152),\n",
       " ('Айдар', 0.62561178),\n",
       " ('Айдара', 0.65710217),\n",
       " ('Айдын', 0.58438867),\n",
       " ('Айер', 0.75418675),\n",
       " ('Айера', 0.90946001),\n",
       " ('Айером', 0.93803096),\n",
       " ('Айерс', 0.94058836),\n",
       " ('Айерсом', 0.94271427),\n",
       " ('Айзексон', 0.70952606),\n",
       " ('Айзексона', 0.65641797),\n",
       " ('Айзексоном', 0.5483501),\n",
       " ('Айзенберг', 0.681454),\n",
       " ('Айзенбергом', 0.74741888),\n",
       " ('Айзенбергу', 0.58447391),\n",
       " ('Айовой', 0.78504115),\n",
       " ('Айрапетян', 0.66696179),\n",
       " ('Айрин', 0.58117551),\n",
       " ('Айрлэнд', 0.82520497),\n",
       " ('Айсберг', 0.51049316),\n",
       " ('АЙТМАТОВ', 0.5326252),\n",
       " ('Айтматова', 0.98574221),\n",
       " ('Акаев', 0.79741025),\n",
       " ('АКАЕВ', 0.54147208),\n",
       " ('Акаевой', 0.95505345),\n",
       " ('Акаеву', 0.93009865),\n",
       " ('Акаевым', 0.95541048),\n",
       " ('Акбаров', 0.66003275),\n",
       " ('АКБАРОВА', 0.86066329),\n",
       " ('Акбулатову', 0.92507368),\n",
       " ('Акер', 0.62267613),\n",
       " ('Акер', 0.62267613),\n",
       " ('Акера', 0.64884919),\n",
       " ('Акермана', 0.72755557),\n",
       " ('Акермане', 0.52313864),\n",
       " ('Акерманом', 0.75014222),\n",
       " ('Акерсом', 0.79034787),\n",
       " ('Акиловым', 0.9753269),\n",
       " ('Акимов', 0.63244545),\n",
       " ('Акимовой', 0.92819935),\n",
       " ('Акимовым', 0.9675684),\n",
       " ('Акин', 0.85203153),\n",
       " ('Акина', 0.82927382),\n",
       " ('Акине', 0.64672524),\n",
       " ('Акинфеев', 0.87105262),\n",
       " ('Аккерман', 0.87450266),\n",
       " ('Аккерманом', 0.57549661),\n",
       " ('Аккерману', 0.68593717),\n",
       " ('Акопову', 0.97074145),\n",
       " ('АКОПЯН', 0.62930876),\n",
       " ('Аксаков', 0.63462901),\n",
       " ('Аксакова', 0.94580805),\n",
       " ('Аксаковы', 0.86421907),\n",
       " ('Аксаковым', 0.97755969),\n",
       " ('Аксаковыми', 0.71706122),\n",
       " ('Аксененко', 0.9201721),\n",
       " ('Аксенов', 0.69363451),\n",
       " ('Аксенову', 0.97539741),\n",
       " ('Аксенова', 0.96293706),\n",
       " ('акт', 0.70685947),\n",
       " ('АКТЕРОВ', 0.50642788),\n",
       " ('Акулина', 0.76922464),\n",
       " ('Акулинин', 0.74213409),\n",
       " ('Акушер', 0.56667346),\n",
       " ('Акушеров', 0.6315583),\n",
       " ('Акцизов', 0.50529498),\n",
       " ('Алабина', 0.53739864),\n",
       " ('Алайский', 0.64198995),\n",
       " ('Аланин', 0.81395751),\n",
       " ('Аларкона', 0.51316249),\n",
       " ('Алберс', 0.71398616),\n",
       " ('Алберта', 0.59883231),\n",
       " ('Албертсон', 0.88464135),\n",
       " ('Алджернон', 0.68904096),\n",
       " ('Алджерноном', 0.50512409),\n",
       " ('Алевтина', 0.60515827),\n",
       " ('Алейников', 0.70772368),\n",
       " ('Алекперова', 0.98330748),\n",
       " ('Алекперову', 0.9544459),\n",
       " ('Александер', 0.70637161),\n",
       " ('Александровская', 0.58799189),\n",
       " ('Александровский', 0.92271543),\n",
       " ('Александровским', 0.78061849),\n",
       " ('Александровской', 0.79033369),\n",
       " ('Александровым', 0.87647432),\n",
       " ('Алексанян', 0.66214144),\n",
       " ('АЛЕКСАНЯН', 0.65717292),\n",
       " ('Алексеев', 0.93089163),\n",
       " ('Алексеев', 0.93089163),\n",
       " ('Алексеева', 0.95741302),\n",
       " ('АЛЕКСЕЕВА', 0.70371407),\n",
       " ('Алексееве', 0.68449646),\n",
       " ('Алексеевым', 0.95680642),\n",
       " ('Аленичева', 0.97417653),\n",
       " ('Алескерова', 0.98781687),\n",
       " ('Алескеровым', 0.98343211),\n",
       " ('Алехина', 0.57756448),\n",
       " ('Алешина', 0.51006931),\n",
       " ('Алешину', 0.52626091),\n",
       " ('Алешиным', 0.92230374),\n",
       " ('Алибаев', 0.96784973),\n",
       " ('Алиев', 0.81233782),\n",
       " ('АЛИЕВ', 0.67639506),\n",
       " ('Алиева', 0.95742911),\n",
       " ('АЛИЕВА', 0.92751634),\n",
       " ('Алиевич', 0.58445901),\n",
       " ('Алиеву', 0.94436824),\n",
       " ('Алиевых', 0.90532738),\n",
       " ('Аликперов', 0.65303558),\n",
       " ('Алимова', 0.96569818),\n",
       " ('Алимову', 0.91509461),\n",
       " ('Алистером', 0.53549045),\n",
       " ('Алифановым', 0.98113972),\n",
       " ('Алиханов', 0.70495409),\n",
       " ('Алиханова', 0.98776591),\n",
       " ('Алишером', 0.75183272),\n",
       " ('Аллейну', 0.5002315),\n",
       " ('Аллилуева', 0.97242504),\n",
       " ('Аллилуевой', 0.93424225),\n",
       " ('Аллилуеву', 0.97467548),\n",
       " ('Аллисона', 0.51819849),\n",
       " ('Алмейда', 0.81665337),\n",
       " ('Алонсо', 0.52636945),\n",
       " ('Алпатова', 0.93847024),\n",
       " ('Алтаева', 0.96362025),\n",
       " ('Алтунин', 0.59614724),\n",
       " ('Алтухову', 0.96290272),\n",
       " ('Алфеев', 0.9755823),\n",
       " ('Алфеева', 0.96364212),\n",
       " ('Алферов', 0.74233383),\n",
       " ('Алферова', 0.96849209),\n",
       " ('АЛХАНОВ', 0.53197491),\n",
       " ('Алханова', 0.97763216),\n",
       " ('Алхановым', 0.97873735),\n",
       " ('Алхимов', 0.61633569),\n",
       " ('Альбервиле', 0.56056809),\n",
       " ('Альберс', 0.81377178),\n",
       " ('Альберт', 0.58537382),\n",
       " ('Альберта', 0.58885366),\n",
       " ('Альбертина', 0.77523106),\n",
       " ('Альбертине', 0.63349509),\n",
       " ('Альбертом', 0.7458033),\n",
       " ('Альбертсону', 0.8715446),\n",
       " ('Альгер', 0.69591534),\n",
       " ('Альков', 0.51959348),\n",
       " ('Альмейда', 0.63045543),\n",
       " ('Альмодовар', 0.54511338),\n",
       " ('Альтмана', 0.56861997),\n",
       " ('Альтманом', 0.51390213),\n",
       " ('Альфонсо', 0.56804657),\n",
       " ('Альфонсом', 0.83604509),\n",
       " ('Альянсе', 0.50521308),\n",
       " ('Альянсу', 0.50573289),\n",
       " ('Алябьев', 0.88876164),\n",
       " ('Аманов', 0.81545061),\n",
       " ('Амелин', 0.53866589),\n",
       " ('Амелькина', 0.82456505),\n",
       " ('Амино', 0.5031386),\n",
       " ('Амину', 0.58551943),\n",
       " ('Амиров', 0.53795314),\n",
       " ('Амирову', 0.92569178),\n",
       " ('Амировым', 0.96120578),\n",
       " ('АММАН', 0.58313972),\n",
       " ('Амосов', 0.63017267),\n",
       " ('Амосова', 0.85005093),\n",
       " ('Амундсена', 0.65544438),\n",
       " ('Ананенкова', 0.98621988),\n",
       " ('АНАНЕНКОВА', 0.97668523),\n",
       " ('Ананенкову', 0.97353542),\n",
       " ('Ананьева', 0.91012347),\n",
       " ('Ананьин', 0.71900314),\n",
       " ('Анатольева', 0.59586614),\n",
       " ('Анвина', 0.75930274),\n",
       " ('Анвину', 0.75861621),\n",
       " ('Ангаров', 0.64944243),\n",
       " ('Ангелина', 0.64309579),\n",
       " ('Ангер', 0.59709829),\n",
       " ('Ангина', 0.70471984),\n",
       " ('Андервуд', 0.88095152),\n",
       " ('Андервудом', 0.89816177),\n",
       " ('Андеррайтинг', 0.52915716),\n",
       " ('Андерсена', 0.6809147),\n",
       " ('Андерсеном', 0.90498704),\n",
       " ('Андерсену', 0.83160961),\n",
       " ('Андерсон', 0.87300169),\n",
       " ('Андерсон', 0.87300169),\n",
       " ('АНДЕРСОН', 0.66158468),\n",
       " ('Андерсонам', 0.85912079),\n",
       " ('Андерсоне', 0.6862734),\n",
       " ('Андерхилл', 0.6540162),\n",
       " ('Андерхиллам', 0.6972295),\n",
       " ('Андерхиллов', 0.81426913),\n",
       " ('Андерхиллом', 0.84539181),\n",
       " ('Андерхиллу', 0.86227775),\n",
       " ('Анджелина', 0.56249809),\n",
       " ('Андре', 0.5128746),\n",
       " ('Андреев', 0.93525952),\n",
       " ('АНДРЕЕВ', 0.7224924),\n",
       " ('Андреевым', 0.95787442),\n",
       " ('Андреевых', 0.9294911),\n",
       " ('Андрейченко', 0.80700731),\n",
       " ('Андресом', 0.69983566),\n",
       " ('Андриан', 0.51110286),\n",
       " ('Андрианова', 0.98315424),\n",
       " ('Андриевский', 0.96791726),\n",
       " ('Андриевских', 0.86013347),\n",
       " ('Андриевского', 0.98421961),\n",
       " ('Андрисом', 0.53955364),\n",
       " ('Андроников', 0.75854707),\n",
       " ('Андроникова', 0.98883909),\n",
       " ('Андронов', 0.66285741),\n",
       " ('Андронову', 0.9681685),\n",
       " ('Андропове', 0.7385323),\n",
       " ('Андроповым', 0.93654841),\n",
       " ('Андросов', 0.68645859),\n",
       " ('Андросова', 0.94613236),\n",
       " ('Андрюшина', 0.64911664),\n",
       " ('Аникин', 0.86390996),\n",
       " ('Аникина', 0.89180738),\n",
       " ('Аникушину', 0.63232034),\n",
       " ('Анисимов', 0.56708711),\n",
       " ('Анисимова', 0.98783606),\n",
       " ('Анисимовым', 0.96686),\n",
       " ('Аничков', 0.78317618),\n",
       " ('Аничкова', 0.98164958),\n",
       " ('Анкудиновой', 0.96135092),\n",
       " ('Анналов', 0.62230051),\n",
       " ('Анненков', 0.71500939),\n",
       " ('Анненкова', 0.97417927),\n",
       " ('Анохин', 0.79571766),\n",
       " ('Аношину', 0.74335641),\n",
       " ('Аношкин', 0.83978933),\n",
       " ('Ансельмов', 0.53475469),\n",
       " ('Антинори', 0.54482836),\n",
       " ('Антипин', 0.68250334),\n",
       " ('Антипиных', 0.83360177),\n",
       " ('Антокольского', 0.95991337),\n",
       " ('Антонин', 0.85968918),\n",
       " ('Антонина', 0.88760775),\n",
       " ('Антонине', 0.75870407),\n",
       " ('Антонинов', 0.68495429),\n",
       " ('Антонином', 0.62492943),\n",
       " ('Антонину', 0.77486789),\n",
       " ('Антонов', 0.55208099),\n",
       " ('Антоновича', 0.54404122),\n",
       " ('Антоновичем', 0.67852545),\n",
       " ('Антоновой', 0.96475506),\n",
       " ('Антоновский', 0.97730154),\n",
       " ('Антоновского', 0.98903394),\n",
       " ('Антохина', 0.77989918),\n",
       " ('Антропов', 0.66890526),\n",
       " ('Анучин', 0.74190915),\n",
       " ('Анфимова', 0.96392882),\n",
       " ('Анчоус', 0.68506646),\n",
       " ('Апгрейд', 0.85530734),\n",
       " ('Апдайков', 0.75180399),\n",
       " ('Аполлонов', 0.60267591),\n",
       " ('Аппел', 0.5900445),\n",
       " ('Аппеля', 0.54726601),\n",
       " ('Апчерч', 0.64822978),\n",
       " ('Апчерче', 0.70507616),\n",
       " ('АРАБОВ', 0.69075006),\n",
       " ('Аракелов', 0.56578332),\n",
       " ('Аракчеев', 0.91539067),\n",
       " ('Аракчеева', 0.97324139),\n",
       " ('Аракчееву', 0.97441477),\n",
       " ('Арбатов', 0.58906955),\n",
       " ('Арбатовым', 0.96427643),\n",
       " ('Арбузова', 0.97228765),\n",
       " ('Аргунов', 0.74978715),\n",
       " ('Аргуновым', 0.98392266),\n",
       " ('Ардаматского', 0.9585309),\n",
       " ('Ардена', 0.54542089),\n",
       " ('Ардену', 0.59760731),\n",
       " ('АРЕВА', 0.66583604),\n",
       " ('Аревало', 0.6456756),\n",
       " ('Аренс', 0.63756883),\n",
       " ('Аренса', 0.55083358),\n",
       " ('Аренскому', 0.97000378),\n",
       " ('Арзуманов', 0.91532522),\n",
       " ('Арзуманян', 0.81214279),\n",
       " ('Ариевич', 0.56321329),\n",
       " ('Арканов', 0.64379674),\n",
       " ('Аркрайт', 0.78129494),\n",
       " ('Арлекин', 0.78515857),\n",
       " ('Арлекина', 0.8499279),\n",
       " ('Арлекине', 0.57706338),\n",
       " ('Арманов', 0.79149413),\n",
       " ('Армстид', 0.69967258),\n",
       " ('Армстронгам', 0.63435084),\n",
       " ('Армстронге', 0.86758971),\n",
       " ('АРМЯН', 0.71719837),\n",
       " ('Армянина', 0.79205722),\n",
       " ('Арнольд', 0.63122702),\n",
       " ('АРНОЛЬД', 0.64212811),\n",
       " ('АРНОЛЬД', 0.64212811),\n",
       " ('Арнольдом', 0.56072795),\n",
       " ('Арнольфо', 0.53527677),\n",
       " ('Аронсон', 0.9213987),\n",
       " ('Аронсоне', 0.64467633),\n",
       " ('Арраса', 0.54708624),\n",
       " ('Арредондо', 0.50892639),\n",
       " ('Аррениуса', 0.78234994),\n",
       " ('Аррениусом', 0.58508182),\n",
       " ('Арриан', 0.530882),\n",
       " ('Арсеньев', 0.88262165),\n",
       " ('АРСЕНЬЕВ', 0.67266321),\n",
       " ('Арсеньеву', 0.93528444),\n",
       " ('Арсеньевым', 0.90759242),\n",
       " ('Артемиев', 0.84637463),\n",
       " ('Артемьев', 0.89246798),\n",
       " ('АРТЕМЬЕВ', 0.57575125),\n",
       " ('Артемьева', 0.95628887),\n",
       " ('Артемьеву', 0.95473343),\n",
       " ('Артемьевым', 0.93901426),\n",
       " ('Артистов', 0.53465855),\n",
       " ('Артуров', 0.6642018),\n",
       " ('Артюхов', 0.68324172),\n",
       " ('Арутюнов', 0.75723296),\n",
       " ('Архиереев', 0.5470106),\n",
       " ('Архипова', 0.97860903),\n",
       " ('Архиповой', 0.92663604),\n",
       " ('Арчер', 0.8177225),\n",
       " ('Арчера', 0.8200593),\n",
       " ('Арчере', 0.75701326),\n",
       " ('Арчеру', 0.83587998),\n",
       " ('Аршавина', 0.71858174),\n",
       " ('Аршавину', 0.64836097),\n",
       " ('Аршавиным', 0.92466754),\n",
       " ('Аршавский', 0.87567979),\n",
       " ('Асадуллина', 0.6405676),\n",
       " ('Асер', 0.56837738),\n",
       " ('Аскаров', 0.71899486),\n",
       " ('Аскеров', 0.7771371),\n",
       " ('Асланов', 0.74505371),\n",
       " ('аспекты', 0.55805987),\n",
       " ('Аспирина', 0.63906914),\n",
       " ('Астафьева', 0.92750794),\n",
       " ('Астахов', 0.58964688),\n",
       " ('Астахова', 0.9240517),\n",
       " ('Асташев', 0.94532192),\n",
       " ('Астером', 0.71829855),\n",
       " ('Асунсьон', 0.61881244),\n",
       " ('Атабеков', 0.68661952),\n",
       " ('Атаев', 0.69669688),\n",
       " ('Атаевым', 0.95717388),\n",
       " ('Атаманский', 0.96611416),\n",
       " ('Атанасова', 0.97821563),\n",
       " ('Аткин', 0.83161974),\n",
       " ('Аткина', 0.83541203),\n",
       " ('Аткинса', 0.79614079),\n",
       " ('Аткинсон', 0.9749018),\n",
       " ('Аткинсона', 0.96548694),\n",
       " ('Аткинсоном', 0.86244065),\n",
       " ('Аткинсону', 0.97050369),\n",
       " ('Аткинсу', 0.94980335),\n",
       " ('Атлетов', 0.57129133),\n",
       " ('Атрошенко', 0.74615705),\n",
       " ('Атрощенко', 0.74615705),\n",
       " ('Атчисон', 0.58000731),\n",
       " ('Аушвитц', 0.80198044),\n",
       " ('Ауэра', 0.60765278),\n",
       " ('Ауэрбах', 0.50660813),\n",
       " ('Ауэрбаха', 0.68966967),\n",
       " ('Ауэрбахом', 0.70505041),\n",
       " ('Афанасьев', 0.84903675),\n",
       " ('Афанасьева', 0.91142726),\n",
       " ('Афанасьевой', 0.82996398),\n",
       " ('Афанасьевым', 0.94230413),\n",
       " ('Афера', 0.59825259),\n",
       " ('Аферу', 0.55019844),\n",
       " ('Афипский', 0.74989021),\n",
       " ('Афонский', 0.93738449),\n",
       " ('Афонским', 0.83595675),\n",
       " ('Афонского', 0.95948493),\n",
       " ('Афонской', 0.5784539),\n",
       " ('Афонскому', 0.94029987),\n",
       " ('Аффидевит', 0.82434791),\n",
       " ('Ахадов', 0.54177547),\n",
       " ('Ахадовым', 0.94399852),\n",
       " ('Аханов', 0.81297112),\n",
       " ('АХЕРН', 0.59389079),\n",
       " ('Ахерну', 0.64756721),\n",
       " ('Ахмадеева', 0.94545937),\n",
       " ('Ахмадов', 0.61984187),\n",
       " ('Ахмадова', 0.94514179),\n",
       " ('Ахмадову', 0.96027124),\n",
       " ('Ахмадулина', 0.57174605),\n",
       " ('Ахматов', 0.59862036),\n",
       " ('Ахматова', 0.96637315),\n",
       " ('Ахматовой', 0.95559406),\n",
       " ('Ахматову', 0.96749038),\n",
       " ('Ахмедов', 0.66541249),\n",
       " ('Ахмеров', 0.69946963),\n",
       " ('Ахмета', 0.51667255),\n",
       " ('Ахметов', 0.61154544),\n",
       " ('Ахметова', 0.96703041),\n",
       " ('Ахметовым', 0.97971284),\n",
       " ('Ахунов', 0.82190275),\n",
       " ('Ахунова', 0.97905535),\n",
       " ('Ацтеков', 0.60449237),\n",
       " ('Ашер', 0.64887822),\n",
       " ('Ашера', 0.67117554),\n",
       " ('Ашере', 0.54449409),\n",
       " ('Ашеров', 0.72809196),\n",
       " ('Ашером', 0.78827846),\n",
       " ('Ашеру', 0.7355206),\n",
       " ('Аширова', 0.96710789),\n",
       " ('Аширову', 0.95289874),\n",
       " ('Ашмарин', 0.62235457),\n",
       " ('Аяцков', 0.85686326),\n",
       " ('Аяцкова', 0.98610562),\n",
       " ('Бабаджанян', 0.60163742),\n",
       " ('Бабаева', 0.97589034),\n",
       " ('Бабаевым', 0.97390193),\n",
       " ('Бабаевых', 0.95903301),\n",
       " ('Бабаков', 0.67520678),\n",
       " ('Бабакова', 0.95813018),\n",
       " ('Бабакову', 0.97636253),\n",
       " ('Бабаковым', 0.97696996),\n",
       " ('Бабанский', 0.97755957),\n",
       " ('Бабб', 0.54773933),\n",
       " ('Баббу', 0.58929563),\n",
       " ('Бабенко', 0.91225183),\n",
       " ('Бабенкова', 0.97657305),\n",
       " ('Бабин', 0.72526199),\n",
       " ('Бабина', 0.73336548),\n",
       " ('Бабицкий', 0.94601965),\n",
       " ('Бабицкого', 0.77041095),\n",
       " ('Бабичев', 0.95623052),\n",
       " ('Бабичева', 0.97302467),\n",
       " ('Бабкин', 0.95347333),\n",
       " ('Бабкина', 0.93540323),\n",
       " ('Бабкиной', 0.90929544),\n",
       " ('Бабкину', 0.90847063),\n",
       " ('Бабуин', 0.79534477),\n",
       " ('Бабурин', 0.61791736),\n",
       " ('Бабуриным', 0.92723745),\n",
       " ('Бабченко', 0.90117246),\n",
       " ('Бавыкин', 0.82603079),\n",
       " ('Бавыкина', 0.876311),\n",
       " ('Бавыкиным', 0.95622945),\n",
       " ('Багаева', 0.97952157),\n",
       " ('Баглай', 0.51680392),\n",
       " ('Багрове', 0.60576063),\n",
       " ('Багс', 0.62034237),\n",
       " ('Бадаева', 0.94740069),\n",
       " ('Бадалов', 0.65686405),\n",
       " ('Бадалова', 0.92828184),\n",
       " ('Баданов', 0.70840263),\n",
       " ('Бадди', 0.62852961),\n",
       " ('Бадеру', 0.68897647),\n",
       " ('Бадмаев', 0.93894166),\n",
       " ('Баев', 0.53144681),\n",
       " ('Баева', 0.60585767),\n",
       " ('Баевский', 0.91079891),\n",
       " ('Баер', 0.61220419),\n",
       " ('Баера', 0.57704806),\n",
       " ('Бажаева', 0.96151292),\n",
       " ('Баженов', 0.55145866),\n",
       " ('Баженова', 0.94630772),\n",
       " ('БАЖЕНОВА', 0.93484151),\n",
       " ('Баженовой', 0.9245531),\n",
       " ('Базанов', 0.62405276),\n",
       " ('Базанова', 0.94715607),\n",
       " ('Базарова', 0.97698408),\n",
       " ('Базилевич', 0.68449032),\n",
       " ('Базилевский', 0.96888238),\n",
       " ('Базилевским', 0.74974692),\n",
       " ('Базилевского', 0.98692966),\n",
       " ('Базина', 0.70113981),\n",
       " ('Базылев', 0.90560067),\n",
       " ('Базылева', 0.94674045),\n",
       " ('Байбаков', 0.71552116),\n",
       " ('Байбакова', 0.96175432),\n",
       " ('Байбл', 0.66434717),\n",
       " ('Байдаков', 0.78511071),\n",
       " ('Байдакова', 0.96964979),\n",
       " ('Байдаковым', 0.98051125),\n",
       " ('Байде', 0.71524048),\n",
       " ('Байдой', 0.70468521),\n",
       " ('Байду', 0.71050966),\n",
       " ('Байдуков', 0.77497685),\n",
       " ('Байер', 0.89597631),\n",
       " ('Байер', 0.89597631),\n",
       " ('Байера', 0.9078154),\n",
       " ('Байере', 0.80377036),\n",
       " ('Байером', 0.90681607),\n",
       " ('Байерс', 0.92556912),\n",
       " ('Байерсом', 0.89250326),\n",
       " ('Байеру', 0.89262331),\n",
       " ('Байкер', 0.6102944),\n",
       " ('Байкеров', 0.69521677),\n",
       " ('Байкером', 0.71311116),\n",
       " ('Байкеру', 0.69064027),\n",
       " ('Байков', 0.57848346),\n",
       " ('Байкова', 0.94526386),\n",
       " ('Байрамов', 0.65776664),\n",
       " ('Байрамова', 0.96359444),\n",
       " ('Байрнс', 0.8161127),\n",
       " ('Байсултанова', 0.97387177),\n",
       " ('Бакаев', 0.93282437),\n",
       " ('Бакаеву', 0.96763694),\n",
       " ('Бакалов', 0.62809497),\n",
       " ('Бакеев', 0.94829756),\n",
       " ('Бакиева', 0.96538568),\n",
       " ('БАКИЕВА', 0.95732135),\n",
       " ('Бакиевым', 0.94872224),\n",
       " ('Бакиевых', 0.93490237),\n",
       " ('Бакин', 0.89562708),\n",
       " ('Бакина', 0.85830373),\n",
       " ('Бакингемом', 0.54987973),\n",
       " ('Бакирова', 0.95214564),\n",
       " ('Бакланов', 0.77307928),\n",
       " ('Бакланова', 0.96667653),\n",
       " ('Бакминстеру', 0.50983119),\n",
       " ('Бакнер', 0.6643675),\n",
       " ('БАКНЕР', 0.51206452),\n",
       " ('Баксов', 0.55229425),\n",
       " ('Баксом', 0.50701261),\n",
       " ('Бакстером', 0.58942765),\n",
       " ('Бакстом', 0.53867018),\n",
       " ('Бакстону', 0.50532919),\n",
       " ('Бакулин', 0.83141726),\n",
       " ('Бакулина', 0.8882913),\n",
       " ('Бакулиным', 0.94960117),\n",
       " ('Бакунин', 0.80841833),\n",
       " ('Бакунина', 0.85521954),\n",
       " ('Бакунине', 0.57852483),\n",
       " ('Бакуниным', 0.93592876),\n",
       " ('Балабанов', 0.81166506),\n",
       " ('Балакиревой', 0.85742134),\n",
       " ('Балакшин', 0.59140569),\n",
       " ('Баландина', 0.6768409),\n",
       " ('Баландину', 0.71498507),\n",
       " ('Баландиным', 0.87461662),\n",
       " ('Баланова', 0.96808988),\n",
       " ('Баланчина', 0.70511377),\n",
       " ('Балахонов', 0.65933603),\n",
       " ('Балашов', 0.69843918),\n",
       " ('Балашова', 0.97301179),\n",
       " ('Балашове', 0.85717398),\n",
       " ('Балашову', 0.9737066),\n",
       " ('Балде', 0.51263678),\n",
       " ('Баленко', 0.89390099),\n",
       " ('Балерина', 0.7246598),\n",
       " ('Балерун', 0.63249731),\n",
       " ('Бали', 0.5593102),\n",
       " ('Балларда', 0.65025663),\n",
       " ('Баллардом', 0.68015862),\n",
       " ('Баллинджер', 0.80081451),\n",
       " ('Баллинджеру', 0.81618488),\n",
       " ('Баллмером', 0.78192216),\n",
       " ('Балмер', 0.67694992),\n",
       " ('Балмера', 0.57294971),\n",
       " ('Балмером', 0.8001008),\n",
       " ('Балтин', 0.67863965),\n",
       " ('Балуева', 0.95749283),\n",
       " ('Балыкин', 0.9059599),\n",
       " ('Бальмэна', 0.7717455),\n",
       " ('Балясина', 0.57119125),\n",
       " ('Бамако', 0.50962275),\n",
       " ('БАНАН', 0.52376783),\n",
       " ('Бандераса', 0.53269345),\n",
       " ('Бандероли', 0.50336045),\n",
       " ('Бандурина', 0.70380169),\n",
       " ('Банин', 0.81313312),\n",
       " ('Банина', 0.7729823),\n",
       " ('Банк', 0.56096882),\n",
       " ('Банкер-Хилл', 0.50259471),\n",
       " ('Банкиров', 0.66532403),\n",
       " ('БАНКОВ', 0.56996936),\n",
       " ('Баннер', 0.56103826),\n",
       " ('Баннером', 0.71789122),\n",
       " ('Баннером', 0.71789122),\n",
       " ('Баннеру', 0.54121),\n",
       " ('Баннинга', 0.75686187),\n",
       " ('Баннов', 0.58033383),\n",
       " ('Банова', 0.95939243),\n",
       " ('Бантиков', 0.56236011),\n",
       " ('Бантинг', 0.59650278),\n",
       " ('Бантингом', 0.71087718),\n",
       " ('Бантингу', 0.63882959),\n",
       " ('Банчем', 0.57710367),\n",
       " ('Барабанов', 0.82341844),\n",
       " ('Бараев', 0.92729282),\n",
       " ('Бараевым', 0.97114605),\n",
       " ('Баранина', 0.8548609),\n",
       " ('Баранину', 0.83433169),\n",
       " ('Баранникова', 0.98947221),\n",
       " ('Баранникову', 0.96926236),\n",
       " ('БАРАНОВ', 0.71200174),\n",
       " ('Баранова', 0.96622002),\n",
       " ('Барановичи', 0.75119841),\n",
       " ('Барановская', 0.96843541),\n",
       " ('Барановским', 0.85621333),\n",
       " ('Барановского', 0.98804772),\n",
       " ('Баратов', 0.56031859),\n",
       " ('Баратову', 0.97343224),\n",
       " ('Баратынскому', 0.97147691),\n",
       " ('Барашков', 0.64919806),\n",
       " ('Барбадоской', 0.57427585),\n",
       " ('Барбер', 0.56596196),\n",
       " ('Барбером', 0.63038117),\n",
       " ('Барболин', 0.67308533),\n",
       " ('Бардин', 0.6356802),\n",
       " ('Бардина', 0.74649912),\n",
       " ('Бардиным', 0.95604974),\n",
       " ('Бареев', 0.87512767),\n",
       " ('Барет', 0.54705358),\n",
       " ('Бариев', 0.87093544),\n",
       " ('Барина', 0.50831699),\n",
       " ('Баринов', 0.81577533),\n",
       " ('Баринова', 0.98222071),\n",
       " ('Баринову', 0.98057485),\n",
       " ('Бариновым', 0.98678976),\n",
       " ('Барином', 0.57406586),\n",
       " ('Барк', 0.68454176),\n",
       " ('Баркера', 0.59517419),\n",
       " ('Баркеру', 0.62810558),\n",
       " ('Барклай', 0.65032089),\n",
       " ('Баркли', 0.61550045),\n",
       " ('Барков', 0.56975168),\n",
       " ('Баркова', 0.94868654),\n",
       " ('Барковой', 0.95840758),\n",
       " ('Барковых', 0.96902925),\n",
       " ('Барнаула', 0.50035822),\n",
       " ('Барнет', 0.67476982),\n",
       " ('Барнете', 0.62130398),\n",
       " ('Барнетт', 0.89115405),\n",
       " ('Барнетта', 0.84688121),\n",
       " ('Барнеттом', 0.77444702),\n",
       " ('Барнеттом', 0.77444702),\n",
       " ('Барнету', 0.66846293),\n",
       " ('Барнз', 0.6015808),\n",
       " ('Барнс', 0.77290881),\n",
       " ('Барнса', 0.89510643),\n",
       " ('Барнса', 0.89510643),\n",
       " ('Барнсе', 0.84815782),\n",
       " ('Барнсли', 0.74562728),\n",
       " ('Барнсом', 0.92140102),\n",
       " ('Барнсом', 0.92140102),\n",
       " ('Барнстейбл', 0.54248971),\n",
       " ('Барнхилл', 0.61572403),\n",
       " ('Барнхиллу', 0.51161557),\n",
       " ('БАРОНОВ', 0.52930945),\n",
       " ('БАРОНОВ', 0.52930945),\n",
       " ('Барр', 0.80210823),\n",
       " ('Барра', 0.78872764),\n",
       " ('Барре', 0.72869724),\n",
       " ('Баррелл', 0.8343814),\n",
       " ('Баррель', 0.57801914),\n",
       " ('Баррера', 0.84792751),\n",
       " ('Барретт', 0.90433609),\n",
       " ('Барретта', 0.80172408),\n",
       " ('Баррингтона', 0.62550515),\n",
       " ('Баррингтоне', 0.70813191),\n",
       " ('Баррингтонов', 0.75333983),\n",
       " ('Барриос', 0.85442859),\n",
       " ('Барриоса', 0.71409136),\n",
       " ('Барриосе', 0.57152063),\n",
       " ('Баррис', 0.80526567),\n",
       " ('Баррису', 0.88734835),\n",
       " ('Барро', 0.72316796),\n",
       " ('Баррой', 0.55969596),\n",
       " ('Барром', 0.79701799),\n",
       " ('Барроуз', 0.96713245),\n",
       " ('Барроуза', 0.89522266),\n",
       " ('Барроузом', 0.92305452),\n",
       " ('Барса', 0.65131694),\n",
       " ('Барсов', 0.60623288),\n",
       " ('Барсова', 0.96576327),\n",
       " ('Бартеневым', 0.93788254),\n",
       " ('Бартера', 0.54427999),\n",
       " ('Бартини', 0.64268631),\n",
       " ('Бартлетт', 0.85898888),\n",
       " ('Бартлетту', 0.52682757),\n",
       " ('Бартов', 0.70991844),\n",
       " ('Бартока', 0.58477288),\n",
       " ('Бартон', 0.51300198),\n",
       " ('Бартон', 0.51300198),\n",
       " ('Барфилд', 0.51529121),\n",
       " ('Бархэма', 0.56753039),\n",
       " ('Барышников', 0.7287395),\n",
       " ('Барышникова', 0.989613),\n",
       " ('Барятинского', 0.98014885),\n",
       " ('Барятинской', 0.89192641),\n",
       " ('Басаргин', 0.64773446),\n",
       " ('Басиным', 0.94438219),\n",
       " ('Басистов', 0.53986615),\n",
       " ('Басистова', 0.90984815),\n",
       " ('Басистову', 0.85894185),\n",
       " ('Баскаев', 0.92661619),\n",
       " ('Баскаков', 0.65362096),\n",
       " ('Баскакова', 0.95991075),\n",
       " ('Баскин', 0.87297863),\n",
       " ('БАСКИН', 0.70893037),\n",
       " ('Баскина', 0.9286719),\n",
       " ('Басков', 0.69438577),\n",
       " ('Баскову', 0.94513714),\n",
       " ('Басманов', 0.81710321),\n",
       " ('Басова', 0.96613955),\n",
       " ('Басовой', 0.93968749),\n",
       " ('Басс', 0.53661758),\n",
       " ('Басса', 0.60021752),\n",
       " ('Бассетта', 0.80673379),\n",
       " ('Бассетте', 0.72785658),\n",
       " ('Бассеттом', 0.8208189),\n",
       " ('Бассетту', 0.71626145),\n",
       " ('Бассу', 0.51334381),\n",
       " ('Бастер', 0.56685281),\n",
       " ('Бастером', 0.52894974),\n",
       " ('Бастрыкин', 0.69535458),\n",
       " ('Баталова', 0.95015329),\n",
       " ('Батанова', 0.92590278),\n",
       " ('Батановой', 0.92626852),\n",
       " ('Баташова', 0.93690753),\n",
       " ('Батина', 0.61605287),\n",
       " ('Баткин', 0.87367898),\n",
       " ('Батлер', 0.59428638),\n",
       " ('Батлера', 0.65292376),\n",
       " ('Батлеров', 0.70036548),\n",
       " ('Батлером', 0.72349566),\n",
       " ('Батт', 0.61108786),\n",
       " ('Баттен', 0.77823901),\n",
       " ('Баттена', 0.65521032),\n",
       " ('Баттерси', 0.7476064),\n",
       " ('Баттерфилда', 0.70055574),\n",
       " ('Баттиста', 0.78292006),\n",
       " ('Баттисту', 0.69307977),\n",
       " ('Баттл', 0.90838307),\n",
       " ('Баттлу', 0.73796374),\n",
       " ('Баттону', 0.73137861),\n",
       " ('Баттс', 0.75474519),\n",
       " ('Батурин', 0.69053781),\n",
       " ('Батурина', 0.79170763),\n",
       " ('Батурину', 0.79371351),\n",
       " ('Батыров', 0.59742212),\n",
       " ('Батырова', 0.95336479),\n",
       " ('Батыровым', 0.96682382),\n",
       " ('Батыровых', 0.94000286),\n",
       " ('Батюшкова', 0.95201868),\n",
       " ('Батюшкове', 0.68859321),\n",
       " ('Бауер', 0.85712659),\n",
       " ('Бауером', 0.91159999),\n",
       " ('Бауеру', 0.8829726),\n",
       " ('Баузера', 0.81259835),\n",
       " ('Баузеру', 0.86945963),\n",
       " ('Баулина', 0.87633598),\n",
       " ('Баум', 0.67685688),\n",
       " ('Бауман', 0.81925571),\n",
       " ('Баумана', 0.65481764),\n",
       " ('Бауманом', 0.70603555),\n",
       " ('Бауману', 0.61048907),\n",
       " ('Баумом', 0.71366513),\n",
       " ('Баундс', 0.82470083),\n",
       " ('Баунти', 0.53046787),\n",
       " ('Бауэра', 0.92904252),\n",
       " ('Бауэром', 0.92963737),\n",
       " ('БАУЭРС', 0.57256639),\n",
       " ('Бауэрса', 0.93495375),\n",
       " ('Бауэрсам', 0.76169831),\n",
       " ('Бауэрсе', 0.90915155),\n",
       " ('Бауэрсом', 0.91140938),\n",
       " ('Бауэрсу', 0.89353323),\n",
       " ('Бауэру', 0.9330126),\n",
       " ('Бауэры', 0.87196416),\n",
       " ('Баффета', 0.81990558),\n",
       " ('Баффеттов', 0.96626717),\n",
       " ('Баффина', 0.93608886),\n",
       " ('Бахман', 0.78564423),\n",
       " ('Бахмана', 0.66246873),\n",
       " ('Бахманом', 0.56291735),\n",
       " ('Бахману', 0.57657963),\n",
       " ('Бахметьев', 0.88088065),\n",
       " ('Бахов', 0.57643729),\n",
       " ('Бахтиер', 0.62179244),\n",
       " ('Бахтин', 0.69546771),\n",
       " ('Бачурин', 0.63171953),\n",
       " ('Баширов', 0.67903721),\n",
       " ('Баяндина', 0.59079337),\n",
       " ('Баянов', 0.77207756),\n",
       " ('Баянова', 0.97233385),\n",
       " ('Беарна', 0.51675254),\n",
       " ('Беверидж', 0.55933255),\n",
       " ('Бевериджа', 0.89126939),\n",
       " ('Бевериджем', 0.65477449),\n",
       " ('Беверли', 0.79106051),\n",
       " ('Беверли', 0.79106051),\n",
       " ('Беглецов', 0.59911269),\n",
       " ('Бегли', 0.55800688),\n",
       " ('Беглов', 0.51908499),\n",
       " ('БЕГУН', 0.55429929),\n",
       " ('Бедфордом', 0.54485798),\n",
       " ('Бедфорду', 0.63401389),\n",
       " ('Беерс', 0.77770573),\n",
       " ('Безбородова', 0.98122901),\n",
       " ('Безбородовой', 0.95109487),\n",
       " ('Безгин', 0.55567127),\n",
       " ('Безобразова', 0.98109847),\n",
       " ('Безруков', 0.66970849),\n",
       " ('Безумцев', 0.62151664),\n",
       " ('Безыменский', 0.99152398),\n",
       " ('Безыменского', 0.97759104),\n",
       " ('Бейб', 0.73945892),\n",
       " ('Бейба', 0.74671525),\n",
       " ('Бейдер', 0.96005279),\n",
       " ('Бейер', 0.98000515),\n",
       " ('Бейкер', 0.86190856),\n",
       " ('БЕЙКЕР', 0.73954272),\n",
       " ('Бейкере', 0.60880876),\n",
       " ('Бейкером', 0.86716443),\n",
       " ('Бейкерсфилд', 0.63203108),\n",
       " ('Бейкеру', 0.83056724),\n",
       " ('Бейкон', 0.7886095),\n",
       " ('Бейкона', 0.54500234),\n",
       " ('Бейконов', 0.68441522),\n",
       " ('Бейконы', 0.57360524),\n",
       " ('Бейли', 0.93263066),\n",
       " ('БЕЙЛИ', 0.70651251),\n",
       " ('Бейлин', 0.77440292),\n",
       " ('Бейлину', 0.63787514),\n",
       " ('Бейлиса', 0.8127836),\n",
       " ('Бейлифу', 0.7103405),\n",
       " ('Бейлора', 0.77410358),\n",
       " ('Бейль', 0.77264297),\n",
       " ('Бейлю', 0.90331262),\n",
       " ('Бейля', 0.84989852),\n",
       " ('Бейн', 0.73856807),\n",
       " ('Бейна', 0.67542487),\n",
       " ('Бейне', 0.68342543),\n",
       " ('Бейнза', 0.78214091),\n",
       " ('Бейнзов', 0.69830084),\n",
       " ('Бейнс', 0.86921257),\n",
       " ...]"
      ]
     },
     "execution_count": 56,
     "metadata": {},
     "output_type": "execute_result"
    }
   ],
   "source": [
    "[(test.iloc[i]['x'], sample_submission.iloc[i]['Answer']) for i in [i for i, x in enumerate(sample_submission['Answer']) if x > 0.5]]"
   ]
  },
  {
   "cell_type": "code",
   "execution_count": 57,
   "metadata": {
    "collapsed": true
   },
   "outputs": [],
   "source": [
    "sample_submission.to_csv(\"submission.csv\", sep=',', index=False)\n",
    "notify('Done with submission!')"
   ]
  },
  {
   "cell_type": "code",
   "execution_count": 128,
   "metadata": {
    "scrolled": true
   },
   "outputs": [
    {
     "ename": "ValueError",
     "evalue": "Input contains NaN, infinity or a value too large for dtype('float64').",
     "output_type": "error",
     "traceback": [
      "\u001b[0;31m---------------------------------------------------------------------------\u001b[0m",
      "\u001b[0;31mValueError\u001b[0m                                Traceback (most recent call last)",
      "\u001b[0;32m<ipython-input-128-f8c385750fdd>\u001b[0m in \u001b[0;36m<module>\u001b[0;34m()\u001b[0m\n\u001b[0;32m----> 1\u001b[0;31m \u001b[0mget_ipython\u001b[0m\u001b[0;34m(\u001b[0m\u001b[0;34m)\u001b[0m\u001b[0;34m.\u001b[0m\u001b[0mrun_cell_magic\u001b[0m\u001b[0;34m(\u001b[0m\u001b[0;34m'time'\u001b[0m\u001b[0;34m,\u001b[0m \u001b[0;34m''\u001b[0m\u001b[0;34m,\u001b[0m \u001b[0;34m\"lrs = LogisticRegression()\\n\\nlrs.fit(new_train.drop(['x','vowels', 'caps', 'last', 'first', 'last_pair'], axis=1), train_y)\\nnotify('LR Trained!')\"\u001b[0m\u001b[0;34m)\u001b[0m\u001b[0;34m\u001b[0m\u001b[0m\n\u001b[0m",
      "\u001b[0;32m/usr/local/lib/python3.6/site-packages/IPython/core/interactiveshell.py\u001b[0m in \u001b[0;36mrun_cell_magic\u001b[0;34m(self, magic_name, line, cell)\u001b[0m\n\u001b[1;32m   2113\u001b[0m             \u001b[0mmagic_arg_s\u001b[0m \u001b[0;34m=\u001b[0m \u001b[0mself\u001b[0m\u001b[0;34m.\u001b[0m\u001b[0mvar_expand\u001b[0m\u001b[0;34m(\u001b[0m\u001b[0mline\u001b[0m\u001b[0;34m,\u001b[0m \u001b[0mstack_depth\u001b[0m\u001b[0;34m)\u001b[0m\u001b[0;34m\u001b[0m\u001b[0m\n\u001b[1;32m   2114\u001b[0m             \u001b[0;32mwith\u001b[0m \u001b[0mself\u001b[0m\u001b[0;34m.\u001b[0m\u001b[0mbuiltin_trap\u001b[0m\u001b[0;34m:\u001b[0m\u001b[0;34m\u001b[0m\u001b[0m\n\u001b[0;32m-> 2115\u001b[0;31m                 \u001b[0mresult\u001b[0m \u001b[0;34m=\u001b[0m \u001b[0mfn\u001b[0m\u001b[0;34m(\u001b[0m\u001b[0mmagic_arg_s\u001b[0m\u001b[0;34m,\u001b[0m \u001b[0mcell\u001b[0m\u001b[0;34m)\u001b[0m\u001b[0;34m\u001b[0m\u001b[0m\n\u001b[0m\u001b[1;32m   2116\u001b[0m             \u001b[0;32mreturn\u001b[0m \u001b[0mresult\u001b[0m\u001b[0;34m\u001b[0m\u001b[0m\n\u001b[1;32m   2117\u001b[0m \u001b[0;34m\u001b[0m\u001b[0m\n",
      "\u001b[0;32m<decorator-gen-59>\u001b[0m in \u001b[0;36mtime\u001b[0;34m(self, line, cell, local_ns)\u001b[0m\n",
      "\u001b[0;32m/usr/local/lib/python3.6/site-packages/IPython/core/magic.py\u001b[0m in \u001b[0;36m<lambda>\u001b[0;34m(f, *a, **k)\u001b[0m\n\u001b[1;32m    186\u001b[0m     \u001b[0;31m# but it's overkill for just that one bit of state.\u001b[0m\u001b[0;34m\u001b[0m\u001b[0;34m\u001b[0m\u001b[0m\n\u001b[1;32m    187\u001b[0m     \u001b[0;32mdef\u001b[0m \u001b[0mmagic_deco\u001b[0m\u001b[0;34m(\u001b[0m\u001b[0marg\u001b[0m\u001b[0;34m)\u001b[0m\u001b[0;34m:\u001b[0m\u001b[0;34m\u001b[0m\u001b[0m\n\u001b[0;32m--> 188\u001b[0;31m         \u001b[0mcall\u001b[0m \u001b[0;34m=\u001b[0m \u001b[0;32mlambda\u001b[0m \u001b[0mf\u001b[0m\u001b[0;34m,\u001b[0m \u001b[0;34m*\u001b[0m\u001b[0ma\u001b[0m\u001b[0;34m,\u001b[0m \u001b[0;34m**\u001b[0m\u001b[0mk\u001b[0m\u001b[0;34m:\u001b[0m \u001b[0mf\u001b[0m\u001b[0;34m(\u001b[0m\u001b[0;34m*\u001b[0m\u001b[0ma\u001b[0m\u001b[0;34m,\u001b[0m \u001b[0;34m**\u001b[0m\u001b[0mk\u001b[0m\u001b[0;34m)\u001b[0m\u001b[0;34m\u001b[0m\u001b[0m\n\u001b[0m\u001b[1;32m    189\u001b[0m \u001b[0;34m\u001b[0m\u001b[0m\n\u001b[1;32m    190\u001b[0m         \u001b[0;32mif\u001b[0m \u001b[0mcallable\u001b[0m\u001b[0;34m(\u001b[0m\u001b[0marg\u001b[0m\u001b[0;34m)\u001b[0m\u001b[0;34m:\u001b[0m\u001b[0;34m\u001b[0m\u001b[0m\n",
      "\u001b[0;32m/usr/local/lib/python3.6/site-packages/IPython/core/magics/execution.py\u001b[0m in \u001b[0;36mtime\u001b[0;34m(self, line, cell, local_ns)\u001b[0m\n\u001b[1;32m   1183\u001b[0m         \u001b[0;32melse\u001b[0m\u001b[0;34m:\u001b[0m\u001b[0;34m\u001b[0m\u001b[0m\n\u001b[1;32m   1184\u001b[0m             \u001b[0mst\u001b[0m \u001b[0;34m=\u001b[0m \u001b[0mclock2\u001b[0m\u001b[0;34m(\u001b[0m\u001b[0;34m)\u001b[0m\u001b[0;34m\u001b[0m\u001b[0m\n\u001b[0;32m-> 1185\u001b[0;31m             \u001b[0mexec\u001b[0m\u001b[0;34m(\u001b[0m\u001b[0mcode\u001b[0m\u001b[0;34m,\u001b[0m \u001b[0mglob\u001b[0m\u001b[0;34m,\u001b[0m \u001b[0mlocal_ns\u001b[0m\u001b[0;34m)\u001b[0m\u001b[0;34m\u001b[0m\u001b[0m\n\u001b[0m\u001b[1;32m   1186\u001b[0m             \u001b[0mend\u001b[0m \u001b[0;34m=\u001b[0m \u001b[0mclock2\u001b[0m\u001b[0;34m(\u001b[0m\u001b[0;34m)\u001b[0m\u001b[0;34m\u001b[0m\u001b[0m\n\u001b[1;32m   1187\u001b[0m             \u001b[0mout\u001b[0m \u001b[0;34m=\u001b[0m \u001b[0;32mNone\u001b[0m\u001b[0;34m\u001b[0m\u001b[0m\n",
      "\u001b[0;32m<timed exec>\u001b[0m in \u001b[0;36m<module>\u001b[0;34m()\u001b[0m\n",
      "\u001b[0;32m/usr/local/lib/python3.6/site-packages/sklearn/linear_model/logistic.py\u001b[0m in \u001b[0;36mfit\u001b[0;34m(self, X, y, sample_weight)\u001b[0m\n\u001b[1;32m   1171\u001b[0m \u001b[0;34m\u001b[0m\u001b[0m\n\u001b[1;32m   1172\u001b[0m         X, y = check_X_y(X, y, accept_sparse='csr', dtype=np.float64,\n\u001b[0;32m-> 1173\u001b[0;31m                          order=\"C\")\n\u001b[0m\u001b[1;32m   1174\u001b[0m         \u001b[0mcheck_classification_targets\u001b[0m\u001b[0;34m(\u001b[0m\u001b[0my\u001b[0m\u001b[0;34m)\u001b[0m\u001b[0;34m\u001b[0m\u001b[0m\n\u001b[1;32m   1175\u001b[0m         \u001b[0mself\u001b[0m\u001b[0;34m.\u001b[0m\u001b[0mclasses_\u001b[0m \u001b[0;34m=\u001b[0m \u001b[0mnp\u001b[0m\u001b[0;34m.\u001b[0m\u001b[0munique\u001b[0m\u001b[0;34m(\u001b[0m\u001b[0my\u001b[0m\u001b[0;34m)\u001b[0m\u001b[0;34m\u001b[0m\u001b[0m\n",
      "\u001b[0;32m/usr/local/lib/python3.6/site-packages/sklearn/utils/validation.py\u001b[0m in \u001b[0;36mcheck_X_y\u001b[0;34m(X, y, accept_sparse, dtype, order, copy, force_all_finite, ensure_2d, allow_nd, multi_output, ensure_min_samples, ensure_min_features, y_numeric, warn_on_dtype, estimator)\u001b[0m\n\u001b[1;32m    519\u001b[0m     X = check_array(X, accept_sparse, dtype, order, copy, force_all_finite,\n\u001b[1;32m    520\u001b[0m                     \u001b[0mensure_2d\u001b[0m\u001b[0;34m,\u001b[0m \u001b[0mallow_nd\u001b[0m\u001b[0;34m,\u001b[0m \u001b[0mensure_min_samples\u001b[0m\u001b[0;34m,\u001b[0m\u001b[0;34m\u001b[0m\u001b[0m\n\u001b[0;32m--> 521\u001b[0;31m                     ensure_min_features, warn_on_dtype, estimator)\n\u001b[0m\u001b[1;32m    522\u001b[0m     \u001b[0;32mif\u001b[0m \u001b[0mmulti_output\u001b[0m\u001b[0;34m:\u001b[0m\u001b[0;34m\u001b[0m\u001b[0m\n\u001b[1;32m    523\u001b[0m         y = check_array(y, 'csr', force_all_finite=True, ensure_2d=False,\n",
      "\u001b[0;32m/usr/local/lib/python3.6/site-packages/sklearn/utils/validation.py\u001b[0m in \u001b[0;36mcheck_array\u001b[0;34m(array, accept_sparse, dtype, order, copy, force_all_finite, ensure_2d, allow_nd, ensure_min_samples, ensure_min_features, warn_on_dtype, estimator)\u001b[0m\n\u001b[1;32m    405\u001b[0m                              % (array.ndim, estimator_name))\n\u001b[1;32m    406\u001b[0m         \u001b[0;32mif\u001b[0m \u001b[0mforce_all_finite\u001b[0m\u001b[0;34m:\u001b[0m\u001b[0;34m\u001b[0m\u001b[0m\n\u001b[0;32m--> 407\u001b[0;31m             \u001b[0m_assert_all_finite\u001b[0m\u001b[0;34m(\u001b[0m\u001b[0marray\u001b[0m\u001b[0;34m)\u001b[0m\u001b[0;34m\u001b[0m\u001b[0m\n\u001b[0m\u001b[1;32m    408\u001b[0m \u001b[0;34m\u001b[0m\u001b[0m\n\u001b[1;32m    409\u001b[0m     \u001b[0mshape_repr\u001b[0m \u001b[0;34m=\u001b[0m \u001b[0m_shape_repr\u001b[0m\u001b[0;34m(\u001b[0m\u001b[0marray\u001b[0m\u001b[0;34m.\u001b[0m\u001b[0mshape\u001b[0m\u001b[0;34m)\u001b[0m\u001b[0;34m\u001b[0m\u001b[0m\n",
      "\u001b[0;32m/usr/local/lib/python3.6/site-packages/sklearn/utils/validation.py\u001b[0m in \u001b[0;36m_assert_all_finite\u001b[0;34m(X)\u001b[0m\n\u001b[1;32m     56\u001b[0m             and not np.isfinite(X).all()):\n\u001b[1;32m     57\u001b[0m         raise ValueError(\"Input contains NaN, infinity\"\n\u001b[0;32m---> 58\u001b[0;31m                          \" or a value too large for %r.\" % X.dtype)\n\u001b[0m\u001b[1;32m     59\u001b[0m \u001b[0;34m\u001b[0m\u001b[0m\n\u001b[1;32m     60\u001b[0m \u001b[0;34m\u001b[0m\u001b[0m\n",
      "\u001b[0;31mValueError\u001b[0m: Input contains NaN, infinity or a value too large for dtype('float64')."
     ]
    }
   ],
   "source": [
    "%%time\n",
    "lrs = LogisticRegression()\n",
    "\n",
    "lrs.fit(new_train.drop(['x','vowels', 'caps', 'last', 'first', 'last_pair'], axis=1), train_y)\n",
    "notify('LR Trained!')"
   ]
  }
 ],
 "metadata": {
  "kernelspec": {
   "display_name": "Python 3",
   "language": "python",
   "name": "python3"
  },
  "language_info": {
   "codemirror_mode": {
    "name": "ipython",
    "version": 3
   },
   "file_extension": ".py",
   "mimetype": "text/x-python",
   "name": "python",
   "nbconvert_exporter": "python",
   "pygments_lexer": "ipython3",
   "version": "3.6.1"
  }
 },
 "nbformat": 4,
 "nbformat_minor": 1
}
