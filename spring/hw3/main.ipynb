{
 "cells": [
  {
   "cell_type": "markdown",
   "metadata": {
    "deletable": true,
    "editable": true
   },
   "source": [
    "# Demand prediction baseline solution"
   ]
  },
  {
   "cell_type": "code",
   "execution_count": 1,
   "metadata": {
    "collapsed": false,
    "deletable": true,
    "editable": true
   },
   "outputs": [
    {
     "name": "stderr",
     "output_type": "stream",
     "text": [
      "/usr/local/lib/python3.6/site-packages/sklearn/cross_validation.py:44: DeprecationWarning: This module was deprecated in version 0.18 in favor of the model_selection module into which all the refactored classes and functions are moved. Also note that the interface of the new CV iterators are different from that of this module. This module will be removed in 0.20.\n",
      "  \"This module will be removed in 0.20.\", DeprecationWarning)\n"
     ]
    }
   ],
   "source": [
    "import pandas as pd\n",
    "import numpy as np\n",
    "import xgboost\n",
    "from xgboost import XGBRegressor\n",
    "from sklearn.ensemble import GradientBoostingRegressor\n",
    "import matplotlib.pyplot as plt\n",
    "%matplotlib inline"
   ]
  },
  {
   "cell_type": "code",
   "execution_count": 2,
   "metadata": {
    "collapsed": false,
    "deletable": true,
    "editable": true
   },
   "outputs": [],
   "source": [
    "train = pd.read_csv(\"train.tsv\")\n",
    "test = pd.read_csv(\"test.tsv\")\n",
    "sample_submission = pd.read_csv(\"sample_submission.tsv\")"
   ]
  },
  {
   "cell_type": "code",
   "execution_count": 3,
   "metadata": {
    "collapsed": false
   },
   "outputs": [
    {
     "data": {
      "text/html": [
       "<div>\n",
       "<table border=\"1\" class=\"dataframe\">\n",
       "  <thead>\n",
       "    <tr style=\"text-align: right;\">\n",
       "      <th></th>\n",
       "      <th>Num</th>\n",
       "      <th>year</th>\n",
       "      <th>week</th>\n",
       "      <th>shift</th>\n",
       "      <th>item_id</th>\n",
       "      <th>f1</th>\n",
       "      <th>f2</th>\n",
       "      <th>f3</th>\n",
       "      <th>f4</th>\n",
       "      <th>f5</th>\n",
       "      <th>...</th>\n",
       "      <th>f51</th>\n",
       "      <th>f52</th>\n",
       "      <th>f53</th>\n",
       "      <th>f54</th>\n",
       "      <th>f55</th>\n",
       "      <th>f56</th>\n",
       "      <th>f57</th>\n",
       "      <th>f58</th>\n",
       "      <th>f59</th>\n",
       "      <th>f60</th>\n",
       "    </tr>\n",
       "  </thead>\n",
       "  <tbody>\n",
       "    <tr>\n",
       "      <th>0</th>\n",
       "      <td>348622</td>\n",
       "      <td>2015</td>\n",
       "      <td>3</td>\n",
       "      <td>3</td>\n",
       "      <td>20447918</td>\n",
       "      <td>960.0</td>\n",
       "      <td>820.0</td>\n",
       "      <td>1128.0</td>\n",
       "      <td>1801.0</td>\n",
       "      <td>1045.0</td>\n",
       "      <td>...</td>\n",
       "      <td>1510.0</td>\n",
       "      <td>580.0</td>\n",
       "      <td>969.0</td>\n",
       "      <td>1635.0</td>\n",
       "      <td>895.0</td>\n",
       "      <td>2140.0</td>\n",
       "      <td>1182.0</td>\n",
       "      <td>1020.0</td>\n",
       "      <td>1293.0</td>\n",
       "      <td>1290.0</td>\n",
       "    </tr>\n",
       "    <tr>\n",
       "      <th>1</th>\n",
       "      <td>348623</td>\n",
       "      <td>2015</td>\n",
       "      <td>3</td>\n",
       "      <td>3</td>\n",
       "      <td>20447902</td>\n",
       "      <td>9086.0</td>\n",
       "      <td>12585.0</td>\n",
       "      <td>11595.0</td>\n",
       "      <td>9685.0</td>\n",
       "      <td>12917.0</td>\n",
       "      <td>...</td>\n",
       "      <td>22055.0</td>\n",
       "      <td>14235.0</td>\n",
       "      <td>21195.0</td>\n",
       "      <td>18280.0</td>\n",
       "      <td>18270.0</td>\n",
       "      <td>15851.0</td>\n",
       "      <td>16920.0</td>\n",
       "      <td>18320.0</td>\n",
       "      <td>24116.0</td>\n",
       "      <td>21307.0</td>\n",
       "    </tr>\n",
       "    <tr>\n",
       "      <th>2</th>\n",
       "      <td>348624</td>\n",
       "      <td>2015</td>\n",
       "      <td>3</td>\n",
       "      <td>3</td>\n",
       "      <td>20447732</td>\n",
       "      <td>115087.0</td>\n",
       "      <td>147287.0</td>\n",
       "      <td>176065.0</td>\n",
       "      <td>143105.0</td>\n",
       "      <td>202069.0</td>\n",
       "      <td>...</td>\n",
       "      <td>302165.0</td>\n",
       "      <td>162232.0</td>\n",
       "      <td>221622.0</td>\n",
       "      <td>256605.0</td>\n",
       "      <td>240047.0</td>\n",
       "      <td>236630.0</td>\n",
       "      <td>206697.0</td>\n",
       "      <td>245652.0</td>\n",
       "      <td>286179.0</td>\n",
       "      <td>285904.0</td>\n",
       "    </tr>\n",
       "    <tr>\n",
       "      <th>3</th>\n",
       "      <td>348625</td>\n",
       "      <td>2015</td>\n",
       "      <td>3</td>\n",
       "      <td>3</td>\n",
       "      <td>20443951</td>\n",
       "      <td>20900.0</td>\n",
       "      <td>24420.0</td>\n",
       "      <td>27068.0</td>\n",
       "      <td>20460.0</td>\n",
       "      <td>25580.0</td>\n",
       "      <td>...</td>\n",
       "      <td>39055.0</td>\n",
       "      <td>14445.0</td>\n",
       "      <td>22450.0</td>\n",
       "      <td>22093.0</td>\n",
       "      <td>31175.0</td>\n",
       "      <td>23355.0</td>\n",
       "      <td>15358.0</td>\n",
       "      <td>18930.0</td>\n",
       "      <td>29643.0</td>\n",
       "      <td>33970.0</td>\n",
       "    </tr>\n",
       "    <tr>\n",
       "      <th>4</th>\n",
       "      <td>348626</td>\n",
       "      <td>2015</td>\n",
       "      <td>3</td>\n",
       "      <td>3</td>\n",
       "      <td>20443944</td>\n",
       "      <td>4430.0</td>\n",
       "      <td>5864.0</td>\n",
       "      <td>3310.0</td>\n",
       "      <td>1853.0</td>\n",
       "      <td>2836.0</td>\n",
       "      <td>...</td>\n",
       "      <td>120.0</td>\n",
       "      <td>130.0</td>\n",
       "      <td>60.0</td>\n",
       "      <td>30.0</td>\n",
       "      <td>50.0</td>\n",
       "      <td>20.0</td>\n",
       "      <td>20.0</td>\n",
       "      <td>30.0</td>\n",
       "      <td>0.0</td>\n",
       "      <td>0.0</td>\n",
       "    </tr>\n",
       "  </tbody>\n",
       "</table>\n",
       "<p>5 rows × 65 columns</p>\n",
       "</div>"
      ],
      "text/plain": [
       "      Num  year  week  shift   item_id        f1        f2        f3  \\\n",
       "0  348622  2015     3      3  20447918     960.0     820.0    1128.0   \n",
       "1  348623  2015     3      3  20447902    9086.0   12585.0   11595.0   \n",
       "2  348624  2015     3      3  20447732  115087.0  147287.0  176065.0   \n",
       "3  348625  2015     3      3  20443951   20900.0   24420.0   27068.0   \n",
       "4  348626  2015     3      3  20443944    4430.0    5864.0    3310.0   \n",
       "\n",
       "         f4        f5    ...          f51       f52       f53       f54  \\\n",
       "0    1801.0    1045.0    ...       1510.0     580.0     969.0    1635.0   \n",
       "1    9685.0   12917.0    ...      22055.0   14235.0   21195.0   18280.0   \n",
       "2  143105.0  202069.0    ...     302165.0  162232.0  221622.0  256605.0   \n",
       "3   20460.0   25580.0    ...      39055.0   14445.0   22450.0   22093.0   \n",
       "4    1853.0    2836.0    ...        120.0     130.0      60.0      30.0   \n",
       "\n",
       "        f55       f56       f57       f58       f59       f60  \n",
       "0     895.0    2140.0    1182.0    1020.0    1293.0    1290.0  \n",
       "1   18270.0   15851.0   16920.0   18320.0   24116.0   21307.0  \n",
       "2  240047.0  236630.0  206697.0  245652.0  286179.0  285904.0  \n",
       "3   31175.0   23355.0   15358.0   18930.0   29643.0   33970.0  \n",
       "4      50.0      20.0      20.0      30.0       0.0       0.0  \n",
       "\n",
       "[5 rows x 65 columns]"
      ]
     },
     "execution_count": 3,
     "metadata": {},
     "output_type": "execute_result"
    }
   ],
   "source": [
    "test.head()"
   ]
  },
  {
   "cell_type": "code",
   "execution_count": 4,
   "metadata": {
    "collapsed": true,
    "deletable": true,
    "editable": true
   },
   "outputs": [],
   "source": [
    "def smape(y_pred, y_true):\n",
    "    assert(len(y_pred) == len(y_true))\n",
    "    \n",
    "    numerator = abs(y_pred - y_true)\n",
    "    denomerator = (abs(y_pred) + abs(y_true)) / 2\n",
    "    ans = (100.0 / len(y_pred)) * np.sum(numerator / denomerator)\n",
    "    return ans"
   ]
  },
  {
   "cell_type": "code",
   "execution_count": 5,
   "metadata": {
    "collapsed": false,
    "deletable": true,
    "editable": true
   },
   "outputs": [
    {
     "name": "stdout",
     "output_type": "stream",
     "text": [
      "28983\n"
     ]
    }
   ],
   "source": [
    "frac = 0.4 # fraction of learning examples used for model fitting\n",
    "\n",
    "# sample the train set if your don't want to deel with all examples\n",
    "train_sampled = train.sample(frac=frac)\n",
    "\n",
    "print(len(train_sampled))"
   ]
  },
  {
   "cell_type": "code",
   "execution_count": 6,
   "metadata": {
    "collapsed": false
   },
   "outputs": [
    {
     "name": "stdout",
     "output_type": "stream",
     "text": [
      "9610 19373\n"
     ]
    }
   ],
   "source": [
    "only_3_shift = train_sampled[train_sampled['shift'] == 3]\n",
    "only_not_3_shift = train_sampled[train_sampled['shift'] != 3]\n",
    "print(len(only_3_shift), len(only_not_3_shift))"
   ]
  },
  {
   "cell_type": "code",
   "execution_count": null,
   "metadata": {
    "collapsed": false,
    "scrolled": false
   },
   "outputs": [
    {
     "name": "stderr",
     "output_type": "stream",
     "text": [
      "/usr/local/lib/python3.6/site-packages/ipykernel/__main__.py:1: RuntimeWarning: overflow encountered in exp\n",
      "  if __name__ == '__main__':\n"
     ]
    },
    {
     "data": {
      "text/plain": [
       "[<matplotlib.lines.Line2D at 0x1071cd438>]"
      ]
     },
     "execution_count": 7,
     "metadata": {},
     "output_type": "execute_result"
    }
   ],
   "source": [
    "plt.plot([np.sqrt(only_not_3_shift.iloc[ii]['y'])/np.exp(np.mean(only_not_3_shift.iloc[ii][6:])) for ii in range(4000)])"
   ]
  },
  {
   "cell_type": "code",
   "execution_count": 144,
   "metadata": {
    "collapsed": false
   },
   "outputs": [
    {
     "name": "stderr",
     "output_type": "stream",
     "text": [
      "/usr/local/lib/python3.6/site-packages/ipykernel/__main__.py:1: RuntimeWarning: divide by zero encountered in double_scalars\n",
      "  if __name__ == '__main__':\n"
     ]
    },
    {
     "data": {
      "text/plain": [
       "[<matplotlib.lines.Line2D at 0x117b734a8>]"
      ]
     },
     "execution_count": 144,
     "metadata": {},
     "output_type": "execute_result"
    },
    {
     "data": {
      "image/png": "[encoded data removed]",
      "text/plain": [
       "<matplotlib.figure.Figure at 0x11e0dada0>"
      ]
     },
     "metadata": {},
     "output_type": "display_data"
    }
   ],
   "source": [
    "plt.plot([only_not_3_shift.iloc[ii]['y']/np.mean(only_not_3_shift.iloc[ii][6:]) for ii in range(4000)])"
   ]
  },
  {
   "cell_type": "code",
   "execution_count": 143,
   "metadata": {
    "collapsed": false
   },
   "outputs": [
    {
     "name": "stderr",
     "output_type": "stream",
     "text": [
      "/usr/local/lib/python3.6/site-packages/ipykernel/__main__.py:1: RuntimeWarning: divide by zero encountered in double_scalars\n",
      "  if __name__ == '__main__':\n"
     ]
    },
    {
     "data": {
      "text/plain": [
       "[<matplotlib.lines.Line2D at 0x117a742b0>]"
      ]
     },
     "execution_count": 143,
     "metadata": {},
     "output_type": "execute_result"
    },
    {
     "data": {
      "image/png": "[encoded data removed]",
      "text/plain": [
       "<matplotlib.figure.Figure at 0x11dbc6908>"
      ]
     },
     "metadata": {},
     "output_type": "display_data"
    }
   ],
   "source": [
    "plt.plot([only_3_shift.iloc[ii]['y']/np.mean(only_3_shift.iloc[ii][6:]) for ii in range(4000)])"
   ]
  },
  {
   "cell_type": "code",
   "execution_count": 146,
   "metadata": {
    "collapsed": false
   },
   "outputs": [
    {
     "data": {
      "text/plain": [
       "[<matplotlib.lines.Line2D at 0x10f9c9d90>]"
      ]
     },
     "execution_count": 146,
     "metadata": {},
     "output_type": "execute_result"
    },
    {
     "data": {
      "image/png": "[encoded data removed]",
      "text/plain": [
       "<matplotlib.figure.Figure at 0x111fd6090>"
      ]
     },
     "metadata": {},
     "output_type": "display_data"
    }
   ],
   "source": [
    "plt.plot([np.sqrt(only_3_shift.iloc[ii]['y'])/np.exp(np.mean(only_3_shift.iloc[ii][6:])) for ii in range(2000)])"
   ]
  },
  {
   "cell_type": "code",
   "execution_count": 103,
   "metadata": {
    "collapsed": false
   },
   "outputs": [],
   "source": [
    "only_3_shift_w_mean = only_3_shift.copy()\n",
    "only_3_shift_w_mean['mean'] = only_3_shift[only_3_shift.columns.values[6:]].mean(axis=1)"
   ]
  },
  {
   "cell_type": "code",
   "execution_count": 104,
   "metadata": {
    "collapsed": false
   },
   "outputs": [
    {
     "data": {
      "text/html": [
       "<div>\n",
       "<table border=\"1\" class=\"dataframe\">\n",
       "  <thead>\n",
       "    <tr style=\"text-align: right;\">\n",
       "      <th></th>\n",
       "      <th>Num</th>\n",
       "      <th>y</th>\n",
       "      <th>year</th>\n",
       "      <th>week</th>\n",
       "      <th>shift</th>\n",
       "      <th>item_id</th>\n",
       "      <th>f1</th>\n",
       "      <th>f2</th>\n",
       "      <th>f3</th>\n",
       "      <th>f4</th>\n",
       "      <th>...</th>\n",
       "      <th>f52</th>\n",
       "      <th>f53</th>\n",
       "      <th>f54</th>\n",
       "      <th>f55</th>\n",
       "      <th>f56</th>\n",
       "      <th>f57</th>\n",
       "      <th>f58</th>\n",
       "      <th>f59</th>\n",
       "      <th>f60</th>\n",
       "      <th>mean</th>\n",
       "    </tr>\n",
       "  </thead>\n",
       "  <tbody>\n",
       "    <tr>\n",
       "      <th>13039</th>\n",
       "      <td>62668</td>\n",
       "      <td>329439</td>\n",
       "      <td>2013</td>\n",
       "      <td>20</td>\n",
       "      <td>3</td>\n",
       "      <td>20438609</td>\n",
       "      <td>134778.0</td>\n",
       "      <td>154934.0</td>\n",
       "      <td>183163.0</td>\n",
       "      <td>183232.0</td>\n",
       "      <td>...</td>\n",
       "      <td>259745.0</td>\n",
       "      <td>138289.0</td>\n",
       "      <td>150682.0</td>\n",
       "      <td>153945.0</td>\n",
       "      <td>179322.0</td>\n",
       "      <td>172514.0</td>\n",
       "      <td>159515.0</td>\n",
       "      <td>156672.0</td>\n",
       "      <td>212396.0</td>\n",
       "      <td>179749.466667</td>\n",
       "    </tr>\n",
       "    <tr>\n",
       "      <th>59482</th>\n",
       "      <td>294419</td>\n",
       "      <td>370865</td>\n",
       "      <td>2014</td>\n",
       "      <td>37</td>\n",
       "      <td>3</td>\n",
       "      <td>20440556</td>\n",
       "      <td>426616.0</td>\n",
       "      <td>210161.0</td>\n",
       "      <td>337627.0</td>\n",
       "      <td>355510.0</td>\n",
       "      <td>...</td>\n",
       "      <td>577109.0</td>\n",
       "      <td>453775.0</td>\n",
       "      <td>418927.0</td>\n",
       "      <td>408464.0</td>\n",
       "      <td>404300.0</td>\n",
       "      <td>598437.0</td>\n",
       "      <td>272753.0</td>\n",
       "      <td>352972.0</td>\n",
       "      <td>347086.0</td>\n",
       "      <td>399976.000000</td>\n",
       "    </tr>\n",
       "    <tr>\n",
       "      <th>1352</th>\n",
       "      <td>4124</td>\n",
       "      <td>17</td>\n",
       "      <td>2013</td>\n",
       "      <td>3</td>\n",
       "      <td>3</td>\n",
       "      <td>20440224</td>\n",
       "      <td>13.0</td>\n",
       "      <td>30.0</td>\n",
       "      <td>45.0</td>\n",
       "      <td>40.0</td>\n",
       "      <td>...</td>\n",
       "      <td>10.0</td>\n",
       "      <td>70.0</td>\n",
       "      <td>40.0</td>\n",
       "      <td>31.0</td>\n",
       "      <td>34.0</td>\n",
       "      <td>100.0</td>\n",
       "      <td>20.0</td>\n",
       "      <td>10.0</td>\n",
       "      <td>170.0</td>\n",
       "      <td>44.000000</td>\n",
       "    </tr>\n",
       "    <tr>\n",
       "      <th>6940</th>\n",
       "      <td>31796</td>\n",
       "      <td>474</td>\n",
       "      <td>2013</td>\n",
       "      <td>11</td>\n",
       "      <td>3</td>\n",
       "      <td>20438734</td>\n",
       "      <td>765.0</td>\n",
       "      <td>305.0</td>\n",
       "      <td>417.0</td>\n",
       "      <td>725.0</td>\n",
       "      <td>...</td>\n",
       "      <td>1090.0</td>\n",
       "      <td>380.0</td>\n",
       "      <td>285.0</td>\n",
       "      <td>450.0</td>\n",
       "      <td>450.0</td>\n",
       "      <td>489.0</td>\n",
       "      <td>445.0</td>\n",
       "      <td>480.0</td>\n",
       "      <td>430.0</td>\n",
       "      <td>515.100000</td>\n",
       "    </tr>\n",
       "    <tr>\n",
       "      <th>71739</th>\n",
       "      <td>347457</td>\n",
       "      <td>1131</td>\n",
       "      <td>2015</td>\n",
       "      <td>2</td>\n",
       "      <td>3</td>\n",
       "      <td>20440331</td>\n",
       "      <td>1969.0</td>\n",
       "      <td>1230.0</td>\n",
       "      <td>1771.0</td>\n",
       "      <td>2817.0</td>\n",
       "      <td>...</td>\n",
       "      <td>1336.0</td>\n",
       "      <td>903.0</td>\n",
       "      <td>1040.0</td>\n",
       "      <td>1084.0</td>\n",
       "      <td>960.0</td>\n",
       "      <td>784.0</td>\n",
       "      <td>855.0</td>\n",
       "      <td>1179.0</td>\n",
       "      <td>1774.0</td>\n",
       "      <td>1795.533333</td>\n",
       "    </tr>\n",
       "  </tbody>\n",
       "</table>\n",
       "<p>5 rows × 67 columns</p>\n",
       "</div>"
      ],
      "text/plain": [
       "          Num       y  year  week  shift   item_id        f1        f2  \\\n",
       "13039   62668  329439  2013    20      3  20438609  134778.0  154934.0   \n",
       "59482  294419  370865  2014    37      3  20440556  426616.0  210161.0   \n",
       "1352     4124      17  2013     3      3  20440224      13.0      30.0   \n",
       "6940    31796     474  2013    11      3  20438734     765.0     305.0   \n",
       "71739  347457    1131  2015     2      3  20440331    1969.0    1230.0   \n",
       "\n",
       "             f3        f4      ...             f52       f53       f54  \\\n",
       "13039  183163.0  183232.0      ...        259745.0  138289.0  150682.0   \n",
       "59482  337627.0  355510.0      ...        577109.0  453775.0  418927.0   \n",
       "1352       45.0      40.0      ...            10.0      70.0      40.0   \n",
       "6940      417.0     725.0      ...          1090.0     380.0     285.0   \n",
       "71739    1771.0    2817.0      ...          1336.0     903.0    1040.0   \n",
       "\n",
       "            f55       f56       f57       f58       f59       f60  \\\n",
       "13039  153945.0  179322.0  172514.0  159515.0  156672.0  212396.0   \n",
       "59482  408464.0  404300.0  598437.0  272753.0  352972.0  347086.0   \n",
       "1352       31.0      34.0     100.0      20.0      10.0     170.0   \n",
       "6940      450.0     450.0     489.0     445.0     480.0     430.0   \n",
       "71739    1084.0     960.0     784.0     855.0    1179.0    1774.0   \n",
       "\n",
       "                mean  \n",
       "13039  179749.466667  \n",
       "59482  399976.000000  \n",
       "1352       44.000000  \n",
       "6940      515.100000  \n",
       "71739    1795.533333  \n",
       "\n",
       "[5 rows x 67 columns]"
      ]
     },
     "execution_count": 104,
     "metadata": {},
     "output_type": "execute_result"
    }
   ],
   "source": [
    "only_3_shift_w_mean.head()"
   ]
  },
  {
   "cell_type": "markdown",
   "metadata": {
    "deletable": true,
    "editable": true
   },
   "source": [
    "# Just to Validate the trained Model"
   ]
  },
  {
   "cell_type": "code",
   "execution_count": 167,
   "metadata": {
    "collapsed": false,
    "deletable": true,
    "editable": true,
    "scrolled": false
   },
   "outputs": [
    {
     "name": "stdout",
     "output_type": "stream",
     "text": [
      "(21443, 43768)\n",
      "CPU times: user 116 ms, sys: 78 ms, total: 194 ms\n",
      "Wall time: 197 ms\n"
     ]
    }
   ],
   "source": [
    "%%time\n",
    "\n",
    "frac = 0.9\n",
    "valid = train.sample(frac=frac)\n",
    "\n",
    "valid_3_shift = valid[valid['shift'] == 3]\n",
    "valid_others = valid[valid['shift'] != 3]\n",
    "\n",
    "print(len(valid_3_shift), len(valid_others))\n",
    "\n",
    "valid_3_shift_w_mean = valid_3_shift.copy()\n",
    "valid_3_shift_w_mean['mean'] = valid_3_shift[valid_3_shift.columns.values[6:]].mean(axis=1)\n",
    "\n",
    "valid_others_w_mean = valid_3_shift.copy()\n",
    "valid_others_w_mean['mean'] = np.exp(valid_others_w_mean[valid_others_w_mean.columns.values[6:]].mean(axis=1))\n",
    "valid_others_w_mean['y'] = np.sqrt(valid_others_w_mean['y'])"
   ]
  },
  {
   "cell_type": "markdown",
   "metadata": {},
   "source": [
    "# XGBoost"
   ]
  },
  {
   "cell_type": "code",
   "execution_count": 183,
   "metadata": {
    "collapsed": false,
    "deletable": true,
    "editable": true,
    "scrolled": true
   },
   "outputs": [
    {
     "name": "stdout",
     "output_type": "stream",
     "text": [
      "CPU times: user 10.5 s, sys: 121 ms, total: 10.7 s\n",
      "Wall time: 11 s\n"
     ]
    }
   ],
   "source": [
    "%%time\n",
    "\n",
    "# THIS is the Top model\n",
    "\n",
    "model_xg = xgboost.XGBRegressor(n_estimators=150, max_depth=20)\n",
    "model_xg.fit(only_3_shift_w_mean.drop(['Num', 'y'], axis=1), only_3_shift_w_mean['y'])"
   ]
  },
  {
   "cell_type": "code",
   "execution_count": 184,
   "metadata": {
    "collapsed": false
   },
   "outputs": [
    {
     "data": {
      "text/plain": [
       "25.622998465953064"
      ]
     },
     "execution_count": 184,
     "metadata": {},
     "output_type": "execute_result"
    }
   ],
   "source": [
    "# make predictions for test data\n",
    "smape(model_xg.predict(valid_3_shift_w_mean.drop(['Num', 'y'], axis=1)), valid_3_shift_w_mean['y'])"
   ]
  },
  {
   "cell_type": "code",
   "execution_count": null,
   "metadata": {
    "collapsed": true
   },
   "outputs": [],
   "source": []
  },
  {
   "cell_type": "code",
   "execution_count": 168,
   "metadata": {
    "collapsed": true
   },
   "outputs": [],
   "source": [
    "others = only_not_3_shift.copy()\n",
    "others['mean'] = np.exp(others[others.columns.values[6:]].mean(axis=1))\n",
    "others['y'] = np.sqrt(others['y'])"
   ]
  },
  {
   "cell_type": "code",
   "execution_count": 169,
   "metadata": {
    "collapsed": false
   },
   "outputs": [
    {
     "data": {
      "text/plain": [
       "XGBRegressor(base_score=0.5, colsample_bylevel=1, colsample_bytree=1, gamma=0,\n",
       "       learning_rate=0.1, max_delta_step=0, max_depth=20,\n",
       "       min_child_weight=1, missing=None, n_estimators=150, nthread=-1,\n",
       "       objective='reg:linear', reg_alpha=0, reg_lambda=1,\n",
       "       scale_pos_weight=1, seed=0, silent=True, subsample=1)"
      ]
     },
     "execution_count": 169,
     "metadata": {},
     "output_type": "execute_result"
    }
   ],
   "source": [
    "model_xg_other = xgboost.XGBRegressor(n_estimators=150, max_depth=20)\n",
    "model_xg_other.fit(others.drop(['Num', 'y'], axis=1), others['y'])"
   ]
  },
  {
   "cell_type": "code",
   "execution_count": 170,
   "metadata": {
    "collapsed": false
   },
   "outputs": [
    {
     "data": {
      "text/plain": [
       "14.789272938091155"
      ]
     },
     "execution_count": 170,
     "metadata": {},
     "output_type": "execute_result"
    }
   ],
   "source": [
    "# make predictions for test data\n",
    "smape(model_xg_other.predict(valid_others_w_mean.drop(['Num', 'y'], axis=1)), valid_others_w_mean['y'])"
   ]
  },
  {
   "cell_type": "code",
   "execution_count": 151,
   "metadata": {
    "collapsed": false
   },
   "outputs": [
    {
     "data": {
      "text/html": [
       "<div>\n",
       "<table border=\"1\" class=\"dataframe\">\n",
       "  <thead>\n",
       "    <tr style=\"text-align: right;\">\n",
       "      <th></th>\n",
       "      <th>Num</th>\n",
       "      <th>year</th>\n",
       "      <th>week</th>\n",
       "      <th>shift</th>\n",
       "      <th>item_id</th>\n",
       "      <th>f1</th>\n",
       "      <th>f2</th>\n",
       "      <th>f3</th>\n",
       "      <th>f4</th>\n",
       "      <th>f5</th>\n",
       "      <th>...</th>\n",
       "      <th>f51</th>\n",
       "      <th>f52</th>\n",
       "      <th>f53</th>\n",
       "      <th>f54</th>\n",
       "      <th>f55</th>\n",
       "      <th>f56</th>\n",
       "      <th>f57</th>\n",
       "      <th>f58</th>\n",
       "      <th>f59</th>\n",
       "      <th>f60</th>\n",
       "    </tr>\n",
       "  </thead>\n",
       "  <tbody>\n",
       "    <tr>\n",
       "      <th>0</th>\n",
       "      <td>348622</td>\n",
       "      <td>2015</td>\n",
       "      <td>3</td>\n",
       "      <td>3</td>\n",
       "      <td>20447918</td>\n",
       "      <td>960.0</td>\n",
       "      <td>820.0</td>\n",
       "      <td>1128.0</td>\n",
       "      <td>1801.0</td>\n",
       "      <td>1045.0</td>\n",
       "      <td>...</td>\n",
       "      <td>1510.0</td>\n",
       "      <td>580.0</td>\n",
       "      <td>969.0</td>\n",
       "      <td>1635.0</td>\n",
       "      <td>895.0</td>\n",
       "      <td>2140.0</td>\n",
       "      <td>1182.0</td>\n",
       "      <td>1020.0</td>\n",
       "      <td>1293.0</td>\n",
       "      <td>1290.0</td>\n",
       "    </tr>\n",
       "    <tr>\n",
       "      <th>1</th>\n",
       "      <td>348623</td>\n",
       "      <td>2015</td>\n",
       "      <td>3</td>\n",
       "      <td>3</td>\n",
       "      <td>20447902</td>\n",
       "      <td>9086.0</td>\n",
       "      <td>12585.0</td>\n",
       "      <td>11595.0</td>\n",
       "      <td>9685.0</td>\n",
       "      <td>12917.0</td>\n",
       "      <td>...</td>\n",
       "      <td>22055.0</td>\n",
       "      <td>14235.0</td>\n",
       "      <td>21195.0</td>\n",
       "      <td>18280.0</td>\n",
       "      <td>18270.0</td>\n",
       "      <td>15851.0</td>\n",
       "      <td>16920.0</td>\n",
       "      <td>18320.0</td>\n",
       "      <td>24116.0</td>\n",
       "      <td>21307.0</td>\n",
       "    </tr>\n",
       "    <tr>\n",
       "      <th>2</th>\n",
       "      <td>348624</td>\n",
       "      <td>2015</td>\n",
       "      <td>3</td>\n",
       "      <td>3</td>\n",
       "      <td>20447732</td>\n",
       "      <td>115087.0</td>\n",
       "      <td>147287.0</td>\n",
       "      <td>176065.0</td>\n",
       "      <td>143105.0</td>\n",
       "      <td>202069.0</td>\n",
       "      <td>...</td>\n",
       "      <td>302165.0</td>\n",
       "      <td>162232.0</td>\n",
       "      <td>221622.0</td>\n",
       "      <td>256605.0</td>\n",
       "      <td>240047.0</td>\n",
       "      <td>236630.0</td>\n",
       "      <td>206697.0</td>\n",
       "      <td>245652.0</td>\n",
       "      <td>286179.0</td>\n",
       "      <td>285904.0</td>\n",
       "    </tr>\n",
       "    <tr>\n",
       "      <th>3</th>\n",
       "      <td>348625</td>\n",
       "      <td>2015</td>\n",
       "      <td>3</td>\n",
       "      <td>3</td>\n",
       "      <td>20443951</td>\n",
       "      <td>20900.0</td>\n",
       "      <td>24420.0</td>\n",
       "      <td>27068.0</td>\n",
       "      <td>20460.0</td>\n",
       "      <td>25580.0</td>\n",
       "      <td>...</td>\n",
       "      <td>39055.0</td>\n",
       "      <td>14445.0</td>\n",
       "      <td>22450.0</td>\n",
       "      <td>22093.0</td>\n",
       "      <td>31175.0</td>\n",
       "      <td>23355.0</td>\n",
       "      <td>15358.0</td>\n",
       "      <td>18930.0</td>\n",
       "      <td>29643.0</td>\n",
       "      <td>33970.0</td>\n",
       "    </tr>\n",
       "    <tr>\n",
       "      <th>4</th>\n",
       "      <td>348626</td>\n",
       "      <td>2015</td>\n",
       "      <td>3</td>\n",
       "      <td>3</td>\n",
       "      <td>20443944</td>\n",
       "      <td>4430.0</td>\n",
       "      <td>5864.0</td>\n",
       "      <td>3310.0</td>\n",
       "      <td>1853.0</td>\n",
       "      <td>2836.0</td>\n",
       "      <td>...</td>\n",
       "      <td>120.0</td>\n",
       "      <td>130.0</td>\n",
       "      <td>60.0</td>\n",
       "      <td>30.0</td>\n",
       "      <td>50.0</td>\n",
       "      <td>20.0</td>\n",
       "      <td>20.0</td>\n",
       "      <td>30.0</td>\n",
       "      <td>0.0</td>\n",
       "      <td>0.0</td>\n",
       "    </tr>\n",
       "  </tbody>\n",
       "</table>\n",
       "<p>5 rows × 65 columns</p>\n",
       "</div>"
      ],
      "text/plain": [
       "      Num  year  week  shift   item_id        f1        f2        f3  \\\n",
       "0  348622  2015     3      3  20447918     960.0     820.0    1128.0   \n",
       "1  348623  2015     3      3  20447902    9086.0   12585.0   11595.0   \n",
       "2  348624  2015     3      3  20447732  115087.0  147287.0  176065.0   \n",
       "3  348625  2015     3      3  20443951   20900.0   24420.0   27068.0   \n",
       "4  348626  2015     3      3  20443944    4430.0    5864.0    3310.0   \n",
       "\n",
       "         f4        f5    ...          f51       f52       f53       f54  \\\n",
       "0    1801.0    1045.0    ...       1510.0     580.0     969.0    1635.0   \n",
       "1    9685.0   12917.0    ...      22055.0   14235.0   21195.0   18280.0   \n",
       "2  143105.0  202069.0    ...     302165.0  162232.0  221622.0  256605.0   \n",
       "3   20460.0   25580.0    ...      39055.0   14445.0   22450.0   22093.0   \n",
       "4    1853.0    2836.0    ...        120.0     130.0      60.0      30.0   \n",
       "\n",
       "        f55       f56       f57       f58       f59       f60  \n",
       "0     895.0    2140.0    1182.0    1020.0    1293.0    1290.0  \n",
       "1   18270.0   15851.0   16920.0   18320.0   24116.0   21307.0  \n",
       "2  240047.0  236630.0  206697.0  245652.0  286179.0  285904.0  \n",
       "3   31175.0   23355.0   15358.0   18930.0   29643.0   33970.0  \n",
       "4      50.0      20.0      20.0      30.0       0.0       0.0  \n",
       "\n",
       "[5 rows x 65 columns]"
      ]
     },
     "execution_count": 151,
     "metadata": {},
     "output_type": "execute_result"
    }
   ],
   "source": [
    "test.head()"
   ]
  },
  {
   "cell_type": "code",
   "execution_count": null,
   "metadata": {
    "collapsed": true
   },
   "outputs": [],
   "source": []
  },
  {
   "cell_type": "code",
   "execution_count": 185,
   "metadata": {
    "collapsed": true,
    "deletable": true,
    "editable": true
   },
   "outputs": [],
   "source": [
    "valid_mean = valid.copy()\n",
    "valid_mean['mean'] = valid_mean[valid_mean.columns.values[6:]].mean(axis=1)\n",
    "# valid_mean['y'] = np.sqrt(valid_mean['y'])"
   ]
  },
  {
   "cell_type": "code",
   "execution_count": 186,
   "metadata": {
    "collapsed": false
   },
   "outputs": [
    {
     "data": {
      "text/plain": [
       "29.823236687680541"
      ]
     },
     "execution_count": 186,
     "metadata": {},
     "output_type": "execute_result"
    }
   ],
   "source": [
    "smape(model_xg.predict(valid_mean.drop(['Num', 'y'], axis=1)), valid_mean['y'])"
   ]
  },
  {
   "cell_type": "code",
   "execution_count": 172,
   "metadata": {
    "collapsed": false
   },
   "outputs": [
    {
     "data": {
      "text/plain": [
       "9.6525642692786366"
      ]
     },
     "execution_count": 172,
     "metadata": {},
     "output_type": "execute_result"
    }
   ],
   "source": [
    "smape(model_xg_other.predict(valid_mean.drop(['Num', 'y'], axis=1)), valid_mean['y'])"
   ]
  },
  {
   "cell_type": "code",
   "execution_count": 187,
   "metadata": {
    "collapsed": false
   },
   "outputs": [],
   "source": [
    "test_mean = test.copy()\n",
    "test_mean['mean'] = test_mean[test_mean.columns.values[6:]].mean(axis=1)\n",
    "# test_mean['y'] = np.sqrt(test_mean['y'])"
   ]
  },
  {
   "cell_type": "code",
   "execution_count": 191,
   "metadata": {
    "collapsed": false
   },
   "outputs": [],
   "source": [
    "preds = model_xg.predict(test_mean.drop(['Num'], axis=1))\n"
   ]
  },
  {
   "cell_type": "code",
   "execution_count": null,
   "metadata": {
    "collapsed": true
   },
   "outputs": [],
   "source": []
  },
  {
   "cell_type": "code",
   "execution_count": null,
   "metadata": {
    "collapsed": true,
    "deletable": true,
    "editable": true
   },
   "outputs": [],
   "source": []
  },
  {
   "cell_type": "code",
   "execution_count": 192,
   "metadata": {
    "collapsed": true,
    "deletable": true,
    "editable": true
   },
   "outputs": [],
   "source": [
    "sample_submission['y'] = preds"
   ]
  },
  {
   "cell_type": "code",
   "execution_count": 193,
   "metadata": {
    "collapsed": false,
    "deletable": true,
    "editable": true
   },
   "outputs": [
    {
     "data": {
      "text/html": [
       "<div>\n",
       "<table border=\"1\" class=\"dataframe\">\n",
       "  <thead>\n",
       "    <tr style=\"text-align: right;\">\n",
       "      <th></th>\n",
       "      <th>Num</th>\n",
       "      <th>y</th>\n",
       "    </tr>\n",
       "  </thead>\n",
       "  <tbody>\n",
       "    <tr>\n",
       "      <th>0</th>\n",
       "      <td>348622</td>\n",
       "      <td>2286.835205</td>\n",
       "    </tr>\n",
       "    <tr>\n",
       "      <th>1</th>\n",
       "      <td>348623</td>\n",
       "      <td>23867.035156</td>\n",
       "    </tr>\n",
       "    <tr>\n",
       "      <th>2</th>\n",
       "      <td>348624</td>\n",
       "      <td>329452.593750</td>\n",
       "    </tr>\n",
       "    <tr>\n",
       "      <th>3</th>\n",
       "      <td>348625</td>\n",
       "      <td>37992.535156</td>\n",
       "    </tr>\n",
       "    <tr>\n",
       "      <th>4</th>\n",
       "      <td>348626</td>\n",
       "      <td>39.393253</td>\n",
       "    </tr>\n",
       "  </tbody>\n",
       "</table>\n",
       "</div>"
      ],
      "text/plain": [
       "      Num              y\n",
       "0  348622    2286.835205\n",
       "1  348623   23867.035156\n",
       "2  348624  329452.593750\n",
       "3  348625   37992.535156\n",
       "4  348626      39.393253"
      ]
     },
     "execution_count": 193,
     "metadata": {},
     "output_type": "execute_result"
    }
   ],
   "source": [
    "sample_submission.head(5)"
   ]
  },
  {
   "cell_type": "code",
   "execution_count": 180,
   "metadata": {
    "collapsed": false,
    "deletable": true,
    "editable": true
   },
   "outputs": [
    {
     "name": "stdout",
     "output_type": "stream",
     "text": [
      "Empty DataFrame\n",
      "Columns: [Num, y]\n",
      "Index: []\n"
     ]
    }
   ],
   "source": [
    "# In GBM you can get some negative predictions:\n",
    "print sample_submission[sample_submission['y'] < 0]"
   ]
  },
  {
   "cell_type": "code",
   "execution_count": 181,
   "metadata": {
    "collapsed": true,
    "deletable": true,
    "editable": true
   },
   "outputs": [],
   "source": [
    "sample_submission['y'] = sample_submission['y'].map(lambda x: x if x > 0 else 0.0)"
   ]
  },
  {
   "cell_type": "code",
   "execution_count": 182,
   "metadata": {
    "collapsed": true,
    "deletable": true,
    "editable": true
   },
   "outputs": [],
   "source": [
    "sample_submission.to_csv(\"baseline_submission.tsv\", sep=',', index=False)"
   ]
  },
  {
   "cell_type": "code",
   "execution_count": null,
   "metadata": {
    "collapsed": true,
    "deletable": true,
    "editable": true
   },
   "outputs": [],
   "source": []
  }
 ],
 "metadata": {
  "kernelspec": {
   "display_name": "Python 3",
   "language": "python",
   "name": "python3"
  },
  "language_info": {
   "codemirror_mode": {
    "name": "ipython",
    "version": 3
   },
   "file_extension": ".py",
   "mimetype": "text/x-python",
   "name": "python",
   "nbconvert_exporter": "python",
   "pygments_lexer": "ipython3",
   "version": "3.6.1"
  }
 },
 "nbformat": 4,
 "nbformat_minor": 0
}
