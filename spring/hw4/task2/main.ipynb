{
 "cells": [
  {
   "cell_type": "code",
   "execution_count": 3,
   "metadata": {
    "collapsed": false,
    "deletable": true,
    "editable": true
   },
   "outputs": [],
   "source": [
    "import pandas as pd\n",
    "import numpy as np\n",
    "import matplotlib.pyplot as plt\n",
    "from sklearn.linear_model import LogisticRegression\n",
    "from sklearn.metrics import accuracy_score\n",
    "import xgboost\n",
    "from xgboost import XGBClassifier\n",
    "from sklearn.ensemble import GradientBoostingClassifier\n",
    "%matplotlib inline"
   ]
  },
  {
   "cell_type": "code",
   "execution_count": 88,
   "metadata": {
    "collapsed": true
   },
   "outputs": [],
   "source": [
    "#\n",
    "# FIX task2_lemmas_train file\n",
    "#\n",
    "\n",
    "# def find_second_comma(string):\n",
    "#     return [i for i in [j for j,x in enumerate(string) if x == ',']][1]\n",
    "\n",
    "\n",
    "# def just_replace(string, index):\n",
    "#     return string[:index] + string[index:].replace(',', '_')\n",
    "\n",
    "\n",
    "# fixed_data = []\n",
    "\n",
    "# for row in data:\n",
    "#     if row.count(',') > 2:\n",
    "#         fixed_data.append(just_replace(row, find_second_comma(row)).strip().split(','))\n",
    "#     else:\n",
    "#         fixed_data.append(row.strip().split(','))\n",
    "\n",
    "# train = pd.DataFrame(fixed_data[1:], columns=fixed_data[0])\n",
    "\n",
    "# train.to_csv(\"fixed_train.csv\", sep=',', index=False)"
   ]
  },
  {
   "cell_type": "code",
   "execution_count": 126,
   "metadata": {
    "collapsed": false
   },
   "outputs": [],
   "source": [
    "train = pd.read_csv(\"fixed_train.csv\", sep=',')\n",
    "test = pd.read_csv(\"task2_lemmas_test\", sep=',')\n",
    "sample_submission = pd.read_csv(\"task2_lemmas_sample_submission\", sep=',')"
   ]
  },
  {
   "cell_type": "code",
   "execution_count": 36,
   "metadata": {
    "collapsed": false
   },
   "outputs": [
    {
     "data": {
      "text/plain": [
       "5"
      ]
     },
     "execution_count": 36,
     "metadata": {},
     "output_type": "execute_result"
    }
   ],
   "source": [
    "import editdistance\n",
    "\n",
    "editdistance.eval('infiltreranno', 'infiltrarsi')"
   ]
  },
  {
   "cell_type": "code",
   "execution_count": 27,
   "metadata": {
    "collapsed": false
   },
   "outputs": [],
   "source": [
    "def get_string_diff(st1, st2, lastn=3):\n",
    "    min_len = min(len(st1), len(st2))\n",
    "    if st1 == st2:\n",
    "        return '', '', st1[lastn:]\n",
    "    else:\n",
    "        index = 0\n",
    "        while index < min_len and st1[index] == st2[index]:\n",
    "            index += 1\n",
    "        return st1[index:], st2[index:], ''"
   ]
  },
  {
   "cell_type": "code",
   "execution_count": 28,
   "metadata": {
    "collapsed": false
   },
   "outputs": [
    {
     "data": {
      "text/plain": [
       "('ino', 'are', '')"
      ]
     },
     "execution_count": 28,
     "metadata": {},
     "output_type": "execute_result"
    }
   ],
   "source": [
    "get_string_diff('rampino', 'rampare')"
   ]
  },
  {
   "cell_type": "code",
   "execution_count": 29,
   "metadata": {
    "collapsed": false
   },
   "outputs": [
    {
     "data": {
      "text/plain": [
       "('eranno', 'arsi', '')"
      ]
     },
     "execution_count": 29,
     "metadata": {},
     "output_type": "execute_result"
    }
   ],
   "source": [
    "get_string_diff('infiltreranno', 'infiltrarsi')"
   ]
  },
  {
   "cell_type": "code",
   "execution_count": 30,
   "metadata": {
    "collapsed": false
   },
   "outputs": [
    {
     "data": {
      "text/plain": [
       "('', '', 'tone')"
      ]
     },
     "execution_count": 30,
     "metadata": {},
     "output_type": "execute_result"
    }
   ],
   "source": [
    "get_string_diff('mattone', 'mattone')"
   ]
  },
  {
   "cell_type": "code",
   "execution_count": null,
   "metadata": {
    "collapsed": true
   },
   "outputs": [],
   "source": [
    "test_word = test.iloc[0]['X']"
   ]
  },
  {
   "cell_type": "code",
   "execution_count": 117,
   "metadata": {
    "collapsed": false
   },
   "outputs": [
    {
     "data": {
      "text/plain": [
       "'gettonare+V'"
      ]
     },
     "execution_count": 117,
     "metadata": {},
     "output_type": "execute_result"
    }
   ],
   "source": [
    "def get_ans_for_most_sim(word):\n",
    "    dists = list(map(lambda x: (editdistance.eval(x, word), x), train['X']))\n",
    "    top_index = list(train['X']).index(sorted(dists, key=lambda x: x[0])[0][1])\n",
    "    return train.iloc[top_index]['y']\n",
    "\n",
    "get_ans_for_most_sim(test_word)"
   ]
  },
  {
   "cell_type": "code",
   "execution_count": 119,
   "metadata": {
    "collapsed": true
   },
   "outputs": [],
   "source": [
    "import tqdm"
   ]
  },
  {
   "cell_type": "code",
   "execution_count": 123,
   "metadata": {
    "collapsed": false
   },
   "outputs": [
    {
     "name": "stderr",
     "output_type": "stream",
     "text": [
      "\n",
      "  0%|          | 0/29661 [00:00<?, ?it/s]\u001b[A\n",
      "  0%|          | 1/29661 [00:00<3:47:09,  2.18it/s]\u001b[A\n",
      "  0%|          | 2/29661 [00:00<3:52:59,  2.12it/s]\u001b[A\n",
      "  0%|          | 3/29661 [00:01<3:48:37,  2.16it/s]\u001b[A\n",
      "  0%|          | 4/29661 [00:01<3:39:18,  2.25it/s]\u001b[A\n",
      "  0%|          | 5/29661 [00:02<3:43:39,  2.21it/s]\u001b[A\n",
      "  0%|          | 6/29661 [00:02<3:45:11,  2.19it/s]\u001b[A\n",
      "  0%|          | 7/29661 [00:03<3:44:53,  2.20it/s]\u001b[A\n",
      "  0%|          | 8/29661 [00:03<3:41:00,  2.24it/s]\u001b[A\n",
      "  0%|          | 9/29661 [00:04<3:40:31,  2.24it/s]\u001b[A\n",
      "  0%|          | 10/29661 [00:04<3:46:49,  2.18it/s]\u001b[A\n",
      "  0%|          | 11/29661 [00:04<3:40:21,  2.24it/s]\u001b[A\n",
      "  0%|          | 12/29661 [00:05<3:43:45,  2.21it/s]\u001b[A\n",
      "  0%|          | 13/29661 [00:05<3:41:33,  2.23it/s]\u001b[A\n",
      "  0%|          | 14/29661 [00:06<3:49:46,  2.15it/s]\u001b[A\n",
      "  0%|          | 15/29661 [00:06<3:54:00,  2.11it/s]\u001b[A\n",
      "  0%|          | 16/29661 [00:07<3:55:00,  2.10it/s]\u001b[A\n",
      "  0%|          | 17/29661 [00:07<3:55:00,  2.10it/s]\u001b[A\n",
      "  0%|          | 18/29661 [00:08<3:50:07,  2.15it/s]\n",
      "100%|██████████| 29661/29661 [3:40:36<00:00,  2.14it/s]  "
     ]
    },
    {
     "name": "stdout",
     "output_type": "stream",
     "text": [
      "CPU times: user 3h 37min 9s, sys: 1min 41s, total: 3h 38min 51s\n",
      "Wall time: 3h 40min 36s\n"
     ]
    },
    {
     "name": "stderr",
     "output_type": "stream",
     "text": [
      "\n"
     ]
    }
   ],
   "source": [
    "%%time\n",
    "first_try = []\n",
    "\n",
    "for x in tqdm.tqdm(test['X']):\n",
    "    first_try.append(get_ans_for_most_sim(x))"
   ]
  },
  {
   "cell_type": "code",
   "execution_count": 131,
   "metadata": {
    "collapsed": false
   },
   "outputs": [
    {
     "data": {
      "text/plain": [
       "29661"
      ]
     },
     "execution_count": 131,
     "metadata": {},
     "output_type": "execute_result"
    }
   ],
   "source": [
    "len(first_try)"
   ]
  },
  {
   "cell_type": "code",
   "execution_count": 132,
   "metadata": {
    "collapsed": false
   },
   "outputs": [
    {
     "data": {
      "text/plain": [
       "29661"
      ]
     },
     "execution_count": 132,
     "metadata": {},
     "output_type": "execute_result"
    }
   ],
   "source": [
    "len(sample_submission)"
   ]
  },
  {
   "cell_type": "code",
   "execution_count": 134,
   "metadata": {
    "collapsed": false
   },
   "outputs": [],
   "source": [
    "sample_submission['Category'] = first_try"
   ]
  },
  {
   "cell_type": "code",
   "execution_count": 135,
   "metadata": {
    "collapsed": true
   },
   "outputs": [],
   "source": [
    "sample_submission.to_csv(\"submission.csv\", sep=',', index=False)"
   ]
  },
  {
   "cell_type": "code",
   "execution_count": null,
   "metadata": {
    "collapsed": true
   },
   "outputs": [],
   "source": []
  }
 ],
 "metadata": {
  "kernelspec": {
   "display_name": "Python 3",
   "language": "python",
   "name": "python3"
  },
  "language_info": {
   "codemirror_mode": {
    "name": "ipython",
    "version": 3
   },
   "file_extension": ".py",
   "mimetype": "text/x-python",
   "name": "python",
   "nbconvert_exporter": "python",
   "pygments_lexer": "ipython3",
   "version": "3.6.1"
  }
 },
 "nbformat": 4,
 "nbformat_minor": 0
}
