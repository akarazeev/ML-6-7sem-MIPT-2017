{
 "cells": [
  {
   "cell_type": "code",
   "execution_count": 59,
   "metadata": {
    "collapsed": false,
    "deletable": true,
    "editable": true
   },
   "outputs": [],
   "source": [
    "import pandas as pd\n",
    "import numpy as np\n",
    "import seaborn as sns\n",
    "import matplotlib.pyplot as plt\n",
    "%matplotlib inline"
   ]
  },
  {
   "cell_type": "code",
   "execution_count": 2,
   "metadata": {
    "collapsed": false,
    "deletable": true,
    "editable": true
   },
   "outputs": [
    {
     "name": "stdout",
     "output_type": "stream",
     "text": [
      "--2017-03-28 12:39:01--  https://raw.githubusercontent.com/ml-mipt/ml-mipt-part1/master/2017/seminars/493/dataset1.tsv\n",
      "Resolving raw.githubusercontent.com... 151.101.0.133, 151.101.192.133, 151.101.64.133, ...\n",
      "Connecting to raw.githubusercontent.com|151.101.0.133|:443... connected.\n",
      "HTTP request sent, awaiting response... 200 OK\n",
      "Length: 448467 (438K) [text/plain]\n",
      "Saving to: ‘dataset1.tsv.1’\n",
      "\n",
      "dataset1.tsv.1      100%[===================>] 437.96K  1.60MB/s    in 0.3s    \n",
      "\n",
      "2017-03-28 12:39:02 (1.60 MB/s) - ‘dataset1.tsv.1’ saved [448467/448467]\n",
      "\n",
      "--2017-03-28 12:39:02--  https://raw.githubusercontent.com/ml-mipt/ml-mipt-part1/master/2017/seminars/493/dataset2.tsv\n",
      "Resolving raw.githubusercontent.com... 151.101.0.133, 151.101.192.133, 151.101.64.133, ...\n",
      "Connecting to raw.githubusercontent.com|151.101.0.133|:443... connected.\n",
      "HTTP request sent, awaiting response... 200 OK\n",
      "Length: 3371540 (3.2M) [text/plain]\n",
      "Saving to: ‘dataset2.tsv.1’\n",
      "\n",
      "dataset2.tsv.1      100%[===================>]   3.21M  3.33MB/s    in 1.0s    \n",
      "\n",
      "2017-03-28 12:39:04 (3.33 MB/s) - ‘dataset2.tsv.1’ saved [3371540/3371540]\n",
      "\n"
     ]
    }
   ],
   "source": [
    "!wget https://raw.githubusercontent.com/ml-mipt/ml-mipt-part1/master/2017/seminars/493/dataset1.tsv\n",
    "!wget https://raw.githubusercontent.com/ml-mipt/ml-mipt-part1/master/2017/seminars/493/dataset2.tsv"
   ]
  },
  {
   "cell_type": "code",
   "execution_count": 5,
   "metadata": {
    "collapsed": false,
    "deletable": true,
    "editable": true
   },
   "outputs": [],
   "source": [
    "df = pd.read_csv(\"dataset1.tsv\", sep=\"\\t\")"
   ]
  },
  {
   "cell_type": "code",
   "execution_count": 6,
   "metadata": {
    "collapsed": false,
    "deletable": true,
    "editable": true
   },
   "outputs": [],
   "source": [
    "import re\n",
    "\n",
    "def clean_text(text):\n",
    "    only_alphabetical = re.sub(\"[^a-zA-Z0-9 ]+\", \"\", text)\n",
    "    with_folded_whitespaces = re.sub(\"\\s+\", \" \", only_alphabetical)\n",
    "    lowered_text = with_folded_whitespaces.lower()\n",
    "    \n",
    "    return lowered_text"
   ]
  },
  {
   "cell_type": "code",
   "execution_count": 7,
   "metadata": {
    "collapsed": false,
    "deletable": true,
    "editable": true
   },
   "outputs": [],
   "source": [
    "assert clean_text(\"THE DA VINCI CODE is AN AWESOME BOOK\") == \"the da vinci code is an awesome book\"\n",
    "assert clean_text(\"ASDASD131231gs...as,da,s,,313-----sad  asdadasa\") == \"asdasd131231gsasdas313sad asdadasa\"\n",
    "assert not clean_text(\".....___----****&&&^^\")"
   ]
  },
  {
   "cell_type": "code",
   "execution_count": 8,
   "metadata": {
    "collapsed": false,
    "deletable": true,
    "editable": true
   },
   "outputs": [
    {
     "data": {
      "text/html": [
       "<div>\n",
       "<table border=\"1\" class=\"dataframe\">\n",
       "  <thead>\n",
       "    <tr style=\"text-align: right;\">\n",
       "      <th></th>\n",
       "      <th>positive</th>\n",
       "      <th>text</th>\n",
       "    </tr>\n",
       "  </thead>\n",
       "  <tbody>\n",
       "    <tr>\n",
       "      <th>0</th>\n",
       "      <td>1</td>\n",
       "      <td>this was the first clive cussler ive ever read...</td>\n",
       "    </tr>\n",
       "    <tr>\n",
       "      <th>1</th>\n",
       "      <td>1</td>\n",
       "      <td>i liked the da vinci code a lot</td>\n",
       "    </tr>\n",
       "    <tr>\n",
       "      <th>2</th>\n",
       "      <td>1</td>\n",
       "      <td>i liked the da vinci code a lot</td>\n",
       "    </tr>\n",
       "    <tr>\n",
       "      <th>3</th>\n",
       "      <td>1</td>\n",
       "      <td>i liked the da vinci code but it ultimatly did...</td>\n",
       "    </tr>\n",
       "    <tr>\n",
       "      <th>4</th>\n",
       "      <td>1</td>\n",
       "      <td>thats not even an exaggeration and at midnight...</td>\n",
       "    </tr>\n",
       "  </tbody>\n",
       "</table>\n",
       "</div>"
      ],
      "text/plain": [
       "   positive                                               text\n",
       "0         1  this was the first clive cussler ive ever read...\n",
       "1         1                    i liked the da vinci code a lot\n",
       "2         1                    i liked the da vinci code a lot\n",
       "3         1  i liked the da vinci code but it ultimatly did...\n",
       "4         1  thats not even an exaggeration and at midnight..."
      ]
     },
     "execution_count": 8,
     "metadata": {},
     "output_type": "execute_result"
    }
   ],
   "source": [
    "df[\"text\"] = df.text.apply(clean_text)\n",
    "df.head()"
   ]
  },
  {
   "cell_type": "code",
   "execution_count": 13,
   "metadata": {
    "collapsed": false,
    "deletable": true,
    "editable": true
   },
   "outputs": [
    {
     "data": {
      "text/plain": [
       "'i like the da vinci code a lot'"
      ]
     },
     "execution_count": 13,
     "metadata": {},
     "output_type": "execute_result"
    }
   ],
   "source": [
    "from nltk.stem import PorterStemmer\n",
    "\n",
    "st = PorterStemmer()\n",
    "\n",
    "def stem_text(text):\n",
    "    words = text.split()\n",
    "    words = [st.stem(word) for word in words]\n",
    "    return \" \".join(words)\n",
    "\n",
    "stem_text(\"i liked the da vinci code a lot\")"
   ]
  },
  {
   "cell_type": "code",
   "execution_count": 15,
   "metadata": {
    "collapsed": false,
    "deletable": true,
    "editable": true
   },
   "outputs": [],
   "source": [
    "assert stem_text(\"i liked the da vinci code a lot\") == \"i like the da vinci code a lot\"\n",
    "assert (stem_text(\"this prevents urllib3 from configuring ssl appropriately and may cause certain ssl connections to fail\") ==\n",
    "        \"thi prevent urllib3 from configur ssl appropri and may caus certain ssl connect to fail\")"
   ]
  },
  {
   "cell_type": "code",
   "execution_count": 17,
   "metadata": {
    "collapsed": false,
    "deletable": true,
    "editable": true
   },
   "outputs": [
    {
     "name": "stdout",
     "output_type": "stream",
     "text": [
      "Unique words before stemming: 2325\n",
      "Unique words after stemming: 2037\n"
     ]
    }
   ],
   "source": [
    "print(\"Unique words before stemming:\", np.unique(\" \".join(df.text.values).split()).shape[0])\n",
    "df.text = df.text.apply(stem_text)\n",
    "print(\"Unique words after stemming:\", np.unique(\" \".join(df.text.values).split()).shape[0])"
   ]
  },
  {
   "cell_type": "code",
   "execution_count": 18,
   "metadata": {
    "collapsed": false,
    "deletable": true,
    "editable": true
   },
   "outputs": [],
   "source": [
    "texts = df.text\n",
    "labels = df.positive"
   ]
  },
  {
   "cell_type": "markdown",
   "metadata": {},
   "source": [
    "# Experimenting..."
   ]
  },
  {
   "cell_type": "code",
   "execution_count": 22,
   "metadata": {
    "collapsed": false,
    "deletable": true,
    "editable": true
   },
   "outputs": [],
   "source": [
    "from sklearn.linear_model import LogisticRegression\n",
    "from sklearn.svm import LinearSVC\n",
    "from sklearn.model_selection import cross_val_score\n",
    "from sklearn.feature_extraction.text import CountVectorizer, TfidfVectorizer, TfidfTransformer, FeatureHasher"
   ]
  },
  {
   "cell_type": "code",
   "execution_count": 73,
   "metadata": {
    "collapsed": false
   },
   "outputs": [
    {
     "name": "stdout",
     "output_type": "stream",
     "text": [
      "0.958067890423\n",
      "1  -  the da vinci code is an amaz book do not get me wrong\n",
      "0  -  the da vinci code is an amaz book do not get me wrong\n",
      "0.95994748523\n",
      "1  -  the da vinci code is an amaz book do not get me wrong\n",
      "0  -  the da vinci code is an amaz book do not get me wrong\n"
     ]
    },
    {
     "data": {
      "image/png": "[encoded data removed]",
      "text/plain": [
       "<matplotlib.figure.Figure at 0x110006f60>"
      ]
     },
     "metadata": {},
     "output_type": "display_data"
    }
   ],
   "source": [
    "transformer = CountVectorizer(input=\"content\", analyzer=\"word\")\n",
    "matrix = transformer.fit_transform(texts)\n",
    "\n",
    "sns.distplot(matrix.data)\n",
    "\n",
    "for classifier in [LogisticRegression, LinearSVC]:\n",
    "    clf = classifier()\n",
    "    print(cross_val_score(clf, matrix, labels, scoring=\"accuracy\").mean())\n",
    "    print(preds[10], ' - ', texts[i])\n",
    "    print(preds[6915], ' - ', texts[i])"
   ]
  },
  {
   "cell_type": "code",
   "execution_count": 65,
   "metadata": {
    "collapsed": false
   },
   "outputs": [
    {
     "name": "stdout",
     "output_type": "stream",
     "text": [
      "0.905429829067\n",
      "1  -  the da vinci code is an amaz book do not get me wrong\n",
      "0  -  the da vinci code is an amaz book do not get me wrong\n",
      "0.953152987052\n",
      "1  -  the da vinci code is an amaz book do not get me wrong\n",
      "0  -  the da vinci code is an amaz book do not get me wrong\n"
     ]
    },
    {
     "data": {
      "image/png": "[encoded data removed]",
      "text/plain": [
       "<matplotlib.figure.Figure at 0x10f8fd438>"
      ]
     },
     "metadata": {},
     "output_type": "display_data"
    }
   ],
   "source": [
    "transformer = TfidfTransformer()\n",
    "tf_idfed_matrix = transformer.fit_transform(matrix)\n",
    "\n",
    "sns.distplot(tf_idfed_matrix.data)\n",
    "\n",
    "for classifier in [LogisticRegression, LinearSVC]:\n",
    "    clf = classifier()\n",
    "    print(cross_val_score(clf, tf_idfed_matrix, labels, scoring=\"accuracy\").mean())\n",
    "    print(preds[10], ' - ', texts[i])\n",
    "    print(preds[6915], ' - ', texts[i])"
   ]
  },
  {
   "cell_type": "code",
   "execution_count": 84,
   "metadata": {
    "collapsed": false
   },
   "outputs": [
    {
     "name": "stdout",
     "output_type": "stream",
     "text": [
      "0.956911361414\n",
      "1  -  the da vinci code is an amaz book do not get me wrong\n",
      "0  -  the da vinci code is an amaz book do not get me wrong\n",
      "0.957634489925\n",
      "1  -  the da vinci code is an amaz book do not get me wrong\n",
      "0  -  the da vinci code is an amaz book do not get me wrong\n"
     ]
    },
    {
     "data": {
      "image/png": "[encoded data removed]",
      "text/plain": [
       "<matplotlib.figure.Figure at 0x10f94ed30>"
      ]
     },
     "metadata": {},
     "output_type": "display_data"
    }
   ],
   "source": [
    "transformer = FeatureHasher(input_type='string', n_features=3500)\n",
    "matrix = transformer.fit_transform(map(lambda x: x.split(), texts)) # в случае FeatureHasher\n",
    "\n",
    "sns.distplot(matrix.data)\n",
    "\n",
    "for classifier in [LogisticRegression, LinearSVC]:\n",
    "    clf = classifier()\n",
    "    print(cross_val_score(clf, matrix, labels, scoring=\"accuracy\").mean())\n",
    "    clf.fit(matrix, labels)\n",
    "    print(preds[10], ' - ', texts[i])\n",
    "    print(preds[6915], ' - ', texts[i])"
   ]
  },
  {
   "cell_type": "code",
   "execution_count": null,
   "metadata": {
    "collapsed": true
   },
   "outputs": [],
   "source": []
  }
 ],
 "metadata": {
  "kernelspec": {
   "display_name": "Python 3",
   "language": "python",
   "name": "python3"
  },
  "language_info": {
   "codemirror_mode": {
    "name": "ipython",
    "version": 3
   },
   "file_extension": ".py",
   "mimetype": "text/x-python",
   "name": "python",
   "nbconvert_exporter": "python",
   "pygments_lexer": "ipython3",
   "version": "3.6.1"
  }
 },
 "nbformat": 4,
 "nbformat_minor": 2
}
