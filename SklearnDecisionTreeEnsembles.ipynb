{
 "cells": [
  {
   "cell_type": "code",
   "execution_count": 1,
   "metadata": {
    "collapsed": false
   },
   "outputs": [],
   "source": [
    "from sklearn.tree import DecisionTreeRegressor, DecisionTreeClassifier\n",
    "from sklearn.model_selection import cross_val_score\n",
    "from sklearn.base import BaseEstimator\n",
    "from sklearn.datasets import make_regression, make_classification\n",
    "\n",
    "import numpy as np\n",
    "import matplotlib.pyplot as plt\n",
    "%matplotlib inline"
   ]
  },
  {
   "cell_type": "code",
   "execution_count": 3,
   "metadata": {
    "collapsed": false
   },
   "outputs": [],
   "source": [
    "def bootstrap(X, y):\n",
    "    # YOUR CODE BEGIN\n",
    "    assert(len(X) == len(y))\n",
    "    indices = np.random.randint(0, len(X), len(X))\n",
    "    X = np.take(X, indices, axis=0)\n",
    "    y = np.take(y, indices)\n",
    "    # YOUR CODE END\n",
    "    return X, y\n",
    "\n",
    "def random_subspace_method(X, p=1.0):\n",
    "    # YOUR CODE BEGIN\n",
    "    X = X.T\n",
    "    ans = []\n",
    "    for i in X:\n",
    "        if np.random.rand() < p:\n",
    "            ans.append(i)\n",
    "    X = np.array(ans).T\n",
    "    # YOUR CODE END\n",
    "    return X"
   ]
  },
  {
   "cell_type": "code",
   "execution_count": 4,
   "metadata": {
    "collapsed": false
   },
   "outputs": [],
   "source": [
    "X = np.arange(16).reshape(4, 4)\n",
    "y = np.arange(4)\n",
    "\n",
    "assert type(bootstrap(X, y)[0]) == np.ndarray, \"wrong return type of X\"\n",
    "assert type(bootstrap(X, y)[1]) == np.ndarray, \"wrong return type of y\"\n",
    "assert bootstrap(X, y)[0].shape == X.shape, \"wrong shape of X\"\n",
    "assert bootstrap(X, y)[1].shape == y.shape, \"wrong shape of y\"\n",
    "\n",
    "assert type(random_subspace_method(X)) == np.ndarray, \"wrong return type\"\n",
    "assert random_subspace_method(X).shape == X.shape, \"wrong size\"\n",
    "assert random_subspace_method(X, p=0.5).shape == (4, 2), \"wrong size\"\n",
    "assert np.all(np.unique(random_subspace_method(X)) == np.unique(X)), \"duplicating features (or smth even worse)\""
   ]
  },
  {
   "cell_type": "code",
   "execution_count": 362,
   "metadata": {
    "collapsed": true
   },
   "outputs": [],
   "source": [
    "class BrandNewRandomForestClassifier(BaseEstimator):\n",
    "    def __init__(self, num_iterations=100, max_depth=6):\n",
    "        self.num_iterations = num_iterations\n",
    "        self.max_depth = max_depth\n",
    "        \n",
    "    def fit(self, X, y):\n",
    "        self.estimators = []\n",
    "        for iter_num in range(self.num_iterations):\n",
    "            ##\n",
    "            # BEGIN OF YOUR CODE\n",
    "            X_iter, y_iter = bootstrap(X, y)\n",
    "            \n",
    "            new_estimator = DecisionTreeClassifier(max_depth=self.max_depth)\n",
    "            new_estimator.fit(X_iter, y_iter)\n",
    "            \n",
    "            # END OF YOUR CODE\n",
    "            ##\n",
    "            self.estimators.append(new_estimator)\n",
    "            \n",
    "    def predict_proba(self, X):\n",
    "        probas = []\n",
    "        \n",
    "        for estimator in self.estimators:\n",
    "            probas.append(estimator.predict_proba(X))\n",
    "        \n",
    "        return np.dstack(probas).mean(axis=2)"
   ]
  },
  {
   "cell_type": "code",
   "execution_count": 209,
   "metadata": {
    "collapsed": false
   },
   "outputs": [
    {
     "data": {
      "text/plain": [
       "-4.8675971634984423"
      ]
     },
     "execution_count": 209,
     "metadata": {},
     "output_type": "execute_result"
    }
   ],
   "source": [
    "from sklearn.datasets import make_classification\n",
    "\n",
    "X, y = make_classification()\n",
    "np.mean(cross_val_score(DecisionTreeClassifier(max_depth=6), X, y, cv=3, scoring='neg_log_loss'))"
   ]
  },
  {
   "cell_type": "code",
   "execution_count": 210,
   "metadata": {
    "collapsed": false
   },
   "outputs": [
    {
     "data": {
      "text/plain": [
       "-0.26715655395304511"
      ]
     },
     "execution_count": 210,
     "metadata": {},
     "output_type": "execute_result"
    }
   ],
   "source": [
    "# It is better because of iterations\n",
    "np.mean(cross_val_score(BrandNewRandomForestClassifier(max_depth=6), X, y, cv=3, scoring='neg_log_loss'))"
   ]
  },
  {
   "cell_type": "code",
   "execution_count": 8,
   "metadata": {
    "collapsed": false
   },
   "outputs": [
    {
     "data": {
      "image/png": "[encoded data removed]",
      "text/plain": [
       "<matplotlib.figure.Figure at 0x112056490>"
      ]
     },
     "metadata": {},
     "output_type": "display_data"
    }
   ],
   "source": [
    "scores = []\n",
    "for iterations in [1] + range(5, 100, 10):\n",
    "    algo = BrandNewRandomForestClassifier(num_iterations=iterations)\n",
    "    scores.append(cross_val_score(algo, X, y, cv=3, scoring='neg_log_loss').mean())\n",
    "plt.plot(scores)\n",
    "_ = plt.xticks(range(10), [1] + range(5, 100, 10))"
   ]
  },
  {
   "cell_type": "code",
   "execution_count": 441,
   "metadata": {
    "collapsed": false
   },
   "outputs": [],
   "source": [
    "class SimpleGBRegressor(BaseEstimator):\n",
    "    def __init__(self, num_iterations=100, learning_rate=1e-1, max_depth=6):\n",
    "        self.num_iterations = num_iterations\n",
    "        self.learning_rate = learning_rate\n",
    "        self.max_depth = max_depth\n",
    "        \n",
    "    def fit(self, X, y):\n",
    "        self.estimators = []\n",
    "        curr_pred = np.zeros(y.shape)\n",
    "        for iter_num in range(self.num_iterations):\n",
    "            \n",
    "            new_estimator = DecisionTreeRegressor(max_depth=self.max_depth)\n",
    "            ##\n",
    "            # BEGIN OF YOUR CODE\n",
    "            gradient = y - curr_pred\n",
    "            new_estimator.fit(X, gradient)\n",
    "            self.estimators.append(new_estimator)\n",
    "            \n",
    "            update = new_estimator.predict(X)\n",
    "            \n",
    "            curr_pred += self.learning_rate * update    \n",
    "            # END OF YOUR CODE\n",
    "            ##\n",
    "  \n",
    "    def predict(self, X):\n",
    "        res = np.zeros(X.shape[0])\n",
    "        for estimator in self.estimators:\n",
    "            res += self.learning_rate * estimator.predict(X)\n",
    "        return res"
   ]
  },
  {
   "cell_type": "code",
   "execution_count": 442,
   "metadata": {
    "collapsed": false
   },
   "outputs": [
    {
     "data": {
      "text/plain": [
       "-19217.959996551464"
      ]
     },
     "execution_count": 442,
     "metadata": {},
     "output_type": "execute_result"
    }
   ],
   "source": [
    "X_data, y_data = make_regression(n_samples=1000, noise=100, n_features=10, random_state=42)\n",
    "np.mean(cross_val_score(DecisionTreeRegressor(max_depth=6), X_data, y_data, cv=3, scoring='neg_mean_squared_error'))"
   ]
  },
  {
   "cell_type": "code",
   "execution_count": 443,
   "metadata": {
    "collapsed": false,
    "scrolled": true
   },
   "outputs": [
    {
     "data": {
      "text/plain": [
       "-12419.53791109114"
      ]
     },
     "execution_count": 443,
     "metadata": {},
     "output_type": "execute_result"
    }
   ],
   "source": [
    "algo = SimpleGBRegressor(num_iterations=50, learning_rate = 0.1, max_depth=6)\n",
    "np.mean(cross_val_score(algo, X_data, y_data, cv=3, scoring='neg_mean_squared_error'))"
   ]
  },
  {
   "cell_type": "code",
   "execution_count": 444,
   "metadata": {
    "collapsed": false
   },
   "outputs": [
    {
     "data": {
      "text/plain": [
       "[<matplotlib.lines.Line2D at 0x1179a6ed0>]"
      ]
     },
     "execution_count": 444,
     "metadata": {},
     "output_type": "execute_result"
    },
    {
     "data": {
      "image/png": "[encoded data removed]",
      "text/plain": [
       "<matplotlib.figure.Figure at 0x117878310>"
      ]
     },
     "metadata": {},
     "output_type": "display_data"
    }
   ],
   "source": [
    "scores = []\n",
    "for iterations in range(30):\n",
    "    algo = SimpleGBRegressor(num_iterations=iterations, learning_rate=0.2)\n",
    "    scores.append(cross_val_score(algo, X_data, y_data, cv=3, scoring='neg_mean_squared_error').mean())\n",
    "plt.plot(scores)"
   ]
  },
  {
   "cell_type": "code",
   "execution_count": null,
   "metadata": {
    "collapsed": true
   },
   "outputs": [],
   "source": []
  }
 ],
 "metadata": {
  "kernelspec": {
   "display_name": "Python 2",
   "language": "python",
   "name": "python2"
  },
  "language_info": {
   "codemirror_mode": {
    "name": "ipython",
    "version": 2
   },
   "file_extension": ".py",
   "mimetype": "text/x-python",
   "name": "python",
   "nbconvert_exporter": "python",
   "pygments_lexer": "ipython2",
   "version": "2.7.12"
  }
 },
 "nbformat": 4,
 "nbformat_minor": 0
}
