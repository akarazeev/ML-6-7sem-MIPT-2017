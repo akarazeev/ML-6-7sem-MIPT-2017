{
 "cells": [
  {
   "cell_type": "markdown",
   "metadata": {},
   "source": [
    "493, Anton Karazeev, anton.karazeev@phystech.edu"
   ]
  },
  {
   "cell_type": "code",
   "execution_count": 2,
   "metadata": {
    "collapsed": true
   },
   "outputs": [],
   "source": [
    "import pandas as pd\n",
    "import numpy as np\n",
    "import matplotlib.pyplot as plt\n",
    "%matplotlib inline"
   ]
  },
  {
   "cell_type": "markdown",
   "metadata": {},
   "source": [
    "# 1.1 Ответы в листьях регрессионного дерева"
   ]
  },
  {
   "cell_type": "markdown",
   "metadata": {},
   "source": [
    "Что лучше - отвечать средним значением таргета на объектах обучающей выборки, попавших в лист, или отвечать таргетом для случайного объекта из листа (все объекты равновероятны)?\n",
    "\n",
    "-- -- --\n",
    "\n",
    "Обозначения: $y_i$ - истинные значения таргетов, $\\hat y_i$ - предсказанные значения таргетов.\n",
    "\n",
    "В первом случае: предсказанные таргеты - это среднее значение $\\bar y$.\n",
    "\n",
    "- Считаю мат. ож. MSE: $\\mathbb E MSE(Y,\\hat Y) = \\frac{1}{n} \\sum_i E (y_i - \\hat y_i)^2 = \\frac{1}{n} \\sum_i Ey_i^2 + E\\hat y_i^2 - 2y_i \\bar y = \\frac{1}{n} \\sum_i y_i^2 + \\left(\\frac{\\sum_j y_j}{n}\\right)^2 - 2y_i \\bar y$, в этом случае $y_i$ является фиксированным числом.\n",
    "\n",
    "Во втором случае: предсказанные таргеты - случайная величина с равномерным распределением: $\\hat y \\sim Uniform$.\n",
    "\n",
    "- Считаю мат. ож. MSE: $\\mathbb E MSE(Y,\\hat Y) = \\frac{1}{n} \\sum_i Ey_i^2 + E\\hat y_i^2 - 2y_i \\bar y = \\frac{1}{n} \\sum_i y_i^2 + \\frac{\\sum_j y_j^2}{n} - 2y_i \\bar y$, т.к. $\\mathbb E \\hat y = \\bar y.$\n",
    "\n",
    "Получаю, что ошибка во втором случае больше, чем в первом, т.к. $\\frac{\\sum_j y_j^2}{n} \\geqslant \\left(\\frac{\\sum_j y_j}{n}\\right)^2$ (поскольку выборочная дисперсия $\\geqslant 0$).\n",
    "\n",
    "Следовательно, лучше отвечать средним значением таргета на объектах обучающей выборки."
   ]
  },
  {
   "cell_type": "markdown",
   "metadata": {},
   "source": [
    "# 1.2 Линейные модели в деревьях"
   ]
  },
  {
   "cell_type": "code",
   "execution_count": null,
   "metadata": {
    "collapsed": true
   },
   "outputs": [],
   "source": []
  }
 ],
 "metadata": {
  "kernelspec": {
   "display_name": "Python 2",
   "language": "python",
   "name": "python2"
  },
  "language_info": {
   "codemirror_mode": {
    "name": "ipython",
    "version": 2
   },
   "file_extension": ".py",
   "mimetype": "text/x-python",
   "name": "python",
   "nbconvert_exporter": "python",
   "pygments_lexer": "ipython2",
   "version": "2.7.12"
  }
 },
 "nbformat": 4,
 "nbformat_minor": 0
}
