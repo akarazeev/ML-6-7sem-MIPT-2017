{
 "cells": [
  {
   "cell_type": "markdown",
   "metadata": {},
   "source": [
    "<span style=\"font-size: 14pt\">MIPT, Advanced ML, Autumn 2017</span>\n",
    "\n",
    "<span style=\"font-size: 16pt\"> HW #2: ARMA, ARIMA\n",
    "\n",
    "<span style=\"color:blue; font-size: 12pt\">Alexey Romanenko </span>,\n",
    "<span style=\"color:blue; font-size: 12pt; font-family: 'Verdana'\">alexromsput@gmail.com</span>"
   ]
  },
  {
   "cell_type": "markdown",
   "metadata": {},
   "source": [
    "<h1 align=\"center\">Organization Info</h1> "
   ]
  },
  {
   "cell_type": "markdown",
   "metadata": {},
   "source": [
    "**Дополнительный материал для выполнения дз**:\n",
    "- Магнус Я.Р., Катышев П.К., Пересецкий А.А. Эконометрика. Начальный курс., глава 11\n",
    "- Лукишн Ю.П. Адаптивные методы краткосрочного прогнозирования временных рядов. Финансы и статистика. 2003, главы 1,4,5,7.\n",
    "\n",
    "**Оформление дз**: \n",
    "- Присылайте выполненное задание на почту ``ml.course.mipt@gmail.com``\n",
    "- Укажите тему письма в следующем формате ``ML2017_Aut_fall <номер_группы> <фамилия>``, к примеру -- ``ML2017_Aut_fall 401 ivanov``\n",
    "- Выполненное дз сохраните в файл ``<фамилия>_<группа>_task<номер>.ipnb``, к примеру -- ``ivanov_401_task1.ipnb``\n",
    "\n",
    "**Вопросы**:\n",
    "- Присылайте вопросы на почту ``ml.course.mipt@gmail.com``\n",
    "- Укажите тему письма в следующем формате ``ML2017_Aut_fall Question <Содержание вопроса>``\n",
    "\n",
    "--------\n",
    "- **PS1**: Мы используем автоматические фильтры, и просто не найдем ваше дз, если вы не аккуратно его подпишите.\n",
    "- **PS2**: Напоминаем, что дедлайны жесткие, письма пришедшие после автоматически удаляются =( чтобы соблазна не было "
   ]
  },
  {
   "cell_type": "markdown",
   "metadata": {},
   "source": [
    "<h1 align=\"center\">Check Questions (20%)</h1> "
   ]
  },
  {
   "cell_type": "markdown",
   "metadata": {},
   "source": [
    "Ответе на вопросы своими словами (загугленный материал надо пересказать), ответ обоснуйте (напишите и ОБЪЯСНИТЕ формулки если потребуется), если не выходит, то вернитесь к лекции дополнительным материалам:\n",
    "\n",
    "**Вопрос 1** Напишите уравнение временного ряда (в виде $y_t=f\\left(y_{t-1}, \\dots, y_1,~\\varepsilon_{t},\\dots, \\varepsilon_{1}\\right)$) которая соответствует модели:\n",
    "   * 1) ARIMA $(p=0,d=k,q=1)$,\n",
    "     - <Ответ>\n",
    "   * 2) ARIMA $(p=0,d=k+1,d=1)(P=1, D=1, Q=0)_s$,\n",
    "     - <Ответ>"
   ]
  },
  {
   "cell_type": "markdown",
   "metadata": {},
   "source": [
    "**Вопрос 2**  Write canonic form of ARIMA model for the time series\n",
    " - 1) $$y_t = a_1 y_{t-1} + a_2 y_{t-4} - a_1 a_2 y_{t-5} + \\varepsilon_t$$ (Hint: seasnality period is equal to 4).\n",
    " - 2) $$y_t = y_{t-d} + \\varepsilon_t +b_2 + \\varepsilon_{t-2} + B_1 \\varepsilon_{t-s} + b_2 B_1 \\varepsilon_{t-s-2} $$"
   ]
  },
  {
   "cell_type": "markdown",
   "metadata": {},
   "source": [
    "**Вопрос 3** Покажите, что ARIMA$(p=0,d=2, q=2)$ эквивалентна модели Хольта (linear trend) при условиях:\n",
    "\t\t$$(1-В)^2Y_t = (1-\\phi_1 В-\\phi_2 В^2)\\varepsilon_t$$\n",
    "\t\t$$\\phi_1 = 2-\\alpha-\\alpha\\beta, \\text{ }\\phi_2 = \\alpha-1$$"
   ]
  },
  {
   "cell_type": "markdown",
   "metadata": {},
   "source": [
    "**Вопрос 4**: Покажите, что для модели  \n",
    "    $$AR(p)\\colon \\;\\;\\; y_t = \\phi_1 y_{t-1} + \\phi_2 y_{t-2} + \\dots + \\phi_p y_{t-p} + \\varepsilon_t,$$**  \n",
    "    где $y_t$ стационарный процесс с нулевым средним,$~~$\n",
    "    $\\phi_1,\\dots,\\phi_p$ - константы ($\\phi_p \\neq 0$), $~~$\n",
    "    $\\varepsilon_t$ несмещённый гауссовский шум с дисперсией $\\sigma_\\varepsilon^2 $\n",
    "выолнено:\n",
    "\n",
    "   * a) частный коэффициент автокорреляции\n",
    "   $$\\phi_{\\tau\\tau} = \\mathsf{E}[y_t-\\hat y_t, y_{t+\\tau} - \\hat y_{t+\\tau}]= \\begin{cases}0 &, \\tau>p; \\\\ f(\\tau,p)>0 &, 0\\leq\\tau\\leq p. \\end{cases}$$\n",
    "\t\n",
    "  где $\\hat y_t$ - прогноз $y_t$ согласно следующей регрессионной модели $$y_t = \\sum_{j=1}^{\\tau-1}\\beta_j y_{t+j}$$\n",
    "    $\\hat y_{t+\\tau}$ - forecast of $y_{t\\tau}$ with following regression model $$y_{t+\\tau} = \\sum_{j=1}^{\\tau-1}\\gamma_j y_{t+j}.$$\n",
    "\n",
    "<Ответ>"
   ]
  },
  {
   "cell_type": "markdown",
   "metadata": {},
   "source": [
    "**Вопрос 5**: Покажите, что для модели \n",
    "$$MA(q)\\colon \\;\\;\\; y_t = \\varepsilon_t + \\theta_1\\varepsilon_{t-1} + \\theta_2\\varepsilon_{t-2} + \\dots + \\theta_q \\varepsilon_{t-q},$$ \n",
    "   где $y_t$ стационарный процесс с нулевым средним,$~~$\n",
    "     $\\theta_1,\\dots,\\theta_q$ - константы ($\\theta_q \\neq 0$), $~~$\n",
    "    $\\varepsilon_t$ несмещённый гауссовский шум с дисперсией $\\sigma_\\varepsilon^2 $\n",
    "выолнено:\n",
    "\n",
    "* a) коэффициент корреляции\n",
    "   $$r_\\tau=\\begin{cases}0 &, \\tau>q; \\\\ f(\\tau,q)>0 &, \\tau\\leq q. \\end{cases}$$\n",
    "   \n",
    "<Answer>"
   ]
  },
  {
   "cell_type": "markdown",
   "metadata": {},
   "source": [
    "**Вопрос 6** . Conclude in accordance with results above how to choose $p$ and $q$ parameters for ARMA model by looking at ACF and PACF.\n",
    "\n",
    "<Ответ>\n",
    "\n",
    "PS: Если проверяющий не понял ответ на большинство вопросов, то будет пичалька. Пишите так, чтобы можно было разобраться. "
   ]
  },
  {
   "cell_type": "markdown",
   "metadata": {},
   "source": [
    "<h1 align=\"center\"> Practice</h1>\n",
    "\n",
    "<h2 align=\"center\">  1. Download data for following data sets (10%)</h2>\n",
    "* 1) <span style=\"color:blue; font-family:'New Times Roman'; font-size:14pt\">TS_dep36.csv</span> (105 TS of goods sales in the shop #36 of one real Retail Net, each TS correspond to an item in this shop )\n",
    "* 2) <span style=\"color:blue; font-family:'New Times Roman'; font-size:14pt\">TS_dep42.csv</span> (105 TS of goods sales in shop #42 of one real Retail Net, each TS correspond to an item in this shop)\n",
    "* 3) <span style=\"color:blue; font-family:'New Times Roman'; font-size:14pt\">TS_dep6.csv </span>(110 TS of goods sales in shop #6 of one real Retail Net, each TS correspond to an item in this shop)\n",
    "\n",
    "All data you can find by <a href='https://1drv.ms/f/s!AqGgzb5T4tvShb8iJuzFHOeXR11wOg'>link</a> \n",
    "\n",
    "* For each data set: \n",
    "      - 1) learn it's structure in csv-file and read it into Pandas data frame (be careful with parsing data)\n",
    "      - 2) plot each time series\n",
    "      - 3) answer the questions: is there seasonlaity, trend, changes in level in TS? If there is seasonality then define period of seasonality. "
   ]
  },
  {
   "cell_type": "code",
   "execution_count": null,
   "metadata": {
    "collapsed": true
   },
   "outputs": [],
   "source": [
    "# Put your code here"
   ]
  },
  {
   "cell_type": "markdown",
   "metadata": {},
   "source": [
    "<h2 align=\"center\">2. ARIMA Model real TS (70%) </h2>\n",
    "You need to analyse a TS and build forecast with ARIMA model for it. \n",
    "Each student has its own TS: you can find id of yout TS that you need to forecast <a href=\"https://drive.google.com/open?id=1y5xgpgErIiJFYmXWB-eFYmQ6OUMocqP-VGpTIXLuzCw\">here</a>. "
   ]
  },
  {
   "cell_type": "markdown",
   "metadata": {},
   "source": [
    "**I. Build ARIMA forecast yourself ** \n",
    "\n",
    "Also you can follow the next scheme:\n",
    "\n",
    " * 0) read data for TS under consideration and use the first 80% of all length of the TS as train TS.  \n",
    " * 1) plot the graph of the train TS, preprocess data (delete tail, make calendar transformation if needed)\n",
    " * 2) stabilize dispersion of the train TS through box-cox transformation if needed.\n",
    " * 3) if the transformed train TS is non-stationary make it stationary (remember the power of differencing $d$).\n",
    " * 4) plot ACF/PACF for  the transformed train TS in order to understand whether $AR(p)/MA(q)$ may be used.\n",
    " * 5) select set of candidate parameters for ARMA (for the train TS)\n",
    " * 6) train candidate ARIMA models (use $d$ from step 3), $p$, $q$ from step 5)), compare their AIC, choose the best model.\n",
    " * 7) check test for unbiasedness, stationarity and non-autocorrelation of the residuals of the best ARIMA model; if the tests fail you need to review your choice.\n",
    " * 8) build forecast for the initial TS (you need to transform it like in step 2)\n",
    " * 9) build forecast interval for the last 20% of the transformed initial TS. Calculate loss MACAPE of your forecast. Does the forecast look appropriate?"
   ]
  },
  {
   "cell_type": "code",
   "execution_count": null,
   "metadata": {
    "collapsed": true
   },
   "outputs": [],
   "source": [
    "# Put your code here"
   ]
  },
  {
   "cell_type": "markdown",
   "metadata": {},
   "source": [
    "**II. Find the best parameters of ARIMA automaticaly** \n",
    "* 0) read data for TS under consideration and use the first 80% of all length of the TS as train TS.  \n",
    "* 1) plot the graph of the train TS, preprocess data (delete tail, make calendar transformation if needed)\n",
    "* 2) stabilize dispersion of train TS through box-cox transformation if needed.\n",
    "* 3) Run grid search for ARIMA parameters (use transformed train TS) according to AIC. Use at least 10 distinct values for $p,q,d$. How many time does it take?\n",
    "* 4) Build forecast for the initial TS with best ARIMA model selected automaticaly at step 2 (you need to transform it like in step 2).\n",
    "* 5) Build forecast interval for the last 20% of transformed TS. Calculate loss MACAPE of your forecast. Does the forecast look appropriate?"
   ]
  },
  {
   "cell_type": "code",
   "execution_count": 1,
   "metadata": {
    "collapsed": true
   },
   "outputs": [],
   "source": [
    "# Put your code here"
   ]
  }
 ],
 "metadata": {
  "anaconda-cloud": {},
  "kernelspec": {
   "display_name": "Python 3",
   "language": "python",
   "name": "python3"
  },
  "language_info": {
   "codemirror_mode": {
    "name": "ipython",
    "version": 3
   },
   "file_extension": ".py",
   "mimetype": "text/x-python",
   "name": "python",
   "nbconvert_exporter": "python",
   "pygments_lexer": "ipython3",
   "version": "3.6.1"
  }
 },
 "nbformat": 4,
 "nbformat_minor": 1
}
