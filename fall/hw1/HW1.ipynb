{
 "cells": [
  {
   "cell_type": "markdown",
   "metadata": {},
   "source": [
    "<span style=\"font-size: 14pt\">MIPT, Advanced ML, Autumn 2017</span>\n",
    "\n",
    "<span style=\"font-size: 16pt\"> HW#1 </span>\n",
    "\n",
    "<span style=\"color:blue; font-size: 12pt\">Alexey Romanenko </span>,\n",
    "<span style=\"color:blue; font-size: 12pt; font-family: 'Verdana'\">alexromsput@gmail.com</span>"
   ]
  },
  {
   "cell_type": "markdown",
   "metadata": {},
   "source": [
    "<h1 align=\"center\">Organization Info</h1> "
   ]
  },
  {
   "cell_type": "markdown",
   "metadata": {},
   "source": [
    "**Дополнительный материал для выполнения дз**:\n",
    "- Лукишн Ю.П. Адаптивные методы краткосрочного прогнозирования временных рядов. Финансы и статистика. 2003, главы 1,4,5,7.\n",
    "- Магнус Я.Р., Катышев П.К., Пересецкий А.А. Эконометрика. Начальный курс., глава 11\n",
    "\n",
    "**Оформление дз**: \n",
    "- Присылайте выполненное задание на почту ``ml.course.mipt@gmail.com``\n",
    "- Укажите тему письма в следующем формате ``ML2017_Aut_fall <номер_группы> <фамилия>``, к примеру -- ``ML2017_Aut_fall 401 ivanov``\n",
    "- Выполненное дз сохраните в файл ``<фамилия>_<группа>_task<номер>.ipnb``, к примеру -- ``ivanov_401_task1.ipnb``\n",
    "\n",
    "**Вопросы**:\n",
    "- Присылайте вопросы на почту ``ml.course.mipt@gmail.com``\n",
    "- Укажите тему письма в следующем формате ``ML2017_Aut_fall Question <Содержание вопроса>``\n",
    "\n",
    "--------\n",
    "- **PS1**: Мы используем автоматические фильтры, и просто не найдем ваше дз, если вы не аккуратно его подпишите.\n",
    "- **PS2**: Напоминаем, что дедлайны жесткие, письма пришедшие после автоматически удаляются =( чтобы соблазна не было "
   ]
  },
  {
   "cell_type": "markdown",
   "metadata": {},
   "source": [
    "<h1 align=\"center\">Check Questions (15%)</h1> "
   ]
  },
  {
   "cell_type": "markdown",
   "metadata": {},
   "source": [
    "Ответе на вопросы своими словами (загугленный материал надо пересказать), ответ обоснуйте (напишите и ОБЪЯСНИТЕ формулки если потребуется), если не выходит, то вернитесь к лекции дополнительным материалам:\n",
    "\n",
    "**Вопрос 1**: Опишите, как изменяется адаптивная способность алгоритма ЭСС при изменении параметра $\\alpha$ от 0 до 1.\n",
    "\n",
    "<Ответ>\n",
    "\n",
    "**Вопрос 2**: Каким следует выбрать параметр сглаживания тренда $\\alpha_2$ в модели Хольта (линейный тренд) в случае, когда вы предсказываете временной ряд 1) с плавно меняющимя трендом; 2) стохастически меняющися трендом?\n",
    "\n",
    "<Ответ>\n",
    "\n",
    "**Вопрос 3**: Докажите  эквивалетность формул расчёта (в рекуррентной форме и в форме корректировки прогноза (correction error form) )скрытых компонент временного ряда в модели Тейла-Вейджа (период сезонность обозначается $p$):\n",
    "$$l_t = \\alpha (y_t - s_{t-p}) + (1-\\alpha) (l_{t-1} + b_{t-1} ) \\color{red}{=} l_{t-1} + b_{t-1} + \\alpha e_t;$$,\n",
    "    $$ b_t = \\beta (l_{t} - l_{t-1} ) + (1-\\beta) b_{t-1} \\color{red}{=} b_{t-1} + \\alpha\\beta e_t;$$,\n",
    "    $$ s_t = \\gamma (y_t-l_t) + (1-\\gamma) s_{t-p} \\color{red}{=} s_{t-p} + \\gamma(1-\\alpha)e_t.$$,\n",
    "\n",
    "<Ответ>\n",
    "\n",
    "**Вопрос 4**: Выведите формулу расчёта скрытых компонент в форме корректировки прогноза (correction error form) временного ряда в модели ЭС с линейным затухающим трендом (WS with additive damped trend):\n",
    "\n",
    "$$\\hat{y}_{t+d|t} = l_t + \\left(\\phi + \\phi^2 + \\dots + \\phi^{d}\\right) b_t.$$,\n",
    "   \n",
    "Скрытые компоненты ВР согласно модели в рекуррентной форме записываются:\n",
    "    $$ l_{t}       = \\alpha y_t + \\left(1-\\alpha\\right) \\left(l_{t-1} +\\phi b_{t-1}\\right),$$,\n",
    "    $$ b_t         = \\beta \\left(l_t - l_{t-1}\\right) + \\left(1-\\beta\\right)\\phi b_{t-1}.$$\n",
    "\n",
    "\n",
    "<Ответ>\n",
    "\n",
    "-----------\n",
    "PS: Если проверяющий не понял ответ на большинство вопросов, то будет пичалька. Пишите так, чтобы можно было разобраться. "
   ]
  },
  {
   "cell_type": "markdown",
   "metadata": {},
   "source": [
    "<h1 align=\"center\"> Practice</h1>\n",
    "#  1. reading data (5%)\n",
    "\n",
    "  * Download data for following data sets\n",
    "     - 1) <span style=\"color:blue; font-family:'New Times Roman'; font-size:14pt\">monthly-wage.csv </span>(1 TS of monthly wage in Russia)"
   ]
  },
  {
   "cell_type": "code",
   "execution_count": null,
   "metadata": {
    "collapsed": true
   },
   "outputs": [],
   "source": [
    "# start with this code\n",
    "import pandas as pd\n",
    "import numpy as np\n",
    "from utils import InitExponentialSmoothing, BuildForecast, plotTSForecast\n",
    "from utils import qualityRMSE, qualityMedianAE, qualityMACAPE, qualitySSE, qualityMSE, qualityMAPE \n",
    "\n",
    "%matplotlib inline\n",
    "\n",
    "\n",
    "wage = pd.read_csv('???/mothly_wage.csv', sep=???, decimal=???, index_col=???, parse_dates=True, dayfirst=True)\n",
    "\n",
    "# Put your code below\n",
    "wage.plot(figsize=(15,5))"
   ]
  },
  {
   "cell_type": "markdown",
   "metadata": {},
   "source": [
    "# 2. Build the Forecast with  IES (5%)\n",
    "\n",
    "You need to apply IES model (see seminar 1) for the TS <span style=\"color:blue; font-family:'New Times Roman'; font-size:14pt\">monthly-wage.csv</span>.\n",
    "\n",
    "Forecast delay $h=1$ for all point in this task.\n",
    "\n",
    "\n",
    "* 0) Forecast Wage TS with SES $\\alpha=.1$.\n",
    "* 1) Find the best param $\\alpha$ of SES for data period from 09.1998 to 01.2015. Is the optimal value close to 0 or 1? (You \n",
    "can choose any loss function above).\n",
    "* 2) Draw the forecast that correspond to IES with optimial value $\\alpha$ (use time steps from 09.1998 to 01.2017.)\n",
    "     Conclude whether IES can be used for this TS? If can not than explain why.\n",
    "* 3) Calculate loss of the forecast of TS in [02.2015, 01.2017]. (You can choose any Loss function from seminar 1)."
   ]
  },
  {
   "cell_type": "markdown",
   "metadata": {},
   "source": [
    "## 1) Search for the optimal $\\alpha$ "
   ]
  },
  {
   "cell_type": "code",
   "execution_count": null,
   "metadata": {},
   "outputs": [],
   "source": [
    "ALPHA = ???\n",
    "ESParamsArray = [{'alpha':alpha, 'AdaptationPeriod':???} for alpha in ALPHA]\n",
    "FRC_WAGE = BuildForecast(h=1, ts=???, AlgName =  ???, AlgTitle=???,ParamsArray = ESParamsArray)"
   ]
  },
  {
   "cell_type": "code",
   "execution_count": null,
   "metadata": {},
   "outputs": [],
   "source": [
    "# compare ES parameters\n",
    "QualityStr = pd.DataFrame(index = wage.columns, columns = FRC_WAGE.keys())\n",
    "\n",
    "ix = wage.loc[???].index\n",
    "for param_cntr in sorted(QualityStr.columns):\n",
    "    frc_wage = FRC_WAGE[param_cntr]\n",
    "    QualityStr[param_cntr],_ = quality???(wage.loc[ix], frc_wage.loc[ix])\n",
    "\n",
    "QualityStr[QualityStr.columns].mean().sort_values()"
   ]
  },
  {
   "cell_type": "markdown",
   "metadata": {},
   "source": [
    "## 2) draw the forecast with optimial value $\\alpha $"
   ]
  },
  {
   "cell_type": "code",
   "execution_count": null,
   "metadata": {},
   "outputs": [],
   "source": [
    "algName = QualityStr[QualityStr.columns].mean().sort_values().index[0]\n",
    "plotTSForecast(wage.loc[???], FRC_WAGE[algName].loc[???]\n",
    "               , ts_num=???, alg_title=???)"
   ]
  },
  {
   "cell_type": "markdown",
   "metadata": {},
   "source": [
    "** Question**\n",
    "    * Does SES follow to the TS components?"
   ]
  },
  {
   "cell_type": "markdown",
   "metadata": {},
   "source": [
    "## 3) Calculate loss of the forecast of TS in [02.2015, 01.2017]"
   ]
  },
  {
   "cell_type": "code",
   "execution_count": null,
   "metadata": {},
   "outputs": [],
   "source": [
    "quality???(wage.loc[???], FRC_WAGE[algName].loc[???])[0]"
   ]
  },
  {
   "cell_type": "markdown",
   "metadata": {},
   "source": [
    "# 3. Winters model for Additive Seasonality (25%)\n",
    "You need to realize ES model for TS with additive seasonality and then use it for forecasting real TS <span style=\"color:blue; font-family:'New Times Roman'; font-size:14pt\">monthly-wage.csv</span>.\n",
    "\n",
    "Forecast delay $h=1$ for all point in this task.\n",
    "\n",
    "* 1) Realize Winters model for Seasonal TS\n",
    "* 2) Find optimal params $\\alpha$ (smoothing of level) and $\\gamma$ (smoothing of seasonality) (use data from 09.1998 to 01.2015).(Loss function should be the same as in task 2.)\n",
    "* 3) Draw the forecast that correspond optimal values $\\alpha$ and $\\gamma$ (data from 09.1998 to 01.2017). \n",
    "* 4) Calculate accuracy of the forecast of TS in [02.2015, 01.2017] (Loss function should be the same as in task 2.). Compare it with accuracy of IES: is it better? \n",
    "* 5) Conclude whether Winter's ES can be used for this TS?"
   ]
  },
  {
   "cell_type": "code",
   "execution_count": null,
   "metadata": {
    "collapsed": true
   },
   "outputs": [],
   "source": [
    "# Start with this code\n",
    "###################### Winters Exponential Smoothing #########################\n",
    "# x <array Tx1>- time series, \n",
    "# h <scalar> - forecasting delay\n",
    "# Params <dict> - dictionary with \n",
    "#    alpha <scalar in [0,1]> - smoothing parameter\n",
    "#    delts <scalar in [0,1]> - seasonality smoothing parameter\n",
    "\n",
    "def WintersExponentialSmoothing(x, h, Params):\n",
    "    T = len(x)\n",
    "    alpha = Params['alpha']\n",
    "    delta = Params['delta']\n",
    "    p = Params['seasonality_period']\n",
    "    \n",
    "    FORECAST = ## put foreast of the model here\n",
    "    \n",
    "    l= # initialize ts level \n",
    "    s= # initalize seasonality values (it must be vector of lenth p)\n",
    "    \n",
    "    for cntr in range(T):\n",
    "        if not math.isnan(x[cntr]):\n",
    "            if math.isnan(l):\n",
    "                l= # initialize \n",
    " \n",
    "            if math.isnan(s[cntr % p]):\n",
    "                s[cntr % p]= # initialize \n",
    " \n",
    "            l = # recurrent smoothing of level \n",
    "            s[cntr % p] = # recurrent smoothing of seasonality\n",
    "            \n",
    "        FORECAST[cntr+h] = a + b[cntr+h % s]\n",
    "    return FORECAST"
   ]
  },
  {
   "cell_type": "code",
   "execution_count": null,
   "metadata": {
    "collapsed": true
   },
   "outputs": [],
   "source": [
    "# Put your code here\n"
   ]
  },
  {
   "cell_type": "markdown",
   "metadata": {},
   "source": [
    "# 4. Theil-Wage model for TS with linear trend and seasonality (25%)\n",
    "You need to realize Theil-Wage model and then use it for forecasting real TS <span style=\"color:blue; font-family:'New Times Roman'; font-size:14pt\">monthly-wage.csv</span>.\n",
    "\n",
    "Forecast delay $h=1$ for all point in this task.\n",
    "\n",
    "* 1) Realize Theil-Wage model for\n",
    "* 2) Find optimal params $\\alpha$ (smoothing of level), $\\beta$ (smoothing trend) and $\\gamma$ (smoothing of seasonality) (use data from 09.1998 to 01.2015).(Loss function should be the same as in task 2.)\n",
    "* 3) Draw forecast with optimal values $\\alpha$, $\\beta$ and $\\gamma$ from 09.1998 to 01.2017. \n",
    "* 4) Calculate accuracy of the forecast of TS in [02.2015, 01.2017] (Loss function should be the same as in task 2.). Compare it with accuracy of Winters model: is it better than the last one? \n",
    "* \\*5) Suggest how can the Theil-Wage model be improved to make accuracy of forecast better?"
   ]
  },
  {
   "cell_type": "code",
   "execution_count": 3,
   "metadata": {
    "collapsed": true
   },
   "outputs": [],
   "source": [
    "# Put your code here"
   ]
  },
  {
   "cell_type": "markdown",
   "metadata": {},
   "source": [
    "# 5. Non-additive model of ES (25%)\n",
    "You need to realize some ES-model that include non-addive component (or multiplicative trend or multiplicative component) and then use it for forecasting real TS <span style=\"color:blue; font-family:'New Times Roman'; font-size:14pt\">monthly-wage.csv</span>.\n",
    "\n",
    "Forecast delay $h=1$ for all point in this task.\n",
    "\n",
    "* 1) Realize one of following ES models: ESM(A,M) (t.e. Holt-Winters model), ESM(Ad,M), ESM(M,A), ESM(M,M) model.\n",
    "* 2) Find optimal params of the model (use data from 09.1998 to 01.2015). Note: if you choose damped trend model that $\\phi$ you can just set it by expert opinion (say $0.98$). (Loss function should be the same as in task 2.)\n",
    "* 3) Draw forecast with optimal values of it's params (data from 09.1998 to 01.2017). \n",
    "* 4) Calculate accuracy of the forecast of TS in [02.2015, 01.2017] (Loss function should be the same as in task 2.). Compare it with accuracy of Winters model and Theil-Wage model: is it better than the last one? \n",
    "* 5) Is it true that multiplicative model are more unstable than additive? Unstable means thet forecast is can diveret"
   ]
  },
  {
   "cell_type": "code",
   "execution_count": null,
   "metadata": {
    "collapsed": true
   },
   "outputs": [],
   "source": [
    "# Put your code here"
   ]
  }
 ],
 "metadata": {
  "anaconda-cloud": {},
  "kernelspec": {
   "display_name": "Python 3",
   "language": "python",
   "name": "python3"
  },
  "language_info": {
   "codemirror_mode": {
    "name": "ipython",
    "version": 3
   },
   "file_extension": ".py",
   "mimetype": "text/x-python",
   "name": "python",
   "nbconvert_exporter": "python",
   "pygments_lexer": "ipython3",
   "version": "3.6.1"
  }
 },
 "nbformat": 4,
 "nbformat_minor": 1
}
