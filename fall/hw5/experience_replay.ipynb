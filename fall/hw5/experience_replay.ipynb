{
 "cells": [
  {
   "cell_type": "markdown",
   "metadata": {},
   "source": [
    "# Simple q-learning agent with experience replay\n",
    "\n",
    "We re-write q-learning algorithm using _agentnet_ - a helper for lasagne that implements some RL techniques."
   ]
  },
  {
   "cell_type": "code",
   "execution_count": 63,
   "metadata": {},
   "outputs": [
    {
     "name": "stdout",
     "output_type": "stream",
     "text": [
      "env: THEANO_FLAGS='floatX=float32'\n"
     ]
    }
   ],
   "source": [
    "import matplotlib.pyplot as plt\n",
    "%matplotlib inline\n",
    "import numpy as np\n",
    "%env THEANO_FLAGS='floatX=float32'\n",
    "\n",
    "#XVFB will be launched if you run on a server\n",
    "import os\n",
    "if type(os.environ.get(\"DISPLAY\")) is not str or len(os.environ.get(\"DISPLAY\"))==0:\n",
    "    !bash ../xvfb start\n",
    "    %env DISPLAY=:1"
   ]
  },
  {
   "cell_type": "markdown",
   "metadata": {},
   "source": [
    "### Experiment setup\n",
    "* Here we simply load the game and check that it works"
   ]
  },
  {
   "cell_type": "code",
   "execution_count": 64,
   "metadata": {},
   "outputs": [
    {
     "name": "stderr",
     "output_type": "stream",
     "text": [
      "[2017-11-05 01:32:56,748] Making new env: LunarLander-v2\n"
     ]
    }
   ],
   "source": [
    "import gym\n",
    "make_env = lambda: gym.make(\"LunarLander-v2\")\n",
    "\n",
    "env=make_env()\n",
    "env.reset()\n",
    "\n",
    "state_shape = env.observation_space.shape\n",
    "n_actions = env.action_space.n"
   ]
  },
  {
   "cell_type": "markdown",
   "metadata": {},
   "source": [
    "# Neural Network body"
   ]
  },
  {
   "cell_type": "code",
   "execution_count": 65,
   "metadata": {},
   "outputs": [],
   "source": [
    "import lasagne\n",
    "from lasagne.layers import *\n",
    "from lasagne.nonlinearities import elu\n",
    "\n",
    "\n",
    "#image observation at current tick goes here, shape = (sample_i,x,y,color)\n",
    "observation_layer = InputLayer((None,)+state_shape)\n",
    "\n",
    "\n",
    "nn = DenseLayer(observation_layer, 200, nonlinearity=elu)\n",
    "nn = DenseLayer(nn, 200, nonlinearity=elu)\n",
    "\n",
    "#a layer that predicts Qvalues\n",
    "qvalues_layer = DenseLayer(nn,num_units=n_actions,\n",
    "                           nonlinearity=None,name=\"q-values\")"
   ]
  },
  {
   "cell_type": "markdown",
   "metadata": {},
   "source": [
    "Picking actions is done by yet another layer, that implements $ \\epsilon$ -greedy policy"
   ]
  },
  {
   "cell_type": "code",
   "execution_count": 66,
   "metadata": {
    "collapsed": true
   },
   "outputs": [],
   "source": [
    "from agentnet.resolver import EpsilonGreedyResolver\n",
    "action_layer = EpsilonGreedyResolver(qvalues_layer)\n",
    "\n",
    "#set starting epsilon\n",
    "action_layer.epsilon.set_value(np.float32(0.05))\n"
   ]
  },
  {
   "cell_type": "markdown",
   "metadata": {},
   "source": [
    "### Agent\n",
    "\n",
    "We define an agent entirely composed of a lasagne network:\n",
    "* Observations as InputLayer(s)\n",
    "* Actions as intermediate Layer(s)\n",
    "* `policy_estimators` is \"whatever else you want to keep track of\"\n",
    "\n",
    "Each parameter can be either one layer or a list of layers"
   ]
  },
  {
   "cell_type": "code",
   "execution_count": 67,
   "metadata": {
    "collapsed": true
   },
   "outputs": [],
   "source": [
    "from agentnet.agent import Agent\n",
    "agent = Agent(observation_layers=observation_layer,\n",
    "              action_layers=action_layer,\n",
    "              policy_estimators=qvalues_layer,)"
   ]
  },
  {
   "cell_type": "code",
   "execution_count": 68,
   "metadata": {},
   "outputs": [
    {
     "data": {
      "text/plain": [
       "[W, b, W, b, q-values.W, q-values.b]"
      ]
     },
     "execution_count": 68,
     "metadata": {},
     "output_type": "execute_result"
    }
   ],
   "source": [
    "#Since it's a single lasagne network, one can get it's weights, output, etc\n",
    "weights = lasagne.layers.get_all_params(action_layer,trainable=True)\n",
    "weights"
   ]
  },
  {
   "cell_type": "markdown",
   "metadata": {},
   "source": [
    "# Create and manage a pool of atari sessions to play with\n",
    "\n",
    "* To make training more stable, we shall have an entire batch of game sessions each happening independent of others\n",
    "* Why several parallel agents help training: http://arxiv.org/pdf/1602.01783v1.pdf\n",
    "* Alternative approach: store more sessions: https://www.cs.toronto.edu/~vmnih/docs/dqn.pdf"
   ]
  },
  {
   "cell_type": "code",
   "execution_count": 69,
   "metadata": {},
   "outputs": [
    {
     "name": "stderr",
     "output_type": "stream",
     "text": [
      "[2017-11-05 01:32:58,913] Making new env: LunarLander-v2\n"
     ]
    }
   ],
   "source": [
    "from agentnet.experiments.openai_gym.pool import EnvPool\n",
    "pool = EnvPool(agent,make_env,n_games=1,max_size=10000)"
   ]
  },
  {
   "cell_type": "code",
   "execution_count": 70,
   "metadata": {},
   "outputs": [
    {
     "name": "stdout",
     "output_type": "stream",
     "text": [
      "actions: [[3 3 3 3 3]]\n",
      "rewards: [[-1.11105027 -1.05721358 -1.73667379 -1.969974    0.        ]]\n",
      "CPU times: user 4.25 ms, sys: 2.7 ms, total: 6.96 ms\n",
      "Wall time: 5.45 ms\n"
     ]
    }
   ],
   "source": [
    "%%time\n",
    "#interact for 7 ticks\n",
    "obs_log,action_log,reward_log,_,_,_  = pool.interact(5)\n",
    "\n",
    "\n",
    "print('actions:',action_log)\n",
    "print('rewards:',reward_log)"
   ]
  },
  {
   "cell_type": "code",
   "execution_count": 71,
   "metadata": {
    "collapsed": true
   },
   "outputs": [],
   "source": [
    "#we'll train on rollouts of 10 steps (required by n-step algorithms and rnns later)\n",
    "SEQ_LENGTH=10\n",
    "\n",
    "#load first sessions (this function calls interact and stores sessions in the pool)\n",
    "\n",
    "for _ in range(100):\n",
    "    pool.update(SEQ_LENGTH)"
   ]
  },
  {
   "cell_type": "markdown",
   "metadata": {},
   "source": [
    "# q-learning\n",
    "\n",
    "We shall now define a function that replays recent game sessions and updates network weights"
   ]
  },
  {
   "cell_type": "code",
   "execution_count": 72,
   "metadata": {
    "collapsed": true
   },
   "outputs": [],
   "source": [
    "#get agent's Qvalues obtained via experience replay\n",
    "replay = pool.experience_replay.sample_session_batch(100)\n",
    "qvalues_seq = agent.get_sessions(\n",
    "    replay,\n",
    "    session_length=SEQ_LENGTH,\n",
    "    experience_replay=True,\n",
    ")[-1]\n",
    "\n"
   ]
  },
  {
   "cell_type": "code",
   "execution_count": 73,
   "metadata": {
    "collapsed": true
   },
   "outputs": [],
   "source": [
    "#loss for Qlearning = (Q(s,a) - (r+gamma*Q(s',a_max)))^2, like you implemented before in lasagne.\n",
    "\n",
    "from agentnet.learning import qlearning\n",
    "elwise_mse_loss = qlearning.get_elementwise_objective(qvalues_seq,\n",
    "                                                      replay.actions[0],\n",
    "                                                      replay.rewards,\n",
    "                                                      replay.is_alive,\n",
    "                                                      gamma_or_gammas=0.99,\n",
    "                                                      n_steps=1,)\n",
    "\n",
    "#compute mean loss over \"alive\" fragments\n",
    "loss = elwise_mse_loss.sum() / replay.is_alive.sum()"
   ]
  },
  {
   "cell_type": "code",
   "execution_count": 74,
   "metadata": {
    "collapsed": true
   },
   "outputs": [],
   "source": [
    "#get weight updates\n",
    "updates = lasagne.updates.adam(loss,weights,learning_rate=1e-4)\n",
    "\n",
    "#compile train function\n",
    "import theano\n",
    "train_step = theano.function([],loss,updates=updates)"
   ]
  },
  {
   "cell_type": "markdown",
   "metadata": {},
   "source": [
    "# Demo run\n",
    "\n",
    "Play full session with an untrained agent"
   ]
  },
  {
   "cell_type": "code",
   "execution_count": 75,
   "metadata": {},
   "outputs": [
    {
     "name": "stderr",
     "output_type": "stream",
     "text": [
      "[2017-11-05 01:33:05,235] Making new env: LunarLander-v2\n",
      "[2017-11-05 01:33:05,248] Clearing 8 monitor files from previous run (because force=True was provided)\n",
      "[2017-11-05 01:33:05,255] Starting new video recorder writing to /Users/AntonKarazeev/WD/mipt_hw/records/openaigym.video.5.59897.video000000.mp4\n",
      "[2017-11-05 01:33:07,614] Finished writing results. You can upload them to the scoreboard via gym.upload('/Users/AntonKarazeev/WD/mipt_hw/records')\n"
     ]
    },
    {
     "name": "stdout",
     "output_type": "stream",
     "text": [
      "Episode finished after 58 timesteps with reward=-555.8726577113229\n"
     ]
    }
   ],
   "source": [
    "#for MountainCar-v0 evaluation session is cropped to 200 ticks\n",
    "untrained_reward = pool.evaluate(save_path=\"./records\",record_video=True)"
   ]
  },
  {
   "cell_type": "code",
   "execution_count": 22,
   "metadata": {},
   "outputs": [
    {
     "data": {
      "text/html": [
       "\n",
       "<video width=\"640\" height=\"480\" controls>\n",
       "  <source src=\"./records/openaigym.video.0.59897.video000000.mp4\" type=\"video/mp4\">\n",
       "</video>\n"
      ],
      "text/plain": [
       "<IPython.core.display.HTML object>"
      ]
     },
     "execution_count": 22,
     "metadata": {},
     "output_type": "execute_result"
    }
   ],
   "source": [
    "#show video\n",
    "from IPython.display import HTML\n",
    "import os\n",
    "\n",
    "video_names = list(filter(lambda s:s.endswith(\".mp4\"),os.listdir(\"./records/\")))\n",
    "\n",
    "HTML(\"\"\"\n",
    "<video width=\"640\" height=\"480\" controls>\n",
    "  <source src=\"{}\" type=\"video/mp4\">\n",
    "</video>\n",
    "\"\"\".format(\"./records/\"+video_names[-1])) #this may or may not be _last_ video. Try other indices"
   ]
  },
  {
   "cell_type": "markdown",
   "metadata": {},
   "source": [
    "# Training loop"
   ]
  },
  {
   "cell_type": "code",
   "execution_count": 76,
   "metadata": {
    "collapsed": true
   },
   "outputs": [],
   "source": [
    "epoch_counter = 1 #starting epoch\n",
    "rewards = {} #full game rewards\n",
    "target_score = -90"
   ]
  },
  {
   "cell_type": "code",
   "execution_count": 77,
   "metadata": {
    "scrolled": false
   },
   "outputs": [
    {
     "name": "stderr",
     "output_type": "stream",
     "text": [
      " 10%|▉         | 99/1000 [00:05<00:45, 19.87it/s][2017-11-05 01:33:29,257] Making new env: LunarLander-v2\n",
      "[2017-11-05 01:33:29,268] Clearing 4 monitor files from previous run (because force=True was provided)\n",
      "[2017-11-05 01:33:29,528] Finished writing results. You can upload them to the scoreboard via gym.upload('/Users/AntonKarazeev/WD/mipt_hw/records')\n"
     ]
    },
    {
     "name": "stdout",
     "output_type": "stream",
     "text": [
      "Episode finished after 95 timesteps with reward=-159.82082361174167\n",
      "Episode finished after 115 timesteps with reward=-135.11981594927454\n",
      "Episode finished after 129 timesteps with reward=-246.05375694184414\n",
      "iter=100\tepsilon=0.910\n",
      "Current score(mean over 3) = -180.331\n"
     ]
    },
    {
     "name": "stderr",
     "output_type": "stream",
     "text": [
      " 20%|█▉        | 199/1000 [00:10<00:41, 19.12it/s][2017-11-05 01:33:34,986] Making new env: LunarLander-v2\n",
      "[2017-11-05 01:33:34,994] Clearing 2 monitor files from previous run (because force=True was provided)\n",
      "[2017-11-05 01:33:35,188] Finished writing results. You can upload them to the scoreboard via gym.upload('/Users/AntonKarazeev/WD/mipt_hw/records')\n",
      " 20%|██        | 201/1000 [00:11<01:07, 11.92it/s]"
     ]
    },
    {
     "name": "stdout",
     "output_type": "stream",
     "text": [
      "Episode finished after 73 timesteps with reward=-120.44162507428929\n",
      "Episode finished after 126 timesteps with reward=-172.32343639317583\n",
      "Episode finished after 113 timesteps with reward=-630.2822908291743\n",
      "iter=200\tepsilon=0.828\n",
      "Current score(mean over 3) = -307.682\n"
     ]
    },
    {
     "name": "stderr",
     "output_type": "stream",
     "text": [
      " 30%|██▉       | 298/1000 [00:16<00:39, 17.62it/s][2017-11-05 01:33:40,798] Making new env: LunarLander-v2\n",
      "[2017-11-05 01:33:40,807] Clearing 2 monitor files from previous run (because force=True was provided)\n",
      "[2017-11-05 01:33:41,108] Finished writing results. You can upload them to the scoreboard via gym.upload('/Users/AntonKarazeev/WD/mipt_hw/records')\n",
      " 30%|███       | 300/1000 [00:16<01:11,  9.75it/s]"
     ]
    },
    {
     "name": "stdout",
     "output_type": "stream",
     "text": [
      "Episode finished after 162 timesteps with reward=-348.0326640110933\n",
      "Episode finished after 189 timesteps with reward=-576.0171051623773\n",
      "Episode finished after 138 timesteps with reward=-242.0425588613409\n",
      "iter=300\tepsilon=0.754\n",
      "Current score(mean over 3) = -388.697\n"
     ]
    },
    {
     "name": "stderr",
     "output_type": "stream",
     "text": [
      " 40%|███▉      | 398/1000 [00:23<00:33, 17.80it/s][2017-11-05 01:33:47,616] Making new env: LunarLander-v2\n",
      "[2017-11-05 01:33:47,624] Clearing 2 monitor files from previous run (because force=True was provided)\n"
     ]
    },
    {
     "name": "stdout",
     "output_type": "stream",
     "text": [
      "Episode finished after 73 timesteps with reward=-169.3562672570085\n",
      "Episode finished after 245 timesteps with reward=-250.89500582145067\n"
     ]
    },
    {
     "name": "stderr",
     "output_type": "stream",
     "text": [
      "[2017-11-05 01:33:47,904] Finished writing results. You can upload them to the scoreboard via gym.upload('/Users/AntonKarazeev/WD/mipt_hw/records')\n",
      " 40%|████      | 402/1000 [00:23<00:54, 10.93it/s]"
     ]
    },
    {
     "name": "stdout",
     "output_type": "stream",
     "text": [
      "Episode finished after 83 timesteps with reward=-214.02276580233104\n",
      "iter=400\tepsilon=0.687\n",
      "Current score(mean over 3) = -211.425\n"
     ]
    },
    {
     "name": "stderr",
     "output_type": "stream",
     "text": [
      " 50%|████▉     | 498/1000 [00:29<00:28, 17.63it/s][2017-11-05 01:33:54,191] Making new env: LunarLander-v2\n",
      "[2017-11-05 01:33:54,201] Clearing 2 monitor files from previous run (because force=True was provided)\n"
     ]
    },
    {
     "name": "stdout",
     "output_type": "stream",
     "text": [
      "Episode finished after 186 timesteps with reward=-226.47349365145485\n",
      "Episode finished after 113 timesteps with reward=-75.23985197717037\n"
     ]
    },
    {
     "name": "stderr",
     "output_type": "stream",
     "text": [
      "[2017-11-05 01:33:54,619] Finished writing results. You can upload them to the scoreboard via gym.upload('/Users/AntonKarazeev/WD/mipt_hw/records')\n",
      " 50%|█████     | 502/1000 [00:30<00:53,  9.32it/s]"
     ]
    },
    {
     "name": "stdout",
     "output_type": "stream",
     "text": [
      "Episode finished after 220 timesteps with reward=-639.0739211760753\n",
      "iter=500\tepsilon=0.626\n",
      "Current score(mean over 3) = -313.596\n"
     ]
    },
    {
     "name": "stderr",
     "output_type": "stream",
     "text": [
      " 60%|█████▉    | 598/1000 [00:38<00:33, 11.85it/s][2017-11-05 01:34:02,753] Making new env: LunarLander-v2\n",
      "[2017-11-05 01:34:02,762] Clearing 2 monitor files from previous run (because force=True was provided)\n",
      "[2017-11-05 01:34:03,009] Finished writing results. You can upload them to the scoreboard via gym.upload('/Users/AntonKarazeev/WD/mipt_hw/records')\n",
      " 60%|██████    | 600/1000 [00:38<00:47,  8.35it/s]"
     ]
    },
    {
     "name": "stdout",
     "output_type": "stream",
     "text": [
      "Episode finished after 135 timesteps with reward=-319.2866226714124\n",
      "Episode finished after 90 timesteps with reward=-217.07755441998074\n",
      "Episode finished after 143 timesteps with reward=-86.32558865686943\n",
      "iter=600\tepsilon=0.571\n",
      "Current score(mean over 3) = -207.563\n"
     ]
    },
    {
     "name": "stderr",
     "output_type": "stream",
     "text": [
      " 70%|██████▉   | 698/1000 [00:45<00:19, 15.81it/s][2017-11-05 01:34:09,654] Making new env: LunarLander-v2\n",
      "[2017-11-05 01:34:09,664] Clearing 2 monitor files from previous run (because force=True was provided)\n",
      "[2017-11-05 01:34:09,914] Finished writing results. You can upload them to the scoreboard via gym.upload('/Users/AntonKarazeev/WD/mipt_hw/records')\n",
      " 70%|███████   | 700/1000 [00:45<00:30,  9.69it/s]"
     ]
    },
    {
     "name": "stdout",
     "output_type": "stream",
     "text": [
      "Episode finished after 140 timesteps with reward=-362.8532967799927\n",
      "Episode finished after 107 timesteps with reward=-535.471029392415\n",
      "Episode finished after 91 timesteps with reward=-278.6625033311692\n",
      "iter=700\tepsilon=0.522\n",
      "Current score(mean over 3) = -392.329\n"
     ]
    },
    {
     "name": "stderr",
     "output_type": "stream",
     "text": [
      " 80%|███████▉  | 798/1000 [00:53<00:13, 14.87it/s][2017-11-05 01:34:18,157] Making new env: LunarLander-v2\n",
      "[2017-11-05 01:34:18,166] Clearing 2 monitor files from previous run (because force=True was provided)\n",
      "[2017-11-05 01:34:18,471] Finished writing results. You can upload them to the scoreboard via gym.upload('/Users/AntonKarazeev/WD/mipt_hw/records')\n",
      " 80%|████████  | 800/1000 [00:54<00:22,  8.92it/s]"
     ]
    },
    {
     "name": "stdout",
     "output_type": "stream",
     "text": [
      "Episode finished after 181 timesteps with reward=-318.3122095449252\n",
      "Episode finished after 114 timesteps with reward=-392.7562891905704\n",
      "Episode finished after 188 timesteps with reward=-461.31541281408363\n",
      "iter=800\tepsilon=0.477\n",
      "Current score(mean over 3) = -390.795\n"
     ]
    },
    {
     "name": "stderr",
     "output_type": "stream",
     "text": [
      " 90%|████████▉ | 898/1000 [01:01<00:07, 14.22it/s][2017-11-05 01:34:25,562] Making new env: LunarLander-v2\n",
      "[2017-11-05 01:34:25,570] Clearing 2 monitor files from previous run (because force=True was provided)\n"
     ]
    },
    {
     "name": "stdout",
     "output_type": "stream",
     "text": [
      "Episode finished after 148 timesteps with reward=-654.4404645203474\n",
      "Episode finished after 218 timesteps with reward=-570.1305510938339\n"
     ]
    },
    {
     "name": "stderr",
     "output_type": "stream",
     "text": [
      "[2017-11-05 01:34:25,972] Finished writing results. You can upload them to the scoreboard via gym.upload('/Users/AntonKarazeev/WD/mipt_hw/records')\n",
      " 90%|█████████ | 902/1000 [01:01<00:10,  9.00it/s]"
     ]
    },
    {
     "name": "stdout",
     "output_type": "stream",
     "text": [
      "Episode finished after 214 timesteps with reward=-786.6663217608186\n",
      "iter=900\tepsilon=0.436\n",
      "Current score(mean over 3) = -670.412\n"
     ]
    },
    {
     "name": "stderr",
     "output_type": "stream",
     "text": [
      "100%|█████████▉| 998/1000 [01:08<00:00, 15.50it/s][2017-11-05 01:34:32,522] Making new env: LunarLander-v2\n",
      "[2017-11-05 01:34:32,531] Clearing 2 monitor files from previous run (because force=True was provided)\n"
     ]
    },
    {
     "name": "stdout",
     "output_type": "stream",
     "text": [
      "Episode finished after 138 timesteps with reward=-717.3487455395887\n",
      "Episode finished after 165 timesteps with reward=-464.9145792096632\n",
      "Episode finished after 149 timesteps with reward=-434.1266411733663\n"
     ]
    },
    {
     "name": "stderr",
     "output_type": "stream",
     "text": [
      "[2017-11-05 01:34:32,817] Finished writing results. You can upload them to the scoreboard via gym.upload('/Users/AntonKarazeev/WD/mipt_hw/records')\n",
      "100%|██████████| 1000/1000 [01:08<00:00,  9.27it/s]"
     ]
    },
    {
     "name": "stdout",
     "output_type": "stream",
     "text": [
      "iter=1000\tepsilon=0.399\n",
      "Current score(mean over 3) = -538.797\n"
     ]
    },
    {
     "name": "stderr",
     "output_type": "stream",
     "text": [
      "\n"
     ]
    }
   ],
   "source": [
    "from tqdm import trange\n",
    "\n",
    "for i in trange(1000):    \n",
    "    \n",
    "    #play\n",
    "    for _ in range(5):\n",
    "        pool.update(SEQ_LENGTH,append=True)\n",
    "    \n",
    "    #train\n",
    "    train_step()\n",
    "    \n",
    "    #update epsilon\n",
    "    epsilon = 0.05 + 0.95*np.exp(-epoch_counter/1000.)\n",
    "    action_layer.epsilon.set_value(np.float32(epsilon))\n",
    "    \n",
    "    #play a few games for evaluation\n",
    "    if epoch_counter%100==0:\n",
    "        rewards[epoch_counter] = np.mean(pool.evaluate(n_games=3,record_video=False))\n",
    "        print(\"iter=%i\\tepsilon=%.3f\"%(epoch_counter,action_layer.epsilon.get_value(),))\n",
    "        print(\"Current score(mean over %i) = %.3f\"%(3,np.mean(rewards[epoch_counter])))\n",
    "    \n",
    "        if rewards[epoch_counter] >= target_score:\n",
    "            print(\"You win!\")\n",
    "            break\n",
    "\n",
    "    \n",
    "    epoch_counter  +=1\n",
    "\n",
    "    \n",
    "# Time to drink some coffee!"
   ]
  },
  {
   "cell_type": "code",
   "execution_count": 78,
   "metadata": {
    "scrolled": true
   },
   "outputs": [
    {
     "name": "stderr",
     "output_type": "stream",
     "text": [
      "/usr/local/lib/python3.6/site-packages/ipykernel/__main__.py:3: FutureWarning: pd.ewm_mean is deprecated for ndarrays and will be removed in a future version\n",
      "  app.launch_new_instance()\n"
     ]
    },
    {
     "data": {
      "text/plain": [
       "[<matplotlib.lines.Line2D at 0x122aaa6a0>]"
      ]
     },
     "execution_count": 78,
     "metadata": {},
     "output_type": "execute_result"
    },
    {
     "data": {
      "image/png": "[encoded data removed]",
      "text/plain": [
       "<matplotlib.figure.Figure at 0x11826ee48>"
      ]
     },
     "metadata": {},
     "output_type": "display_data"
    }
   ],
   "source": [
    "from pandas import ewma\n",
    "iters,session_rewards=zip(*sorted(rewards.items(),key=lambda k:k[0]))\n",
    "plt.plot(iters,ewma(np.array(session_rewards),span=10))"
   ]
  },
  {
   "cell_type": "code",
   "execution_count": 79,
   "metadata": {},
   "outputs": [
    {
     "name": "stderr",
     "output_type": "stream",
     "text": [
      "[2017-11-05 01:35:43,815] Making new env: LunarLander-v2\n",
      "[2017-11-05 01:35:43,827] Clearing 2 monitor files from previous run (because force=True was provided)\n",
      "[2017-11-05 01:35:43,833] Starting new video recorder writing to /Users/AntonKarazeev/WD/mipt_hw/records/openaigym.video.16.59897.video000000.mp4\n",
      "[2017-11-05 01:35:45,724] Starting new video recorder writing to /Users/AntonKarazeev/WD/mipt_hw/records/openaigym.video.16.59897.video000001.mp4\n"
     ]
    },
    {
     "name": "stdout",
     "output_type": "stream",
     "text": [
      "Episode finished after 103 timesteps with reward=-234.36389963783375\n",
      "Episode finished after 191 timesteps with reward=-322.53746637275145\n",
      "Episode finished after 145 timesteps with reward=-532.5478237354165\n",
      "Episode finished after 164 timesteps with reward=-566.7982091312908\n",
      "Episode finished after 165 timesteps with reward=-283.1939207705934\n",
      "Episode finished after 102 timesteps with reward=-202.67568070597474\n"
     ]
    },
    {
     "name": "stderr",
     "output_type": "stream",
     "text": [
      "[2017-11-05 01:35:49,199] Starting new video recorder writing to /Users/AntonKarazeev/WD/mipt_hw/records/openaigym.video.16.59897.video000008.mp4\n"
     ]
    },
    {
     "name": "stdout",
     "output_type": "stream",
     "text": [
      "Episode finished after 170 timesteps with reward=-525.7999878323158\n",
      "Episode finished after 203 timesteps with reward=-803.2953567524714\n"
     ]
    },
    {
     "name": "stderr",
     "output_type": "stream",
     "text": [
      "[2017-11-05 01:35:53,128] Finished writing results. You can upload them to the scoreboard via gym.upload('/Users/AntonKarazeev/WD/mipt_hw/records')\n"
     ]
    },
    {
     "name": "stdout",
     "output_type": "stream",
     "text": [
      "Episode finished after 265 timesteps with reward=-417.67917171791083\n",
      "Episode finished after 150 timesteps with reward=-261.28202686357804\n",
      "average reward: [-234.36389963783375, -322.53746637275145, -532.5478237354165, -566.79820913129083, -283.19392077059342, -202.67568070597474, -525.79998783231576, -803.29535675247143, -417.67917171791083, -261.28202686357804]\n"
     ]
    }
   ],
   "source": [
    "final_reward = pool.evaluate(n_games=10,save_path=\"./records\",record_video=True)\n",
    "\n",
    "print(\"average reward:\",final_reward)\n",
    "\n",
    "video_names = list(filter(lambda s:s.endswith(\".mp4\"),os.listdir(\"./records/\")))\n",
    "\n",
    "for video_name in video_names:\n",
    "    HTML(\"\"\"\n",
    "    <video width=\"640\" height=\"480\" controls>\n",
    "      <source src=\"{}\" type=\"video/mp4\">\n",
    "    </video>\n",
    "    \"\"\".format(\"./records/\"+video_name)) #this may or may not be _last_ video. Try other indices"
   ]
  },
  {
   "cell_type": "code",
   "execution_count": null,
   "metadata": {
    "collapsed": true
   },
   "outputs": [],
   "source": []
  }
 ],
 "metadata": {
  "kernelspec": {
   "display_name": "Python 3",
   "language": "python",
   "name": "python3"
  },
  "language_info": {
   "codemirror_mode": {
    "name": "ipython",
    "version": 3
   },
   "file_extension": ".py",
   "mimetype": "text/x-python",
   "name": "python",
   "nbconvert_exporter": "python",
   "pygments_lexer": "ipython3",
   "version": "3.6.2"
  }
 },
 "nbformat": 4,
 "nbformat_minor": 1
}
