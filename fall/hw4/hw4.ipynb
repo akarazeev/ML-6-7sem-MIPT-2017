{
 "cells": [
  {
   "cell_type": "markdown",
   "metadata": {},
   "source": [
    "* Anton Karazeev, you can text me: [```anton.karazeev@gmail.com```](mailto:anton.karazeev@phystech.edu) or [t.me/akarazeev](https://t.me/akarazeev)"
   ]
  },
  {
   "cell_type": "markdown",
   "metadata": {},
   "source": [
    "Решение в последней ячейке"
   ]
  },
  {
   "cell_type": "markdown",
   "metadata": {},
   "source": [
    "_"
   ]
  },
  {
   "cell_type": "code",
   "execution_count": 163,
   "metadata": {
    "collapsed": true
   },
   "outputs": [],
   "source": [
    "import pandas as pd\n",
    "import numpy as np\n",
    "import matplotlib.pyplot as plt\n",
    "%matplotlib inline"
   ]
  },
  {
   "cell_type": "code",
   "execution_count": 164,
   "metadata": {},
   "outputs": [
    {
     "name": "stderr",
     "output_type": "stream",
     "text": [
      "[2017-10-22 15:48:38,909] Making new env: Taxi-v2\n"
     ]
    }
   ],
   "source": [
    "import gym\n",
    "\n",
    "env = gym.make(\"Taxi-v2\")\n",
    "env.reset();"
   ]
  },
  {
   "cell_type": "code",
   "execution_count": 165,
   "metadata": {},
   "outputs": [
    {
     "name": "stdout",
     "output_type": "stream",
     "text": [
      "+---------+\n",
      "|\u001b[35mR\u001b[0m: | : :G|\n",
      "| : : : : |\n",
      "| : : : : |\n",
      "| | : | : |\n",
      "|\u001b[34;1mY\u001b[0m| : |\u001b[43mB\u001b[0m: |\n",
      "+---------+\n",
      "\n"
     ]
    }
   ],
   "source": [
    "# Display the game state\n",
    "env.render()"
   ]
  },
  {
   "cell_type": "code",
   "execution_count": 166,
   "metadata": {
    "collapsed": true
   },
   "outputs": [],
   "source": [
    "n_states = env.observation_space.n\n",
    "n_actions = env.action_space.n\n",
    "\n",
    "def get_random_policy():\n",
    "    return np.random.randint(0, high=n_actions, size=n_states)"
   ]
  },
  {
   "cell_type": "code",
   "execution_count": 167,
   "metadata": {
    "collapsed": true
   },
   "outputs": [],
   "source": [
    "from itertools import count\n",
    "\n",
    "def sample_reward(env, policy, t_max=100):\n",
    "    s = env.reset()\n",
    "    total_reward = 0\n",
    "    \n",
    "    action = policy[s]\n",
    "    \n",
    "    for t in count():\n",
    "        new_obs, reward, is_done, _ = env.step(action)\n",
    "        total_reward += reward\n",
    "        \n",
    "        action = policy[new_obs]\n",
    "        \n",
    "        if is_done or t > t_max:\n",
    "            break\n",
    "    \n",
    "    return total_reward"
   ]
  },
  {
   "cell_type": "code",
   "execution_count": 168,
   "metadata": {
    "collapsed": true
   },
   "outputs": [],
   "source": [
    "def evaluate(policy, n_times=100):\n",
    "    rewards = [sample_reward(env, policy) for _ in range(n_times)]\n",
    "    return float(np.mean(rewards))"
   ]
  },
  {
   "cell_type": "code",
   "execution_count": 169,
   "metadata": {
    "collapsed": true
   },
   "outputs": [],
   "source": [
    "def crossover(policy1, policy2, p=0.5):\n",
    "    \"\"\"\n",
    "    For each state, with probability `p` take action from `policy1`, else `policy2`.\n",
    "    \"\"\"\n",
    "    new_policy = []\n",
    "    for i in range(len(policy1)):\n",
    "        eps = np.random.rand()\n",
    "        if eps < p:\n",
    "            new_policy.append(policy1[i])\n",
    "        else:\n",
    "            new_policy.append(policy2[i])\n",
    "    return new_policy"
   ]
  },
  {
   "cell_type": "code",
   "execution_count": 170,
   "metadata": {
    "collapsed": true
   },
   "outputs": [],
   "source": [
    "def mutation(policy, p=0.1):\n",
    "    \"\"\"\n",
    "    For each state, with probability `p` replace action with random action\n",
    "    Tip: mutation can be written as crossover with random policy\n",
    "    \"\"\"\n",
    "    return crossover(get_random_policy(), policy, p)"
   ]
  },
  {
   "cell_type": "code",
   "execution_count": 171,
   "metadata": {},
   "outputs": [
    {
     "name": "stdout",
     "output_type": "stream",
     "text": [
      "initializing...\n"
     ]
    }
   ],
   "source": [
    "n_epochs = 10     # How many cycles to make\n",
    "pool_size = 20     # How many policies to maintain\n",
    "n_crossovers = 10  # How many crossovers to make on each step\n",
    "n_mutations = 10   # How many mutations to make on each tick\n",
    "\n",
    "print(\"initializing...\")\n",
    "pool = [get_random_policy() for _ in range(pool_size)]\n",
    "pool_scores = [evaluate(policy) for policy in pool]"
   ]
  },
  {
   "cell_type": "code",
   "execution_count": 172,
   "metadata": {
    "scrolled": false
   },
   "outputs": [
    {
     "name": "stdout",
     "output_type": "stream",
     "text": [
      "Epoch 0:\n",
      "best score: -468.57\n",
      "Epoch 1:\n",
      "best score: -476.04\n",
      "Epoch 2:\n",
      "best score: -475.86\n",
      "Epoch 3:\n",
      "best score: -457.32\n",
      "Epoch 4:\n",
      "best score: -477.21\n",
      "Epoch 5:\n",
      "best score: -403.14\n",
      "Epoch 6:\n",
      "best score: -385.86\n",
      "Epoch 7:\n",
      "best score: -430.5\n",
      "Epoch 8:\n",
      "best score: -430.23\n",
      "Epoch 9:\n",
      "best score: -393.78\n"
     ]
    }
   ],
   "source": [
    "for epoch in range(n_epochs):\n",
    "    print(\"Epoch %s:\" % epoch)\n",
    "    \n",
    "    crossovered = [crossover(pool[ind1], pool[ind2])\n",
    "                   for (ind1, ind2) in [np.random.choice(np.arange(len(pool)), size=2, replace=False)\n",
    "                                        for _ in range(n_crossovers)]]\n",
    "    \n",
    "    mutated = [mutation(pool[np.random.choice(np.arange(len(pool)))]) for _ in range(n_mutations)]\n",
    "    \n",
    "    assert type(crossovered) == type(mutated) == list\n",
    "    \n",
    "    # Add new policies to the pool\n",
    "    pool.extend(crossovered)\n",
    "    pool.extend(mutated)\n",
    "    pool_scores = [evaluate(policy) for policy in pool]\n",
    "    \n",
    "    # Select `pool_size` best policies\n",
    "    selected_indices = np.argsort(pool_scores)[-pool_size:]\n",
    "    pool = [pool[i] for i in selected_indices]\n",
    "    pool_scores = [pool_scores[i] for i in selected_indices]\n",
    "\n",
    "    # Print the best policy score so far (last in ascending score order)\n",
    "    print(\"best score:\", pool_scores[-1])"
   ]
  },
  {
   "cell_type": "markdown",
   "metadata": {},
   "source": [
    "# Долго не взлетает..."
   ]
  },
  {
   "cell_type": "markdown",
   "metadata": {},
   "source": [
    "Решим с помощью табличного q-learning'a."
   ]
  },
  {
   "cell_type": "code",
   "execution_count": 173,
   "metadata": {},
   "outputs": [
    {
     "name": "stderr",
     "output_type": "stream",
     "text": [
      "[2017-10-22 15:49:38,026] Making new env: Taxi-v2\n"
     ]
    },
    {
     "name": "stdout",
     "output_type": "stream",
     "text": [
      "[Epoch 0] - Reward -164, Duration 95, EPS 0.0999\n",
      "[Epoch 100] - Reward 14, Duration 7, EPS 0.09038873549665954\n",
      "[Epoch 200] - Reward -170, Duration 146, EPS 0.08178301806491572\n",
      "[Epoch 300] - Reward 12, Duration 9, EPS 0.07399663251239438\n",
      "[Epoch 400] - Reward 9, Duration 12, EPS 0.0669515720100734\n",
      "[Epoch 500] - Reward 14, Duration 7, EPS 0.060577256591632454\n",
      "[Epoch 600] - Reward 4, Duration 17, EPS 0.05480982605780123\n",
      "[Epoch 700] - Reward 13, Duration 8, EPS 0.049591500201766864\n",
      "[Epoch 800] - Reward 7, Duration 14, EPS 0.04486999994614655\n",
      "[Epoch 900] - Reward -2, Duration 14, EPS 0.04059802359226594\n",
      "[Epoch 1000] - Reward 11, Duration 10, EPS 0.03673277293461932\n",
      "[Epoch 1100] - Reward 4, Duration 17, EPS 0.03323552449295458\n",
      "[Epoch 1200] - Reward 5, Duration 16, EPS 0.030071241566430654\n",
      "[Epoch 1300] - Reward 4, Duration 17, EPS 0.027208223223265812\n",
      "[Epoch 1400] - Reward 2, Duration 10, EPS 0.02461778670932776\n",
      "[Epoch 1500] - Reward 6, Duration 15, EPS 0.022273980093920013\n",
      "[Epoch 1600] - Reward 13, Duration 8, EPS 0.020153322273945905\n",
      "[Epoch 1700] - Reward -1, Duration 22, EPS 0.018234567731718058\n",
      "[Epoch 1800] - Reward 6, Duration 15, EPS 0.01649849368967153\n",
      "[Epoch 1900] - Reward 10, Duration 11, EPS 0.014927707529619883\n"
     ]
    },
    {
     "data": {
      "image/png": "[encoded data removed]",
      "text/plain": [
       "<matplotlib.figure.Figure at 0x10c6aab38>"
      ]
     },
     "metadata": {},
     "output_type": "display_data"
    },
    {
     "data": {
      "image/png": "[encoded data removed]",
      "text/plain": [
       "<matplotlib.figure.Figure at 0x10d062f28>"
      ]
     },
     "metadata": {},
     "output_type": "display_data"
    }
   ],
   "source": [
    "import gym\n",
    "\n",
    "env = gym.make(\"Taxi-v2\")\n",
    "\n",
    "q_table = np.zeros((n_states, n_actions))  # Таблица для q-learning'a\n",
    "\n",
    "LR = 0.8\n",
    "EPS = 0.1\n",
    "DISCOUNT = 0.99  # Ценность предыдущего значения таблицы\n",
    "N_EPOCHS = 2000\n",
    "PRINT_EACH = 100\n",
    "\n",
    "all_rewards = []    # Наглады каждоый эпохи\n",
    "all_durations = []  # Длительности каждой эпохи\n",
    "\n",
    "for epoch in range(N_EPOCHS):\n",
    "    local_reward = 0\n",
    "    state = env.reset()\n",
    "\n",
    "    for t in count():\n",
    "        \n",
    "        # Exploration-Exploitation Trade-off\n",
    "        if np.random.rand() < EPS:\n",
    "            action = env.action_space.sample()  # Exploration\n",
    "        else:\n",
    "            action = np.argmax(q_table[state])  # Exploitation - выбираю действие с\n",
    "                                                # максимальной наградой\n",
    "        \n",
    "        next_state, reward, done, _ = env.step(action)  # Делаю шаг\n",
    "        local_reward += reward\n",
    "        if done:\n",
    "            all_durations.append(t + 1)\n",
    "            all_rewards.append(local_reward)\n",
    "            EPS *= 0.999  # Уменьшаю вероятноть Exploration'a\n",
    "            break\n",
    "\n",
    "        # Обновляю `q_table`:          <....    Add reward to discounted max    ......>\n",
    "        q_table[state, action] += LR * (reward + DISCOUNT * np.max(q_table[next_state]) - \n",
    "        #                              <....  Prev value  ....>\n",
    "                                        q_table[state, action])\n",
    "\n",
    "        state = next_state  # Update `state`\n",
    "        \n",
    "    if epoch % PRINT_EACH == 0:\n",
    "        print('[Epoch {}] - Reward {}, Duration {}, EPS {}'.format(epoch, all_rewards[-1],\n",
    "                                                                   all_durations[-1], EPS))\n",
    "        \n",
    "plt.plot(all_rewards)\n",
    "plt.title('Rewards')\n",
    "plt.show()\n",
    "\n",
    "plt.plot(all_durations)\n",
    "plt.title('Durations')\n",
    "plt.show()"
   ]
  }
 ],
 "metadata": {
  "kernelspec": {
   "display_name": "Python 3",
   "language": "python",
   "name": "python3"
  },
  "language_info": {
   "codemirror_mode": {
    "name": "ipython",
    "version": 3
   },
   "file_extension": ".py",
   "mimetype": "text/x-python",
   "name": "python",
   "nbconvert_exporter": "python",
   "pygments_lexer": "ipython3",
   "version": "3.6.2"
  }
 },
 "nbformat": 4,
 "nbformat_minor": 1
}
